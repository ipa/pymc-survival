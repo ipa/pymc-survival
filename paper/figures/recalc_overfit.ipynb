{
 "cells": [
  {
   "cell_type": "code",
   "execution_count": 1,
   "id": "3a4fb7f0-3f6f-4a46-9ff8-2f804cd81688",
   "metadata": {},
   "outputs": [],
   "source": [
    "%load_ext autoreload\n",
    "%autoreload 2"
   ]
  },
  {
   "cell_type": "code",
   "execution_count": 59,
   "id": "7f73c84b-e5be-4046-894f-66d7bcd43735",
   "metadata": {},
   "outputs": [],
   "source": [
    "import sys\n",
    "import os\n",
    "import joblib\n",
    "import pandas as pd\n",
    "from tqdm import tqdm\n",
    "import seaborn as sns\n",
    "from sklearn.pipeline import Pipeline\n",
    "from pmsurv.models.exponential_model import ExponentialModel\n",
    "from pmsurv.models.weibull_linear import WeibullModelLinear\n",
    "from pmsurv.models.weibull_nn import WeibullModelNN\n",
    "import matplotlib.pyplot as plt"
   ]
  },
  {
   "cell_type": "code",
   "execution_count": 3,
   "id": "e4278ccb-9631-497c-998c-7998bf80433f",
   "metadata": {},
   "outputs": [],
   "source": [
    "sys.path.append(\"../experiments\")"
   ]
  },
  {
   "cell_type": "code",
   "execution_count": 4,
   "id": "5604a90f-e658-42a8-967c-44e9a6572798",
   "metadata": {},
   "outputs": [],
   "source": [
    "results_dir = '../experiments/results' #\"U:/src/pymc-survival/examples/experiments/results\"\n",
    "experiment_name = 'cox_aids'\n",
    "results_file = os.path.join(results_dir, experiment_name, 'results.csv')\n",
    "results = pd.read_csv(results_file)"
   ]
  },
  {
   "cell_type": "code",
   "execution_count": 8,
   "id": "917a7d5e-e0e3-408b-b028-50530e1c4c31",
   "metadata": {},
   "outputs": [
    {
     "data": {
      "text/html": [
       "<div>\n",
       "<style scoped>\n",
       "    .dataframe tbody tr th:only-of-type {\n",
       "        vertical-align: middle;\n",
       "    }\n",
       "\n",
       "    .dataframe tbody tr th {\n",
       "        vertical-align: top;\n",
       "    }\n",
       "\n",
       "    .dataframe thead th {\n",
       "        text-align: right;\n",
       "    }\n",
       "</style>\n",
       "<table border=\"1\" class=\"dataframe\">\n",
       "  <thead>\n",
       "    <tr style=\"text-align: right;\">\n",
       "      <th></th>\n",
       "      <th>Unnamed: 0</th>\n",
       "      <th>experiment</th>\n",
       "      <th>model</th>\n",
       "      <th>cindex</th>\n",
       "      <th>starttime</th>\n",
       "      <th>run</th>\n",
       "      <th>hyperparams</th>\n",
       "    </tr>\n",
       "  </thead>\n",
       "  <tbody>\n",
       "    <tr>\n",
       "      <th>0</th>\n",
       "      <td>0</td>\n",
       "      <td>data/aids</td>\n",
       "      <td>cox</td>\n",
       "      <td>0.693176</td>\n",
       "      <td>2211211542</td>\n",
       "      <td>0</td>\n",
       "      <td>OrderedDict([('model__alpha', 0.80214526199554...</td>\n",
       "    </tr>\n",
       "    <tr>\n",
       "      <th>1</th>\n",
       "      <td>0</td>\n",
       "      <td>data/aids</td>\n",
       "      <td>cox</td>\n",
       "      <td>0.761367</td>\n",
       "      <td>2211211542</td>\n",
       "      <td>1</td>\n",
       "      <td>OrderedDict([('model__alpha', 0.89999108958011...</td>\n",
       "    </tr>\n",
       "    <tr>\n",
       "      <th>2</th>\n",
       "      <td>0</td>\n",
       "      <td>data/aids</td>\n",
       "      <td>cox</td>\n",
       "      <td>0.728664</td>\n",
       "      <td>2211211542</td>\n",
       "      <td>2</td>\n",
       "      <td>OrderedDict([('model__alpha', 0.89502507065208...</td>\n",
       "    </tr>\n",
       "    <tr>\n",
       "      <th>3</th>\n",
       "      <td>0</td>\n",
       "      <td>data/aids</td>\n",
       "      <td>cox</td>\n",
       "      <td>0.769695</td>\n",
       "      <td>2211211542</td>\n",
       "      <td>3</td>\n",
       "      <td>OrderedDict([('model__alpha', 0.9), ('selector...</td>\n",
       "    </tr>\n",
       "    <tr>\n",
       "      <th>4</th>\n",
       "      <td>0</td>\n",
       "      <td>data/aids</td>\n",
       "      <td>cox</td>\n",
       "      <td>0.766129</td>\n",
       "      <td>2211211542</td>\n",
       "      <td>4</td>\n",
       "      <td>OrderedDict([('model__alpha', 0.89860942034400...</td>\n",
       "    </tr>\n",
       "    <tr>\n",
       "      <th>...</th>\n",
       "      <td>...</td>\n",
       "      <td>...</td>\n",
       "      <td>...</td>\n",
       "      <td>...</td>\n",
       "      <td>...</td>\n",
       "      <td>...</td>\n",
       "      <td>...</td>\n",
       "    </tr>\n",
       "    <tr>\n",
       "      <th>95</th>\n",
       "      <td>0</td>\n",
       "      <td>data/aids</td>\n",
       "      <td>cox</td>\n",
       "      <td>0.793355</td>\n",
       "      <td>2211211542</td>\n",
       "      <td>95</td>\n",
       "      <td>OrderedDict([('model__alpha', 0.89869655397545...</td>\n",
       "    </tr>\n",
       "    <tr>\n",
       "      <th>96</th>\n",
       "      <td>0</td>\n",
       "      <td>data/aids</td>\n",
       "      <td>cox</td>\n",
       "      <td>0.785756</td>\n",
       "      <td>2211211542</td>\n",
       "      <td>96</td>\n",
       "      <td>OrderedDict([('model__alpha', 0.9), ('selector...</td>\n",
       "    </tr>\n",
       "    <tr>\n",
       "      <th>97</th>\n",
       "      <td>0</td>\n",
       "      <td>data/aids</td>\n",
       "      <td>cox</td>\n",
       "      <td>0.790997</td>\n",
       "      <td>2211211542</td>\n",
       "      <td>97</td>\n",
       "      <td>OrderedDict([('model__alpha', 0.86551866944561...</td>\n",
       "    </tr>\n",
       "    <tr>\n",
       "      <th>98</th>\n",
       "      <td>0</td>\n",
       "      <td>data/aids</td>\n",
       "      <td>cox</td>\n",
       "      <td>0.729637</td>\n",
       "      <td>2211211542</td>\n",
       "      <td>98</td>\n",
       "      <td>OrderedDict([('model__alpha', 0.89965941137311...</td>\n",
       "    </tr>\n",
       "    <tr>\n",
       "      <th>99</th>\n",
       "      <td>0</td>\n",
       "      <td>data/aids</td>\n",
       "      <td>cox</td>\n",
       "      <td>0.774631</td>\n",
       "      <td>2211211542</td>\n",
       "      <td>99</td>\n",
       "      <td>OrderedDict([('model__alpha', 0.9), ('selector...</td>\n",
       "    </tr>\n",
       "  </tbody>\n",
       "</table>\n",
       "<p>100 rows × 7 columns</p>\n",
       "</div>"
      ],
      "text/plain": [
       "    Unnamed: 0 experiment model    cindex   starttime  run  \\\n",
       "0            0  data/aids   cox  0.693176  2211211542    0   \n",
       "1            0  data/aids   cox  0.761367  2211211542    1   \n",
       "2            0  data/aids   cox  0.728664  2211211542    2   \n",
       "3            0  data/aids   cox  0.769695  2211211542    3   \n",
       "4            0  data/aids   cox  0.766129  2211211542    4   \n",
       "..         ...        ...   ...       ...         ...  ...   \n",
       "95           0  data/aids   cox  0.793355  2211211542   95   \n",
       "96           0  data/aids   cox  0.785756  2211211542   96   \n",
       "97           0  data/aids   cox  0.790997  2211211542   97   \n",
       "98           0  data/aids   cox  0.729637  2211211542   98   \n",
       "99           0  data/aids   cox  0.774631  2211211542   99   \n",
       "\n",
       "                                          hyperparams  \n",
       "0   OrderedDict([('model__alpha', 0.80214526199554...  \n",
       "1   OrderedDict([('model__alpha', 0.89999108958011...  \n",
       "2   OrderedDict([('model__alpha', 0.89502507065208...  \n",
       "3   OrderedDict([('model__alpha', 0.9), ('selector...  \n",
       "4   OrderedDict([('model__alpha', 0.89860942034400...  \n",
       "..                                                ...  \n",
       "95  OrderedDict([('model__alpha', 0.89869655397545...  \n",
       "96  OrderedDict([('model__alpha', 0.9), ('selector...  \n",
       "97  OrderedDict([('model__alpha', 0.86551866944561...  \n",
       "98  OrderedDict([('model__alpha', 0.89965941137311...  \n",
       "99  OrderedDict([('model__alpha', 0.9), ('selector...  \n",
       "\n",
       "[100 rows x 7 columns]"
      ]
     },
     "execution_count": 8,
     "metadata": {},
     "output_type": "execute_result"
    }
   ],
   "source": [
    "results"
   ]
  },
  {
   "cell_type": "code",
   "execution_count": 15,
   "id": "adaa9783-ebd4-4780-8b30-0d039544c5cc",
   "metadata": {},
   "outputs": [
    {
     "name": "stdout",
     "output_type": "stream",
     "text": [
      "../experiments/results/cox_aids/2211211542/0\n"
     ]
    }
   ],
   "source": [
    "run_idx = 0\n",
    "starttime = results.iloc[run_idx].starttime\n",
    "run_nr = results.iloc[run_idx].run\n",
    "run_path = os.path.join(results_dir, experiment_name, str(starttime), str(run_nr))\n",
    "print(run_path)"
   ]
  },
  {
   "cell_type": "code",
   "execution_count": 25,
   "id": "63d9ce64-3177-4495-8351-d2a9bbb5fe4c",
   "metadata": {},
   "outputs": [],
   "source": [
    "model = joblib.load(os.path.join(run_path, 'model.pkl'))\n",
    "data = joblib.load(os.path.join(run_path, 'data.pkl'))\n",
    "X_train, X_test, y_train, y_test = data"
   ]
  },
  {
   "cell_type": "code",
   "execution_count": 28,
   "id": "fcc00a43-f1a4-4835-9c4a-7fe9b050d024",
   "metadata": {},
   "outputs": [],
   "source": [
    "c_index_train = model.score(X_train, y_train)\n",
    "c_index_test = model.score(X_test, y_test)\n",
    "cindex_diff = c_index_train - c_index_test"
   ]
  },
  {
   "cell_type": "code",
   "execution_count": 29,
   "id": "b12ad11e-24d1-42ad-9493-da828fa01c69",
   "metadata": {},
   "outputs": [
    {
     "name": "stdout",
     "output_type": "stream",
     "text": [
      "0.8014215455096678 0.6931758530183727 0.10824569249129512\n"
     ]
    }
   ],
   "source": [
    "print(c_index_train, c_index_test, cindex_diff)"
   ]
  },
  {
   "cell_type": "markdown",
   "id": "b054b009-eb6e-45b3-803a-6b8cc261744e",
   "metadata": {},
   "source": [
    "# Do"
   ]
  },
  {
   "cell_type": "code",
   "execution_count": 33,
   "id": "d9a35886-5aa9-4ccb-91e5-3dbd31f76d77",
   "metadata": {},
   "outputs": [],
   "source": [
    "results_new = pd.DataFrame(columns=['experiment', 'starttime', 'run', 'cindex_orig', 'cindex_train', 'cindex_test', 'cindex_diff'])"
   ]
  },
  {
   "cell_type": "code",
   "execution_count": 57,
   "id": "5c51b97b-5ddf-4e50-9660-fbcc126acd78",
   "metadata": {},
   "outputs": [],
   "source": [
    "experiment_name = 'pm_nnwb_veteran'"
   ]
  },
  {
   "cell_type": "code",
   "execution_count": 60,
   "id": "a985bb3b-ba6b-4ca8-a37b-a1824bc19d0f",
   "metadata": {
    "scrolled": true,
    "tags": []
   },
   "outputs": [
    {
     "name": "stderr",
     "output_type": "stream",
     "text": [
      "0it [00:00, ?it/s]"
     ]
    },
    {
     "name": "stdout",
     "output_type": "stream",
     "text": [
      "[8]\n",
      "[8, 8, 2]\n",
      "create cached with empty data\n",
      "With k False\n"
     ]
    },
    {
     "name": "stderr",
     "output_type": "stream",
     "text": [
      "/home/pymc/src/pmsurv/models/weibull_base.py:69: UserWarning: The effect of Potentials on other parameters is ignored during posterior predictive sampling. This is likely to lead to invalid or biased predictive samples.\n",
      "  ppc = pm.sample_posterior_predictive(self.trace, model=self.cached_model, return_inferencedata=False,\n",
      "Sampling: []\n",
      "INFO:pymc:Sampling: []\n",
      "/home/pymc/src/pmsurv/models/weibull_base.py:69: UserWarning: The effect of Potentials on other parameters is ignored during posterior predictive sampling. This is likely to lead to invalid or biased predictive samples.\n",
      "  ppc = pm.sample_posterior_predictive(self.trace, model=self.cached_model, return_inferencedata=False,\n",
      "Sampling: []\n",
      "INFO:pymc:Sampling: []\n",
      "1it [00:03,  3.93s/it]/home/pymc/src/pmsurv/models/weibull_base.py:69: UserWarning: The effect of Potentials on other parameters is ignored during posterior predictive sampling. This is likely to lead to invalid or biased predictive samples.\n",
      "  ppc = pm.sample_posterior_predictive(self.trace, model=self.cached_model, return_inferencedata=False,\n",
      "Sampling: []\n",
      "INFO:pymc:Sampling: []\n"
     ]
    },
    {
     "name": "stdout",
     "output_type": "stream",
     "text": [
      "[8]\n",
      "[8, 8, 2]\n",
      "create cached with empty data\n",
      "With k False\n"
     ]
    },
    {
     "name": "stderr",
     "output_type": "stream",
     "text": [
      "/home/pymc/src/pmsurv/models/weibull_base.py:69: UserWarning: The effect of Potentials on other parameters is ignored during posterior predictive sampling. This is likely to lead to invalid or biased predictive samples.\n",
      "  ppc = pm.sample_posterior_predictive(self.trace, model=self.cached_model, return_inferencedata=False,\n",
      "Sampling: []\n",
      "INFO:pymc:Sampling: []\n",
      "2it [00:05,  2.29s/it]/home/pymc/src/pmsurv/models/weibull_base.py:69: UserWarning: The effect of Potentials on other parameters is ignored during posterior predictive sampling. This is likely to lead to invalid or biased predictive samples.\n",
      "  ppc = pm.sample_posterior_predictive(self.trace, model=self.cached_model, return_inferencedata=False,\n",
      "Sampling: []\n",
      "INFO:pymc:Sampling: []\n"
     ]
    },
    {
     "name": "stdout",
     "output_type": "stream",
     "text": [
      "[8]\n",
      "[8, 8, 2]\n",
      "create cached with empty data\n",
      "With k False\n"
     ]
    },
    {
     "name": "stderr",
     "output_type": "stream",
     "text": [
      "/home/pymc/src/pmsurv/models/weibull_base.py:69: UserWarning: The effect of Potentials on other parameters is ignored during posterior predictive sampling. This is likely to lead to invalid or biased predictive samples.\n",
      "  ppc = pm.sample_posterior_predictive(self.trace, model=self.cached_model, return_inferencedata=False,\n",
      "Sampling: []\n",
      "INFO:pymc:Sampling: []\n",
      "3it [00:06,  1.79s/it]"
     ]
    },
    {
     "name": "stdout",
     "output_type": "stream",
     "text": [
      "[9]\n",
      "[9, 9, 2]\n",
      "create cached with empty data\n",
      "With k False\n"
     ]
    },
    {
     "name": "stderr",
     "output_type": "stream",
     "text": [
      "/home/pymc/src/pmsurv/models/weibull_base.py:69: UserWarning: The effect of Potentials on other parameters is ignored during posterior predictive sampling. This is likely to lead to invalid or biased predictive samples.\n",
      "  ppc = pm.sample_posterior_predictive(self.trace, model=self.cached_model, return_inferencedata=False,\n",
      "Sampling: []\n",
      "INFO:pymc:Sampling: []\n",
      "/home/pymc/src/pmsurv/models/weibull_base.py:69: UserWarning: The effect of Potentials on other parameters is ignored during posterior predictive sampling. This is likely to lead to invalid or biased predictive samples.\n",
      "  ppc = pm.sample_posterior_predictive(self.trace, model=self.cached_model, return_inferencedata=False,\n",
      "Sampling: []\n",
      "INFO:pymc:Sampling: []\n",
      "4it [00:07,  1.63s/it]/home/pymc/src/pmsurv/models/weibull_base.py:69: UserWarning: The effect of Potentials on other parameters is ignored during posterior predictive sampling. This is likely to lead to invalid or biased predictive samples.\n",
      "  ppc = pm.sample_posterior_predictive(self.trace, model=self.cached_model, return_inferencedata=False,\n",
      "Sampling: []\n",
      "INFO:pymc:Sampling: []\n"
     ]
    },
    {
     "name": "stdout",
     "output_type": "stream",
     "text": [
      "[8]\n",
      "[8, 8, 2]\n",
      "create cached with empty data\n",
      "With k False\n"
     ]
    },
    {
     "name": "stderr",
     "output_type": "stream",
     "text": [
      "/home/pymc/src/pmsurv/models/weibull_base.py:69: UserWarning: The effect of Potentials on other parameters is ignored during posterior predictive sampling. This is likely to lead to invalid or biased predictive samples.\n",
      "  ppc = pm.sample_posterior_predictive(self.trace, model=self.cached_model, return_inferencedata=False,\n",
      "Sampling: []\n",
      "INFO:pymc:Sampling: []\n",
      "5it [00:08,  1.48s/it]/home/pymc/src/pmsurv/models/weibull_base.py:69: UserWarning: The effect of Potentials on other parameters is ignored during posterior predictive sampling. This is likely to lead to invalid or biased predictive samples.\n",
      "  ppc = pm.sample_posterior_predictive(self.trace, model=self.cached_model, return_inferencedata=False,\n",
      "Sampling: []\n",
      "INFO:pymc:Sampling: []\n"
     ]
    },
    {
     "name": "stdout",
     "output_type": "stream",
     "text": [
      "[8]\n",
      "[8, 8, 2]\n",
      "create cached with empty data\n",
      "With k False\n"
     ]
    },
    {
     "name": "stderr",
     "output_type": "stream",
     "text": [
      "/home/pymc/src/pmsurv/models/weibull_base.py:69: UserWarning: The effect of Potentials on other parameters is ignored during posterior predictive sampling. This is likely to lead to invalid or biased predictive samples.\n",
      "  ppc = pm.sample_posterior_predictive(self.trace, model=self.cached_model, return_inferencedata=False,\n",
      "Sampling: []\n",
      "INFO:pymc:Sampling: []\n",
      "6it [00:10,  1.38s/it]/home/pymc/src/pmsurv/models/weibull_base.py:69: UserWarning: The effect of Potentials on other parameters is ignored during posterior predictive sampling. This is likely to lead to invalid or biased predictive samples.\n",
      "  ppc = pm.sample_posterior_predictive(self.trace, model=self.cached_model, return_inferencedata=False,\n",
      "Sampling: []\n",
      "INFO:pymc:Sampling: []\n"
     ]
    },
    {
     "name": "stdout",
     "output_type": "stream",
     "text": [
      "[8]\n",
      "[8, 8, 2]\n",
      "create cached with empty data\n",
      "With k False\n"
     ]
    },
    {
     "name": "stderr",
     "output_type": "stream",
     "text": [
      "/home/pymc/src/pmsurv/models/weibull_base.py:69: UserWarning: The effect of Potentials on other parameters is ignored during posterior predictive sampling. This is likely to lead to invalid or biased predictive samples.\n",
      "  ppc = pm.sample_posterior_predictive(self.trace, model=self.cached_model, return_inferencedata=False,\n",
      "Sampling: []\n",
      "INFO:pymc:Sampling: []\n",
      "7it [00:11,  1.31s/it]"
     ]
    },
    {
     "name": "stdout",
     "output_type": "stream",
     "text": [
      "[8]\n",
      "[8, 8, 2]\n",
      "create cached with empty data\n",
      "With k False\n"
     ]
    },
    {
     "name": "stderr",
     "output_type": "stream",
     "text": [
      "/home/pymc/src/pmsurv/models/weibull_base.py:69: UserWarning: The effect of Potentials on other parameters is ignored during posterior predictive sampling. This is likely to lead to invalid or biased predictive samples.\n",
      "  ppc = pm.sample_posterior_predictive(self.trace, model=self.cached_model, return_inferencedata=False,\n",
      "Sampling: []\n",
      "INFO:pymc:Sampling: []\n",
      "/home/pymc/src/pmsurv/models/weibull_base.py:69: UserWarning: The effect of Potentials on other parameters is ignored during posterior predictive sampling. This is likely to lead to invalid or biased predictive samples.\n",
      "  ppc = pm.sample_posterior_predictive(self.trace, model=self.cached_model, return_inferencedata=False,\n",
      "Sampling: []\n",
      "INFO:pymc:Sampling: []\n",
      "8it [00:12,  1.30s/it]/home/pymc/src/pmsurv/models/weibull_base.py:69: UserWarning: The effect of Potentials on other parameters is ignored during posterior predictive sampling. This is likely to lead to invalid or biased predictive samples.\n",
      "  ppc = pm.sample_posterior_predictive(self.trace, model=self.cached_model, return_inferencedata=False,\n",
      "Sampling: []\n",
      "INFO:pymc:Sampling: []\n"
     ]
    },
    {
     "name": "stdout",
     "output_type": "stream",
     "text": [
      "[8]\n",
      "[8, 8, 2]\n",
      "create cached with empty data\n",
      "With k False\n"
     ]
    },
    {
     "name": "stderr",
     "output_type": "stream",
     "text": [
      "/home/pymc/src/pmsurv/models/weibull_base.py:69: UserWarning: The effect of Potentials on other parameters is ignored during posterior predictive sampling. This is likely to lead to invalid or biased predictive samples.\n",
      "  ppc = pm.sample_posterior_predictive(self.trace, model=self.cached_model, return_inferencedata=False,\n",
      "Sampling: []\n",
      "INFO:pymc:Sampling: []\n",
      "9it [00:13,  1.28s/it]/home/pymc/src/pmsurv/models/weibull_base.py:69: UserWarning: The effect of Potentials on other parameters is ignored during posterior predictive sampling. This is likely to lead to invalid or biased predictive samples.\n",
      "  ppc = pm.sample_posterior_predictive(self.trace, model=self.cached_model, return_inferencedata=False,\n",
      "Sampling: []\n",
      "INFO:pymc:Sampling: []\n"
     ]
    },
    {
     "name": "stdout",
     "output_type": "stream",
     "text": [
      "[8]\n",
      "[8, 8, 2]\n",
      "create cached with empty data\n",
      "With k False\n"
     ]
    },
    {
     "name": "stderr",
     "output_type": "stream",
     "text": [
      "/home/pymc/src/pmsurv/models/weibull_base.py:69: UserWarning: The effect of Potentials on other parameters is ignored during posterior predictive sampling. This is likely to lead to invalid or biased predictive samples.\n",
      "  ppc = pm.sample_posterior_predictive(self.trace, model=self.cached_model, return_inferencedata=False,\n",
      "Sampling: []\n",
      "INFO:pymc:Sampling: []\n",
      "10it [00:14,  1.24s/it]/home/pymc/src/pmsurv/models/weibull_base.py:69: UserWarning: The effect of Potentials on other parameters is ignored during posterior predictive sampling. This is likely to lead to invalid or biased predictive samples.\n",
      "  ppc = pm.sample_posterior_predictive(self.trace, model=self.cached_model, return_inferencedata=False,\n",
      "Sampling: []\n",
      "INFO:pymc:Sampling: []\n"
     ]
    },
    {
     "name": "stdout",
     "output_type": "stream",
     "text": [
      "[8]\n",
      "[8, 8, 2]\n",
      "create cached with empty data\n",
      "With k False\n"
     ]
    },
    {
     "name": "stderr",
     "output_type": "stream",
     "text": [
      "/home/pymc/src/pmsurv/models/weibull_base.py:69: UserWarning: The effect of Potentials on other parameters is ignored during posterior predictive sampling. This is likely to lead to invalid or biased predictive samples.\n",
      "  ppc = pm.sample_posterior_predictive(self.trace, model=self.cached_model, return_inferencedata=False,\n",
      "Sampling: []\n",
      "INFO:pymc:Sampling: []\n",
      "11it [00:15,  1.19s/it]/home/pymc/src/pmsurv/models/weibull_base.py:69: UserWarning: The effect of Potentials on other parameters is ignored during posterior predictive sampling. This is likely to lead to invalid or biased predictive samples.\n",
      "  ppc = pm.sample_posterior_predictive(self.trace, model=self.cached_model, return_inferencedata=False,\n",
      "Sampling: []\n",
      "INFO:pymc:Sampling: []\n"
     ]
    },
    {
     "name": "stdout",
     "output_type": "stream",
     "text": [
      "[8]\n",
      "[8, 8, 2]\n",
      "create cached with empty data\n",
      "With k False\n"
     ]
    },
    {
     "name": "stderr",
     "output_type": "stream",
     "text": [
      "/home/pymc/src/pmsurv/models/weibull_base.py:69: UserWarning: The effect of Potentials on other parameters is ignored during posterior predictive sampling. This is likely to lead to invalid or biased predictive samples.\n",
      "  ppc = pm.sample_posterior_predictive(self.trace, model=self.cached_model, return_inferencedata=False,\n",
      "Sampling: []\n",
      "INFO:pymc:Sampling: []\n",
      "12it [00:17,  1.19s/it]/home/pymc/src/pmsurv/models/weibull_base.py:69: UserWarning: The effect of Potentials on other parameters is ignored during posterior predictive sampling. This is likely to lead to invalid or biased predictive samples.\n",
      "  ppc = pm.sample_posterior_predictive(self.trace, model=self.cached_model, return_inferencedata=False,\n",
      "Sampling: []\n",
      "INFO:pymc:Sampling: []\n"
     ]
    },
    {
     "name": "stdout",
     "output_type": "stream",
     "text": [
      "[8]\n",
      "[8, 8, 2]\n",
      "create cached with empty data\n",
      "With k False\n"
     ]
    },
    {
     "name": "stderr",
     "output_type": "stream",
     "text": [
      "/home/pymc/src/pmsurv/models/weibull_base.py:69: UserWarning: The effect of Potentials on other parameters is ignored during posterior predictive sampling. This is likely to lead to invalid or biased predictive samples.\n",
      "  ppc = pm.sample_posterior_predictive(self.trace, model=self.cached_model, return_inferencedata=False,\n",
      "Sampling: []\n",
      "INFO:pymc:Sampling: []\n",
      "13it [00:18,  1.19s/it]/home/pymc/src/pmsurv/models/weibull_base.py:69: UserWarning: The effect of Potentials on other parameters is ignored during posterior predictive sampling. This is likely to lead to invalid or biased predictive samples.\n",
      "  ppc = pm.sample_posterior_predictive(self.trace, model=self.cached_model, return_inferencedata=False,\n",
      "Sampling: []\n",
      "INFO:pymc:Sampling: []\n"
     ]
    },
    {
     "name": "stdout",
     "output_type": "stream",
     "text": [
      "[8]\n",
      "[8, 8, 2]\n",
      "create cached with empty data\n",
      "With k False\n"
     ]
    },
    {
     "name": "stderr",
     "output_type": "stream",
     "text": [
      "/home/pymc/src/pmsurv/models/weibull_base.py:69: UserWarning: The effect of Potentials on other parameters is ignored during posterior predictive sampling. This is likely to lead to invalid or biased predictive samples.\n",
      "  ppc = pm.sample_posterior_predictive(self.trace, model=self.cached_model, return_inferencedata=False,\n",
      "Sampling: []\n",
      "INFO:pymc:Sampling: []\n",
      "14it [00:19,  1.21s/it]/home/pymc/src/pmsurv/models/weibull_base.py:69: UserWarning: The effect of Potentials on other parameters is ignored during posterior predictive sampling. This is likely to lead to invalid or biased predictive samples.\n",
      "  ppc = pm.sample_posterior_predictive(self.trace, model=self.cached_model, return_inferencedata=False,\n",
      "Sampling: []\n",
      "INFO:pymc:Sampling: []\n"
     ]
    },
    {
     "name": "stdout",
     "output_type": "stream",
     "text": [
      "[9]\n",
      "[9, 9, 2]\n",
      "create cached with empty data\n",
      "With k False\n"
     ]
    },
    {
     "name": "stderr",
     "output_type": "stream",
     "text": [
      "/home/pymc/src/pmsurv/models/weibull_base.py:69: UserWarning: The effect of Potentials on other parameters is ignored during posterior predictive sampling. This is likely to lead to invalid or biased predictive samples.\n",
      "  ppc = pm.sample_posterior_predictive(self.trace, model=self.cached_model, return_inferencedata=False,\n",
      "Sampling: []\n",
      "INFO:pymc:Sampling: []\n",
      "15it [00:20,  1.22s/it]"
     ]
    },
    {
     "name": "stdout",
     "output_type": "stream",
     "text": [
      "[8]\n",
      "[8, 8, 2]\n",
      "create cached with empty data\n",
      "With k False\n"
     ]
    },
    {
     "name": "stderr",
     "output_type": "stream",
     "text": [
      "/home/pymc/src/pmsurv/models/weibull_base.py:69: UserWarning: The effect of Potentials on other parameters is ignored during posterior predictive sampling. This is likely to lead to invalid or biased predictive samples.\n",
      "  ppc = pm.sample_posterior_predictive(self.trace, model=self.cached_model, return_inferencedata=False,\n",
      "Sampling: []\n",
      "INFO:pymc:Sampling: []\n",
      "/home/pymc/src/pmsurv/models/weibull_base.py:69: UserWarning: The effect of Potentials on other parameters is ignored during posterior predictive sampling. This is likely to lead to invalid or biased predictive samples.\n",
      "  ppc = pm.sample_posterior_predictive(self.trace, model=self.cached_model, return_inferencedata=False,\n",
      "Sampling: []\n",
      "INFO:pymc:Sampling: []\n",
      "16it [00:22,  1.34s/it]"
     ]
    },
    {
     "name": "stdout",
     "output_type": "stream",
     "text": [
      "[8]\n",
      "[8, 8, 2]\n",
      "create cached with empty data\n",
      "With k False\n"
     ]
    },
    {
     "name": "stderr",
     "output_type": "stream",
     "text": [
      "/home/pymc/src/pmsurv/models/weibull_base.py:69: UserWarning: The effect of Potentials on other parameters is ignored during posterior predictive sampling. This is likely to lead to invalid or biased predictive samples.\n",
      "  ppc = pm.sample_posterior_predictive(self.trace, model=self.cached_model, return_inferencedata=False,\n",
      "Sampling: []\n",
      "INFO:pymc:Sampling: []\n",
      "/home/pymc/src/pmsurv/models/weibull_base.py:69: UserWarning: The effect of Potentials on other parameters is ignored during posterior predictive sampling. This is likely to lead to invalid or biased predictive samples.\n",
      "  ppc = pm.sample_posterior_predictive(self.trace, model=self.cached_model, return_inferencedata=False,\n",
      "Sampling: []\n",
      "INFO:pymc:Sampling: []\n",
      "17it [00:24,  1.64s/it]"
     ]
    },
    {
     "name": "stdout",
     "output_type": "stream",
     "text": [
      "[8]\n",
      "[8, 8, 2]\n",
      "create cached with empty data\n",
      "With k False\n"
     ]
    },
    {
     "name": "stderr",
     "output_type": "stream",
     "text": [
      "/home/pymc/src/pmsurv/models/weibull_base.py:69: UserWarning: The effect of Potentials on other parameters is ignored during posterior predictive sampling. This is likely to lead to invalid or biased predictive samples.\n",
      "  ppc = pm.sample_posterior_predictive(self.trace, model=self.cached_model, return_inferencedata=False,\n",
      "Sampling: []\n",
      "INFO:pymc:Sampling: []\n",
      "/home/pymc/src/pmsurv/models/weibull_base.py:69: UserWarning: The effect of Potentials on other parameters is ignored during posterior predictive sampling. This is likely to lead to invalid or biased predictive samples.\n",
      "  ppc = pm.sample_posterior_predictive(self.trace, model=self.cached_model, return_inferencedata=False,\n",
      "Sampling: []\n",
      "INFO:pymc:Sampling: []\n",
      "18it [00:26,  1.82s/it]/home/pymc/src/pmsurv/models/weibull_base.py:69: UserWarning: The effect of Potentials on other parameters is ignored during posterior predictive sampling. This is likely to lead to invalid or biased predictive samples.\n",
      "  ppc = pm.sample_posterior_predictive(self.trace, model=self.cached_model, return_inferencedata=False,\n",
      "Sampling: []\n",
      "INFO:pymc:Sampling: []\n"
     ]
    },
    {
     "name": "stdout",
     "output_type": "stream",
     "text": [
      "[8]\n",
      "[8, 8, 2]\n",
      "create cached with empty data\n",
      "With k False\n"
     ]
    },
    {
     "name": "stderr",
     "output_type": "stream",
     "text": [
      "/home/pymc/src/pmsurv/models/weibull_base.py:69: UserWarning: The effect of Potentials on other parameters is ignored during posterior predictive sampling. This is likely to lead to invalid or biased predictive samples.\n",
      "  ppc = pm.sample_posterior_predictive(self.trace, model=self.cached_model, return_inferencedata=False,\n",
      "Sampling: []\n",
      "INFO:pymc:Sampling: []\n",
      "19it [00:28,  1.70s/it]"
     ]
    },
    {
     "name": "stdout",
     "output_type": "stream",
     "text": [
      "[8]\n",
      "[8, 8, 2]\n",
      "create cached with empty data\n",
      "With k False\n"
     ]
    },
    {
     "name": "stderr",
     "output_type": "stream",
     "text": [
      "/home/pymc/src/pmsurv/models/weibull_base.py:69: UserWarning: The effect of Potentials on other parameters is ignored during posterior predictive sampling. This is likely to lead to invalid or biased predictive samples.\n",
      "  ppc = pm.sample_posterior_predictive(self.trace, model=self.cached_model, return_inferencedata=False,\n",
      "Sampling: []\n",
      "INFO:pymc:Sampling: []\n",
      "/home/pymc/src/pmsurv/models/weibull_base.py:69: UserWarning: The effect of Potentials on other parameters is ignored during posterior predictive sampling. This is likely to lead to invalid or biased predictive samples.\n",
      "  ppc = pm.sample_posterior_predictive(self.trace, model=self.cached_model, return_inferencedata=False,\n",
      "Sampling: []\n",
      "INFO:pymc:Sampling: []\n",
      "20it [00:29,  1.59s/it]"
     ]
    },
    {
     "name": "stdout",
     "output_type": "stream",
     "text": [
      "[8]\n",
      "[8, 8, 2]\n",
      "create cached with empty data\n",
      "With k False\n"
     ]
    },
    {
     "name": "stderr",
     "output_type": "stream",
     "text": [
      "/home/pymc/src/pmsurv/models/weibull_base.py:69: UserWarning: The effect of Potentials on other parameters is ignored during posterior predictive sampling. This is likely to lead to invalid or biased predictive samples.\n",
      "  ppc = pm.sample_posterior_predictive(self.trace, model=self.cached_model, return_inferencedata=False,\n",
      "Sampling: []\n",
      "INFO:pymc:Sampling: []\n",
      "/home/pymc/src/pmsurv/models/weibull_base.py:69: UserWarning: The effect of Potentials on other parameters is ignored during posterior predictive sampling. This is likely to lead to invalid or biased predictive samples.\n",
      "  ppc = pm.sample_posterior_predictive(self.trace, model=self.cached_model, return_inferencedata=False,\n",
      "Sampling: []\n",
      "INFO:pymc:Sampling: []\n",
      "21it [00:31,  1.53s/it]"
     ]
    },
    {
     "name": "stdout",
     "output_type": "stream",
     "text": [
      "[8]\n",
      "[8, 8, 2]\n",
      "create cached with empty data\n",
      "With k False\n"
     ]
    },
    {
     "name": "stderr",
     "output_type": "stream",
     "text": [
      "/home/pymc/src/pmsurv/models/weibull_base.py:69: UserWarning: The effect of Potentials on other parameters is ignored during posterior predictive sampling. This is likely to lead to invalid or biased predictive samples.\n",
      "  ppc = pm.sample_posterior_predictive(self.trace, model=self.cached_model, return_inferencedata=False,\n",
      "Sampling: []\n",
      "INFO:pymc:Sampling: []\n",
      "/home/pymc/src/pmsurv/models/weibull_base.py:69: UserWarning: The effect of Potentials on other parameters is ignored during posterior predictive sampling. This is likely to lead to invalid or biased predictive samples.\n",
      "  ppc = pm.sample_posterior_predictive(self.trace, model=self.cached_model, return_inferencedata=False,\n",
      "Sampling: []\n",
      "INFO:pymc:Sampling: []\n",
      "22it [00:33,  1.65s/it]"
     ]
    },
    {
     "name": "stdout",
     "output_type": "stream",
     "text": [
      "[9]\n",
      "[9, 9, 2]\n",
      "create cached with empty data\n",
      "With k False\n"
     ]
    },
    {
     "name": "stderr",
     "output_type": "stream",
     "text": [
      "/home/pymc/src/pmsurv/models/weibull_base.py:69: UserWarning: The effect of Potentials on other parameters is ignored during posterior predictive sampling. This is likely to lead to invalid or biased predictive samples.\n",
      "  ppc = pm.sample_posterior_predictive(self.trace, model=self.cached_model, return_inferencedata=False,\n",
      "Sampling: []\n",
      "INFO:pymc:Sampling: []\n",
      "/home/pymc/src/pmsurv/models/weibull_base.py:69: UserWarning: The effect of Potentials on other parameters is ignored during posterior predictive sampling. This is likely to lead to invalid or biased predictive samples.\n",
      "  ppc = pm.sample_posterior_predictive(self.trace, model=self.cached_model, return_inferencedata=False,\n",
      "Sampling: []\n",
      "INFO:pymc:Sampling: []\n",
      "23it [00:34,  1.62s/it]/home/pymc/src/pmsurv/models/weibull_base.py:69: UserWarning: The effect of Potentials on other parameters is ignored during posterior predictive sampling. This is likely to lead to invalid or biased predictive samples.\n",
      "  ppc = pm.sample_posterior_predictive(self.trace, model=self.cached_model, return_inferencedata=False,\n",
      "Sampling: []\n",
      "INFO:pymc:Sampling: []\n"
     ]
    },
    {
     "name": "stdout",
     "output_type": "stream",
     "text": [
      "[8]\n",
      "[8, 8, 2]\n",
      "create cached with empty data\n",
      "With k False\n"
     ]
    },
    {
     "name": "stderr",
     "output_type": "stream",
     "text": [
      "/home/pymc/src/pmsurv/models/weibull_base.py:69: UserWarning: The effect of Potentials on other parameters is ignored during posterior predictive sampling. This is likely to lead to invalid or biased predictive samples.\n",
      "  ppc = pm.sample_posterior_predictive(self.trace, model=self.cached_model, return_inferencedata=False,\n",
      "Sampling: []\n",
      "INFO:pymc:Sampling: []\n",
      "24it [00:35,  1.50s/it]"
     ]
    },
    {
     "name": "stdout",
     "output_type": "stream",
     "text": [
      "[8]\n",
      "[8, 8, 2]\n",
      "create cached with empty data\n",
      "With k False\n"
     ]
    },
    {
     "name": "stderr",
     "output_type": "stream",
     "text": [
      "/home/pymc/src/pmsurv/models/weibull_base.py:69: UserWarning: The effect of Potentials on other parameters is ignored during posterior predictive sampling. This is likely to lead to invalid or biased predictive samples.\n",
      "  ppc = pm.sample_posterior_predictive(self.trace, model=self.cached_model, return_inferencedata=False,\n",
      "Sampling: []\n",
      "INFO:pymc:Sampling: []\n",
      "/home/pymc/src/pmsurv/models/weibull_base.py:69: UserWarning: The effect of Potentials on other parameters is ignored during posterior predictive sampling. This is likely to lead to invalid or biased predictive samples.\n",
      "  ppc = pm.sample_posterior_predictive(self.trace, model=self.cached_model, return_inferencedata=False,\n",
      "Sampling: []\n",
      "INFO:pymc:Sampling: []\n",
      "25it [00:37,  1.52s/it]/home/pymc/src/pmsurv/models/weibull_base.py:69: UserWarning: The effect of Potentials on other parameters is ignored during posterior predictive sampling. This is likely to lead to invalid or biased predictive samples.\n",
      "  ppc = pm.sample_posterior_predictive(self.trace, model=self.cached_model, return_inferencedata=False,\n",
      "Sampling: []\n",
      "INFO:pymc:Sampling: []\n"
     ]
    },
    {
     "name": "stdout",
     "output_type": "stream",
     "text": [
      "[8]\n",
      "[8, 8, 2]\n",
      "create cached with empty data\n",
      "With k False\n"
     ]
    },
    {
     "name": "stderr",
     "output_type": "stream",
     "text": [
      "/home/pymc/src/pmsurv/models/weibull_base.py:69: UserWarning: The effect of Potentials on other parameters is ignored during posterior predictive sampling. This is likely to lead to invalid or biased predictive samples.\n",
      "  ppc = pm.sample_posterior_predictive(self.trace, model=self.cached_model, return_inferencedata=False,\n",
      "Sampling: []\n",
      "INFO:pymc:Sampling: []\n",
      "26it [00:38,  1.45s/it]/home/pymc/src/pmsurv/models/weibull_base.py:69: UserWarning: The effect of Potentials on other parameters is ignored during posterior predictive sampling. This is likely to lead to invalid or biased predictive samples.\n",
      "  ppc = pm.sample_posterior_predictive(self.trace, model=self.cached_model, return_inferencedata=False,\n",
      "Sampling: []\n",
      "INFO:pymc:Sampling: []\n"
     ]
    },
    {
     "name": "stdout",
     "output_type": "stream",
     "text": [
      "[8]\n",
      "[8, 8, 2]\n",
      "create cached with empty data\n",
      "With k False\n"
     ]
    },
    {
     "name": "stderr",
     "output_type": "stream",
     "text": [
      "/home/pymc/src/pmsurv/models/weibull_base.py:69: UserWarning: The effect of Potentials on other parameters is ignored during posterior predictive sampling. This is likely to lead to invalid or biased predictive samples.\n",
      "  ppc = pm.sample_posterior_predictive(self.trace, model=self.cached_model, return_inferencedata=False,\n",
      "Sampling: []\n",
      "INFO:pymc:Sampling: []\n",
      "27it [00:39,  1.40s/it]/home/pymc/src/pmsurv/models/weibull_base.py:69: UserWarning: The effect of Potentials on other parameters is ignored during posterior predictive sampling. This is likely to lead to invalid or biased predictive samples.\n",
      "  ppc = pm.sample_posterior_predictive(self.trace, model=self.cached_model, return_inferencedata=False,\n",
      "Sampling: []\n",
      "INFO:pymc:Sampling: []\n"
     ]
    },
    {
     "name": "stdout",
     "output_type": "stream",
     "text": [
      "[8]\n",
      "[8, 8, 2]\n",
      "create cached with empty data\n",
      "With k False\n"
     ]
    },
    {
     "name": "stderr",
     "output_type": "stream",
     "text": [
      "/home/pymc/src/pmsurv/models/weibull_base.py:69: UserWarning: The effect of Potentials on other parameters is ignored during posterior predictive sampling. This is likely to lead to invalid or biased predictive samples.\n",
      "  ppc = pm.sample_posterior_predictive(self.trace, model=self.cached_model, return_inferencedata=False,\n",
      "Sampling: []\n",
      "INFO:pymc:Sampling: []\n",
      "28it [00:41,  1.36s/it]"
     ]
    },
    {
     "name": "stdout",
     "output_type": "stream",
     "text": [
      "[9]\n",
      "[9, 9, 2]\n",
      "create cached with empty data\n",
      "With k False\n"
     ]
    },
    {
     "name": "stderr",
     "output_type": "stream",
     "text": [
      "/home/pymc/src/pmsurv/models/weibull_base.py:69: UserWarning: The effect of Potentials on other parameters is ignored during posterior predictive sampling. This is likely to lead to invalid or biased predictive samples.\n",
      "  ppc = pm.sample_posterior_predictive(self.trace, model=self.cached_model, return_inferencedata=False,\n",
      "Sampling: []\n",
      "INFO:pymc:Sampling: []\n",
      "/home/pymc/src/pmsurv/models/weibull_base.py:69: UserWarning: The effect of Potentials on other parameters is ignored during posterior predictive sampling. This is likely to lead to invalid or biased predictive samples.\n",
      "  ppc = pm.sample_posterior_predictive(self.trace, model=self.cached_model, return_inferencedata=False,\n",
      "Sampling: []\n",
      "INFO:pymc:Sampling: []\n",
      "29it [00:42,  1.34s/it]/home/pymc/src/pmsurv/models/weibull_base.py:69: UserWarning: The effect of Potentials on other parameters is ignored during posterior predictive sampling. This is likely to lead to invalid or biased predictive samples.\n",
      "  ppc = pm.sample_posterior_predictive(self.trace, model=self.cached_model, return_inferencedata=False,\n",
      "Sampling: []\n",
      "INFO:pymc:Sampling: []\n"
     ]
    },
    {
     "name": "stdout",
     "output_type": "stream",
     "text": [
      "[9]\n",
      "[9, 9, 2]\n",
      "create cached with empty data\n",
      "With k False\n"
     ]
    },
    {
     "name": "stderr",
     "output_type": "stream",
     "text": [
      "/home/pymc/src/pmsurv/models/weibull_base.py:69: UserWarning: The effect of Potentials on other parameters is ignored during posterior predictive sampling. This is likely to lead to invalid or biased predictive samples.\n",
      "  ppc = pm.sample_posterior_predictive(self.trace, model=self.cached_model, return_inferencedata=False,\n",
      "Sampling: []\n",
      "INFO:pymc:Sampling: []\n",
      "30it [00:43,  1.34s/it]"
     ]
    },
    {
     "name": "stdout",
     "output_type": "stream",
     "text": [
      "[8]\n",
      "[8, 8, 2]\n",
      "create cached with empty data\n",
      "With k False\n"
     ]
    },
    {
     "name": "stderr",
     "output_type": "stream",
     "text": [
      "/home/pymc/src/pmsurv/models/weibull_base.py:69: UserWarning: The effect of Potentials on other parameters is ignored during posterior predictive sampling. This is likely to lead to invalid or biased predictive samples.\n",
      "  ppc = pm.sample_posterior_predictive(self.trace, model=self.cached_model, return_inferencedata=False,\n",
      "Sampling: []\n",
      "INFO:pymc:Sampling: []\n",
      "/home/pymc/src/pmsurv/models/weibull_base.py:69: UserWarning: The effect of Potentials on other parameters is ignored during posterior predictive sampling. This is likely to lead to invalid or biased predictive samples.\n",
      "  ppc = pm.sample_posterior_predictive(self.trace, model=self.cached_model, return_inferencedata=False,\n",
      "Sampling: []\n",
      "INFO:pymc:Sampling: []\n",
      "31it [00:45,  1.33s/it]"
     ]
    },
    {
     "name": "stdout",
     "output_type": "stream",
     "text": [
      "[8]\n",
      "[8, 8, 2]\n",
      "create cached with empty data\n",
      "With k False\n"
     ]
    },
    {
     "name": "stderr",
     "output_type": "stream",
     "text": [
      "/home/pymc/src/pmsurv/models/weibull_base.py:69: UserWarning: The effect of Potentials on other parameters is ignored during posterior predictive sampling. This is likely to lead to invalid or biased predictive samples.\n",
      "  ppc = pm.sample_posterior_predictive(self.trace, model=self.cached_model, return_inferencedata=False,\n",
      "Sampling: []\n",
      "INFO:pymc:Sampling: []\n",
      "/home/pymc/src/pmsurv/models/weibull_base.py:69: UserWarning: The effect of Potentials on other parameters is ignored during posterior predictive sampling. This is likely to lead to invalid or biased predictive samples.\n",
      "  ppc = pm.sample_posterior_predictive(self.trace, model=self.cached_model, return_inferencedata=False,\n",
      "Sampling: []\n",
      "INFO:pymc:Sampling: []\n",
      "32it [00:46,  1.34s/it]/home/pymc/src/pmsurv/models/weibull_base.py:69: UserWarning: The effect of Potentials on other parameters is ignored during posterior predictive sampling. This is likely to lead to invalid or biased predictive samples.\n",
      "  ppc = pm.sample_posterior_predictive(self.trace, model=self.cached_model, return_inferencedata=False,\n",
      "Sampling: []\n",
      "INFO:pymc:Sampling: []\n"
     ]
    },
    {
     "name": "stdout",
     "output_type": "stream",
     "text": [
      "[8]\n",
      "[8, 8, 2]\n",
      "create cached with empty data\n",
      "With k False\n"
     ]
    },
    {
     "name": "stderr",
     "output_type": "stream",
     "text": [
      "/home/pymc/src/pmsurv/models/weibull_base.py:69: UserWarning: The effect of Potentials on other parameters is ignored during posterior predictive sampling. This is likely to lead to invalid or biased predictive samples.\n",
      "  ppc = pm.sample_posterior_predictive(self.trace, model=self.cached_model, return_inferencedata=False,\n",
      "Sampling: []\n",
      "INFO:pymc:Sampling: []\n",
      "33it [00:47,  1.31s/it]/home/pymc/src/pmsurv/models/weibull_base.py:69: UserWarning: The effect of Potentials on other parameters is ignored during posterior predictive sampling. This is likely to lead to invalid or biased predictive samples.\n",
      "  ppc = pm.sample_posterior_predictive(self.trace, model=self.cached_model, return_inferencedata=False,\n",
      "Sampling: []\n",
      "INFO:pymc:Sampling: []\n"
     ]
    },
    {
     "name": "stdout",
     "output_type": "stream",
     "text": [
      "[8]\n",
      "[8, 8, 2]\n",
      "create cached with empty data\n",
      "With k False\n"
     ]
    },
    {
     "name": "stderr",
     "output_type": "stream",
     "text": [
      "/home/pymc/src/pmsurv/models/weibull_base.py:69: UserWarning: The effect of Potentials on other parameters is ignored during posterior predictive sampling. This is likely to lead to invalid or biased predictive samples.\n",
      "  ppc = pm.sample_posterior_predictive(self.trace, model=self.cached_model, return_inferencedata=False,\n",
      "Sampling: []\n",
      "INFO:pymc:Sampling: []\n",
      "34it [00:48,  1.28s/it]/home/pymc/src/pmsurv/models/weibull_base.py:69: UserWarning: The effect of Potentials on other parameters is ignored during posterior predictive sampling. This is likely to lead to invalid or biased predictive samples.\n",
      "  ppc = pm.sample_posterior_predictive(self.trace, model=self.cached_model, return_inferencedata=False,\n",
      "Sampling: []\n",
      "INFO:pymc:Sampling: []\n"
     ]
    },
    {
     "name": "stdout",
     "output_type": "stream",
     "text": [
      "[8]\n",
      "[8, 8, 2]\n",
      "create cached with empty data\n",
      "With k False\n"
     ]
    },
    {
     "name": "stderr",
     "output_type": "stream",
     "text": [
      "/home/pymc/src/pmsurv/models/weibull_base.py:69: UserWarning: The effect of Potentials on other parameters is ignored during posterior predictive sampling. This is likely to lead to invalid or biased predictive samples.\n",
      "  ppc = pm.sample_posterior_predictive(self.trace, model=self.cached_model, return_inferencedata=False,\n",
      "Sampling: []\n",
      "INFO:pymc:Sampling: []\n",
      "35it [00:50,  1.27s/it]/home/pymc/src/pmsurv/models/weibull_base.py:69: UserWarning: The effect of Potentials on other parameters is ignored during posterior predictive sampling. This is likely to lead to invalid or biased predictive samples.\n",
      "  ppc = pm.sample_posterior_predictive(self.trace, model=self.cached_model, return_inferencedata=False,\n",
      "Sampling: []\n",
      "INFO:pymc:Sampling: []\n"
     ]
    },
    {
     "name": "stdout",
     "output_type": "stream",
     "text": [
      "[8]\n",
      "[8, 8, 2]\n",
      "create cached with empty data\n",
      "With k False\n"
     ]
    },
    {
     "name": "stderr",
     "output_type": "stream",
     "text": [
      "/home/pymc/src/pmsurv/models/weibull_base.py:69: UserWarning: The effect of Potentials on other parameters is ignored during posterior predictive sampling. This is likely to lead to invalid or biased predictive samples.\n",
      "  ppc = pm.sample_posterior_predictive(self.trace, model=self.cached_model, return_inferencedata=False,\n",
      "Sampling: []\n",
      "INFO:pymc:Sampling: []\n",
      "36it [00:51,  1.26s/it]/home/pymc/src/pmsurv/models/weibull_base.py:69: UserWarning: The effect of Potentials on other parameters is ignored during posterior predictive sampling. This is likely to lead to invalid or biased predictive samples.\n",
      "  ppc = pm.sample_posterior_predictive(self.trace, model=self.cached_model, return_inferencedata=False,\n",
      "Sampling: []\n",
      "INFO:pymc:Sampling: []\n"
     ]
    },
    {
     "name": "stdout",
     "output_type": "stream",
     "text": [
      "[8]\n",
      "[8, 8, 2]\n",
      "create cached with empty data\n",
      "With k False\n"
     ]
    },
    {
     "name": "stderr",
     "output_type": "stream",
     "text": [
      "/home/pymc/src/pmsurv/models/weibull_base.py:69: UserWarning: The effect of Potentials on other parameters is ignored during posterior predictive sampling. This is likely to lead to invalid or biased predictive samples.\n",
      "  ppc = pm.sample_posterior_predictive(self.trace, model=self.cached_model, return_inferencedata=False,\n",
      "Sampling: []\n",
      "INFO:pymc:Sampling: []\n",
      "37it [00:52,  1.25s/it]/home/pymc/src/pmsurv/models/weibull_base.py:69: UserWarning: The effect of Potentials on other parameters is ignored during posterior predictive sampling. This is likely to lead to invalid or biased predictive samples.\n",
      "  ppc = pm.sample_posterior_predictive(self.trace, model=self.cached_model, return_inferencedata=False,\n",
      "Sampling: []\n"
     ]
    },
    {
     "name": "stdout",
     "output_type": "stream",
     "text": [
      "[8]\n",
      "[8, 8, 2]\n",
      "create cached with empty data\n",
      "With k False\n"
     ]
    },
    {
     "name": "stderr",
     "output_type": "stream",
     "text": [
      "INFO:pymc:Sampling: []\n",
      "/home/pymc/src/pmsurv/models/weibull_base.py:69: UserWarning: The effect of Potentials on other parameters is ignored during posterior predictive sampling. This is likely to lead to invalid or biased predictive samples.\n",
      "  ppc = pm.sample_posterior_predictive(self.trace, model=self.cached_model, return_inferencedata=False,\n",
      "Sampling: []\n",
      "INFO:pymc:Sampling: []\n",
      "38it [00:54,  1.26s/it]/home/pymc/src/pmsurv/models/weibull_base.py:69: UserWarning: The effect of Potentials on other parameters is ignored during posterior predictive sampling. This is likely to lead to invalid or biased predictive samples.\n",
      "  ppc = pm.sample_posterior_predictive(self.trace, model=self.cached_model, return_inferencedata=False,\n",
      "Sampling: []\n",
      "INFO:pymc:Sampling: []\n"
     ]
    },
    {
     "name": "stdout",
     "output_type": "stream",
     "text": [
      "[8]\n",
      "[8, 8, 2]\n",
      "create cached with empty data\n",
      "With k False\n"
     ]
    },
    {
     "name": "stderr",
     "output_type": "stream",
     "text": [
      "/home/pymc/src/pmsurv/models/weibull_base.py:69: UserWarning: The effect of Potentials on other parameters is ignored during posterior predictive sampling. This is likely to lead to invalid or biased predictive samples.\n",
      "  ppc = pm.sample_posterior_predictive(self.trace, model=self.cached_model, return_inferencedata=False,\n",
      "Sampling: []\n",
      "INFO:pymc:Sampling: []\n",
      "39it [00:55,  1.22s/it]/home/pymc/src/pmsurv/models/weibull_base.py:69: UserWarning: The effect of Potentials on other parameters is ignored during posterior predictive sampling. This is likely to lead to invalid or biased predictive samples.\n",
      "  ppc = pm.sample_posterior_predictive(self.trace, model=self.cached_model, return_inferencedata=False,\n",
      "Sampling: []\n",
      "INFO:pymc:Sampling: []\n"
     ]
    },
    {
     "name": "stdout",
     "output_type": "stream",
     "text": [
      "[8]\n",
      "[8, 8, 2]\n",
      "create cached with empty data\n",
      "With k False\n"
     ]
    },
    {
     "name": "stderr",
     "output_type": "stream",
     "text": [
      "/home/pymc/src/pmsurv/models/weibull_base.py:69: UserWarning: The effect of Potentials on other parameters is ignored during posterior predictive sampling. This is likely to lead to invalid or biased predictive samples.\n",
      "  ppc = pm.sample_posterior_predictive(self.trace, model=self.cached_model, return_inferencedata=False,\n",
      "Sampling: []\n",
      "INFO:pymc:Sampling: []\n",
      "40it [00:56,  1.22s/it]/home/pymc/src/pmsurv/models/weibull_base.py:69: UserWarning: The effect of Potentials on other parameters is ignored during posterior predictive sampling. This is likely to lead to invalid or biased predictive samples.\n",
      "  ppc = pm.sample_posterior_predictive(self.trace, model=self.cached_model, return_inferencedata=False,\n",
      "Sampling: []\n",
      "INFO:pymc:Sampling: []\n"
     ]
    },
    {
     "name": "stdout",
     "output_type": "stream",
     "text": [
      "[8]\n",
      "[8, 8, 2]\n",
      "create cached with empty data\n",
      "With k False\n"
     ]
    },
    {
     "name": "stderr",
     "output_type": "stream",
     "text": [
      "/home/pymc/src/pmsurv/models/weibull_base.py:69: UserWarning: The effect of Potentials on other parameters is ignored during posterior predictive sampling. This is likely to lead to invalid or biased predictive samples.\n",
      "  ppc = pm.sample_posterior_predictive(self.trace, model=self.cached_model, return_inferencedata=False,\n",
      "Sampling: []\n",
      "INFO:pymc:Sampling: []\n",
      "41it [00:57,  1.22s/it]/home/pymc/src/pmsurv/models/weibull_base.py:69: UserWarning: The effect of Potentials on other parameters is ignored during posterior predictive sampling. This is likely to lead to invalid or biased predictive samples.\n",
      "  ppc = pm.sample_posterior_predictive(self.trace, model=self.cached_model, return_inferencedata=False,\n",
      "Sampling: []\n",
      "INFO:pymc:Sampling: []\n"
     ]
    },
    {
     "name": "stdout",
     "output_type": "stream",
     "text": [
      "[9]\n",
      "[9, 9, 2]\n",
      "create cached with empty data\n",
      "With k False\n"
     ]
    },
    {
     "name": "stderr",
     "output_type": "stream",
     "text": [
      "/home/pymc/src/pmsurv/models/weibull_base.py:69: UserWarning: The effect of Potentials on other parameters is ignored during posterior predictive sampling. This is likely to lead to invalid or biased predictive samples.\n",
      "  ppc = pm.sample_posterior_predictive(self.trace, model=self.cached_model, return_inferencedata=False,\n",
      "Sampling: []\n",
      "INFO:pymc:Sampling: []\n",
      "42it [00:58,  1.23s/it]/home/pymc/src/pmsurv/models/weibull_base.py:69: UserWarning: The effect of Potentials on other parameters is ignored during posterior predictive sampling. This is likely to lead to invalid or biased predictive samples.\n",
      "  ppc = pm.sample_posterior_predictive(self.trace, model=self.cached_model, return_inferencedata=False,\n",
      "Sampling: []\n",
      "INFO:pymc:Sampling: []\n"
     ]
    },
    {
     "name": "stdout",
     "output_type": "stream",
     "text": [
      "[8]\n",
      "[8, 8, 2]\n",
      "create cached with empty data\n",
      "With k False\n"
     ]
    },
    {
     "name": "stderr",
     "output_type": "stream",
     "text": [
      "/home/pymc/src/pmsurv/models/weibull_base.py:69: UserWarning: The effect of Potentials on other parameters is ignored during posterior predictive sampling. This is likely to lead to invalid or biased predictive samples.\n",
      "  ppc = pm.sample_posterior_predictive(self.trace, model=self.cached_model, return_inferencedata=False,\n",
      "Sampling: []\n",
      "INFO:pymc:Sampling: []\n",
      "43it [01:00,  1.23s/it]/home/pymc/src/pmsurv/models/weibull_base.py:69: UserWarning: The effect of Potentials on other parameters is ignored during posterior predictive sampling. This is likely to lead to invalid or biased predictive samples.\n",
      "  ppc = pm.sample_posterior_predictive(self.trace, model=self.cached_model, return_inferencedata=False,\n",
      "Sampling: []\n",
      "INFO:pymc:Sampling: []\n"
     ]
    },
    {
     "name": "stdout",
     "output_type": "stream",
     "text": [
      "[8]\n",
      "[8, 8, 2]\n",
      "create cached with empty data\n",
      "With k False\n"
     ]
    },
    {
     "name": "stderr",
     "output_type": "stream",
     "text": [
      "/home/pymc/src/pmsurv/models/weibull_base.py:69: UserWarning: The effect of Potentials on other parameters is ignored during posterior predictive sampling. This is likely to lead to invalid or biased predictive samples.\n",
      "  ppc = pm.sample_posterior_predictive(self.trace, model=self.cached_model, return_inferencedata=False,\n",
      "Sampling: []\n",
      "INFO:pymc:Sampling: []\n",
      "44it [01:01,  1.24s/it]/home/pymc/src/pmsurv/models/weibull_base.py:69: UserWarning: The effect of Potentials on other parameters is ignored during posterior predictive sampling. This is likely to lead to invalid or biased predictive samples.\n",
      "  ppc = pm.sample_posterior_predictive(self.trace, model=self.cached_model, return_inferencedata=False,\n",
      "Sampling: []\n",
      "INFO:pymc:Sampling: []\n"
     ]
    },
    {
     "name": "stdout",
     "output_type": "stream",
     "text": [
      "[8]\n",
      "[8, 8, 2]\n",
      "create cached with empty data\n",
      "With k False\n"
     ]
    },
    {
     "name": "stderr",
     "output_type": "stream",
     "text": [
      "/home/pymc/src/pmsurv/models/weibull_base.py:69: UserWarning: The effect of Potentials on other parameters is ignored during posterior predictive sampling. This is likely to lead to invalid or biased predictive samples.\n",
      "  ppc = pm.sample_posterior_predictive(self.trace, model=self.cached_model, return_inferencedata=False,\n",
      "Sampling: []\n",
      "INFO:pymc:Sampling: []\n",
      "45it [01:02,  1.23s/it]/home/pymc/src/pmsurv/models/weibull_base.py:69: UserWarning: The effect of Potentials on other parameters is ignored during posterior predictive sampling. This is likely to lead to invalid or biased predictive samples.\n",
      "  ppc = pm.sample_posterior_predictive(self.trace, model=self.cached_model, return_inferencedata=False,\n",
      "Sampling: []\n",
      "INFO:pymc:Sampling: []\n"
     ]
    },
    {
     "name": "stdout",
     "output_type": "stream",
     "text": [
      "[8]\n",
      "[8, 8, 2]\n",
      "create cached with empty data\n",
      "With k False\n"
     ]
    },
    {
     "name": "stderr",
     "output_type": "stream",
     "text": [
      "/home/pymc/src/pmsurv/models/weibull_base.py:69: UserWarning: The effect of Potentials on other parameters is ignored during posterior predictive sampling. This is likely to lead to invalid or biased predictive samples.\n",
      "  ppc = pm.sample_posterior_predictive(self.trace, model=self.cached_model, return_inferencedata=False,\n",
      "Sampling: []\n",
      "INFO:pymc:Sampling: []\n",
      "46it [01:03,  1.23s/it]"
     ]
    },
    {
     "name": "stdout",
     "output_type": "stream",
     "text": [
      "[9]\n",
      "[9, 9, 2]\n",
      "create cached with empty data\n"
     ]
    },
    {
     "name": "stderr",
     "output_type": "stream",
     "text": [
      "/home/pymc/src/pmsurv/models/weibull_base.py:69: UserWarning: The effect of Potentials on other parameters is ignored during posterior predictive sampling. This is likely to lead to invalid or biased predictive samples.\n",
      "  ppc = pm.sample_posterior_predictive(self.trace, model=self.cached_model, return_inferencedata=False,\n",
      "Sampling: []\n",
      "INFO:pymc:Sampling: []\n"
     ]
    },
    {
     "name": "stdout",
     "output_type": "stream",
     "text": [
      "With k False\n"
     ]
    },
    {
     "name": "stderr",
     "output_type": "stream",
     "text": [
      "/home/pymc/src/pmsurv/models/weibull_base.py:69: UserWarning: The effect of Potentials on other parameters is ignored during posterior predictive sampling. This is likely to lead to invalid or biased predictive samples.\n",
      "  ppc = pm.sample_posterior_predictive(self.trace, model=self.cached_model, return_inferencedata=False,\n",
      "Sampling: []\n",
      "INFO:pymc:Sampling: []\n",
      "47it [01:05,  1.33s/it]"
     ]
    },
    {
     "name": "stdout",
     "output_type": "stream",
     "text": [
      "[8]\n",
      "[8, 8, 2]\n",
      "create cached with empty data\n",
      "With k False\n"
     ]
    },
    {
     "name": "stderr",
     "output_type": "stream",
     "text": [
      "/home/pymc/src/pmsurv/models/weibull_base.py:69: UserWarning: The effect of Potentials on other parameters is ignored during posterior predictive sampling. This is likely to lead to invalid or biased predictive samples.\n",
      "  ppc = pm.sample_posterior_predictive(self.trace, model=self.cached_model, return_inferencedata=False,\n",
      "Sampling: []\n",
      "INFO:pymc:Sampling: []\n",
      "/home/pymc/src/pmsurv/models/weibull_base.py:69: UserWarning: The effect of Potentials on other parameters is ignored during posterior predictive sampling. This is likely to lead to invalid or biased predictive samples.\n",
      "  ppc = pm.sample_posterior_predictive(self.trace, model=self.cached_model, return_inferencedata=False,\n",
      "Sampling: []\n",
      "INFO:pymc:Sampling: []\n",
      "48it [01:06,  1.32s/it]/home/pymc/src/pmsurv/models/weibull_base.py:69: UserWarning: The effect of Potentials on other parameters is ignored during posterior predictive sampling. This is likely to lead to invalid or biased predictive samples.\n",
      "  ppc = pm.sample_posterior_predictive(self.trace, model=self.cached_model, return_inferencedata=False,\n",
      "Sampling: []\n",
      "INFO:pymc:Sampling: []\n"
     ]
    },
    {
     "name": "stdout",
     "output_type": "stream",
     "text": [
      "[8]\n",
      "[8, 8, 2]\n",
      "create cached with empty data\n",
      "With k False\n"
     ]
    },
    {
     "name": "stderr",
     "output_type": "stream",
     "text": [
      "/home/pymc/src/pmsurv/models/weibull_base.py:69: UserWarning: The effect of Potentials on other parameters is ignored during posterior predictive sampling. This is likely to lead to invalid or biased predictive samples.\n",
      "  ppc = pm.sample_posterior_predictive(self.trace, model=self.cached_model, return_inferencedata=False,\n",
      "Sampling: []\n",
      "INFO:pymc:Sampling: []\n",
      "49it [01:07,  1.29s/it]/home/pymc/src/pmsurv/models/weibull_base.py:69: UserWarning: The effect of Potentials on other parameters is ignored during posterior predictive sampling. This is likely to lead to invalid or biased predictive samples.\n",
      "  ppc = pm.sample_posterior_predictive(self.trace, model=self.cached_model, return_inferencedata=False,\n",
      "Sampling: []\n",
      "INFO:pymc:Sampling: []\n"
     ]
    },
    {
     "name": "stdout",
     "output_type": "stream",
     "text": [
      "[8]\n",
      "[8, 8, 2]\n",
      "create cached with empty data\n",
      "With k False\n"
     ]
    },
    {
     "name": "stderr",
     "output_type": "stream",
     "text": [
      "/home/pymc/src/pmsurv/models/weibull_base.py:69: UserWarning: The effect of Potentials on other parameters is ignored during posterior predictive sampling. This is likely to lead to invalid or biased predictive samples.\n",
      "  ppc = pm.sample_posterior_predictive(self.trace, model=self.cached_model, return_inferencedata=False,\n",
      "Sampling: []\n",
      "INFO:pymc:Sampling: []\n",
      "50it [01:09,  1.28s/it]/home/pymc/src/pmsurv/models/weibull_base.py:69: UserWarning: The effect of Potentials on other parameters is ignored during posterior predictive sampling. This is likely to lead to invalid or biased predictive samples.\n",
      "  ppc = pm.sample_posterior_predictive(self.trace, model=self.cached_model, return_inferencedata=False,\n",
      "Sampling: []\n",
      "INFO:pymc:Sampling: []\n"
     ]
    },
    {
     "name": "stdout",
     "output_type": "stream",
     "text": [
      "[8]\n",
      "[8, 8, 2]\n",
      "create cached with empty data\n",
      "With k False\n"
     ]
    },
    {
     "name": "stderr",
     "output_type": "stream",
     "text": [
      "/home/pymc/src/pmsurv/models/weibull_base.py:69: UserWarning: The effect of Potentials on other parameters is ignored during posterior predictive sampling. This is likely to lead to invalid or biased predictive samples.\n",
      "  ppc = pm.sample_posterior_predictive(self.trace, model=self.cached_model, return_inferencedata=False,\n",
      "Sampling: []\n",
      "INFO:pymc:Sampling: []\n",
      "51it [01:10,  1.25s/it]"
     ]
    },
    {
     "name": "stdout",
     "output_type": "stream",
     "text": [
      "[8]\n",
      "[8, 8, 2]\n",
      "create cached with empty data\n",
      "With k False\n"
     ]
    },
    {
     "name": "stderr",
     "output_type": "stream",
     "text": [
      "/home/pymc/src/pmsurv/models/weibull_base.py:69: UserWarning: The effect of Potentials on other parameters is ignored during posterior predictive sampling. This is likely to lead to invalid or biased predictive samples.\n",
      "  ppc = pm.sample_posterior_predictive(self.trace, model=self.cached_model, return_inferencedata=False,\n",
      "Sampling: []\n",
      "INFO:pymc:Sampling: []\n",
      "/home/pymc/src/pmsurv/models/weibull_base.py:69: UserWarning: The effect of Potentials on other parameters is ignored during posterior predictive sampling. This is likely to lead to invalid or biased predictive samples.\n",
      "  ppc = pm.sample_posterior_predictive(self.trace, model=self.cached_model, return_inferencedata=False,\n",
      "Sampling: []\n",
      "INFO:pymc:Sampling: []\n",
      "52it [01:11,  1.28s/it]"
     ]
    },
    {
     "name": "stdout",
     "output_type": "stream",
     "text": [
      "[9]\n",
      "[9, 9, 2]\n",
      "create cached with empty data\n",
      "With k False\n"
     ]
    },
    {
     "name": "stderr",
     "output_type": "stream",
     "text": [
      "/home/pymc/src/pmsurv/models/weibull_base.py:69: UserWarning: The effect of Potentials on other parameters is ignored during posterior predictive sampling. This is likely to lead to invalid or biased predictive samples.\n",
      "  ppc = pm.sample_posterior_predictive(self.trace, model=self.cached_model, return_inferencedata=False,\n",
      "Sampling: []\n",
      "INFO:pymc:Sampling: []\n",
      "/home/pymc/src/pmsurv/models/weibull_base.py:69: UserWarning: The effect of Potentials on other parameters is ignored during posterior predictive sampling. This is likely to lead to invalid or biased predictive samples.\n",
      "  ppc = pm.sample_posterior_predictive(self.trace, model=self.cached_model, return_inferencedata=False,\n",
      "Sampling: []\n",
      "INFO:pymc:Sampling: []\n",
      "53it [01:13,  1.33s/it]"
     ]
    },
    {
     "name": "stdout",
     "output_type": "stream",
     "text": [
      "[8]\n",
      "[8, 8, 2]\n",
      "create cached with empty data\n",
      "With k False\n"
     ]
    },
    {
     "name": "stderr",
     "output_type": "stream",
     "text": [
      "/home/pymc/src/pmsurv/models/weibull_base.py:69: UserWarning: The effect of Potentials on other parameters is ignored during posterior predictive sampling. This is likely to lead to invalid or biased predictive samples.\n",
      "  ppc = pm.sample_posterior_predictive(self.trace, model=self.cached_model, return_inferencedata=False,\n",
      "Sampling: []\n",
      "INFO:pymc:Sampling: []\n",
      "/home/pymc/src/pmsurv/models/weibull_base.py:69: UserWarning: The effect of Potentials on other parameters is ignored during posterior predictive sampling. This is likely to lead to invalid or biased predictive samples.\n",
      "  ppc = pm.sample_posterior_predictive(self.trace, model=self.cached_model, return_inferencedata=False,\n",
      "Sampling: []\n",
      "INFO:pymc:Sampling: []\n",
      "54it [01:14,  1.35s/it]/home/pymc/src/pmsurv/models/weibull_base.py:69: UserWarning: The effect of Potentials on other parameters is ignored during posterior predictive sampling. This is likely to lead to invalid or biased predictive samples.\n",
      "  ppc = pm.sample_posterior_predictive(self.trace, model=self.cached_model, return_inferencedata=False,\n",
      "Sampling: []\n",
      "INFO:pymc:Sampling: []\n"
     ]
    },
    {
     "name": "stdout",
     "output_type": "stream",
     "text": [
      "[9]\n",
      "[9, 9, 2]\n",
      "create cached with empty data\n",
      "With k False\n"
     ]
    },
    {
     "name": "stderr",
     "output_type": "stream",
     "text": [
      "/home/pymc/src/pmsurv/models/weibull_base.py:69: UserWarning: The effect of Potentials on other parameters is ignored during posterior predictive sampling. This is likely to lead to invalid or biased predictive samples.\n",
      "  ppc = pm.sample_posterior_predictive(self.trace, model=self.cached_model, return_inferencedata=False,\n",
      "Sampling: []\n",
      "INFO:pymc:Sampling: []\n",
      "55it [01:15,  1.32s/it]/home/pymc/src/pmsurv/models/weibull_base.py:69: UserWarning: The effect of Potentials on other parameters is ignored during posterior predictive sampling. This is likely to lead to invalid or biased predictive samples.\n",
      "  ppc = pm.sample_posterior_predictive(self.trace, model=self.cached_model, return_inferencedata=False,\n",
      "Sampling: []\n",
      "INFO:pymc:Sampling: []\n"
     ]
    },
    {
     "name": "stdout",
     "output_type": "stream",
     "text": [
      "[8]\n",
      "[8, 8, 2]\n",
      "create cached with empty data\n",
      "With k False\n"
     ]
    },
    {
     "name": "stderr",
     "output_type": "stream",
     "text": [
      "/home/pymc/src/pmsurv/models/weibull_base.py:69: UserWarning: The effect of Potentials on other parameters is ignored during posterior predictive sampling. This is likely to lead to invalid or biased predictive samples.\n",
      "  ppc = pm.sample_posterior_predictive(self.trace, model=self.cached_model, return_inferencedata=False,\n",
      "Sampling: []\n",
      "INFO:pymc:Sampling: []\n",
      "56it [01:16,  1.29s/it]/home/pymc/src/pmsurv/models/weibull_base.py:69: UserWarning: The effect of Potentials on other parameters is ignored during posterior predictive sampling. This is likely to lead to invalid or biased predictive samples.\n",
      "  ppc = pm.sample_posterior_predictive(self.trace, model=self.cached_model, return_inferencedata=False,\n",
      "Sampling: []\n",
      "INFO:pymc:Sampling: []\n"
     ]
    },
    {
     "name": "stdout",
     "output_type": "stream",
     "text": [
      "[8]\n",
      "[8, 8, 2]\n",
      "create cached with empty data\n",
      "With k False\n"
     ]
    },
    {
     "name": "stderr",
     "output_type": "stream",
     "text": [
      "/home/pymc/src/pmsurv/models/weibull_base.py:69: UserWarning: The effect of Potentials on other parameters is ignored during posterior predictive sampling. This is likely to lead to invalid or biased predictive samples.\n",
      "  ppc = pm.sample_posterior_predictive(self.trace, model=self.cached_model, return_inferencedata=False,\n",
      "Sampling: []\n",
      "INFO:pymc:Sampling: []\n",
      "57it [01:18,  1.23s/it]"
     ]
    },
    {
     "name": "stdout",
     "output_type": "stream",
     "text": [
      "[8]\n",
      "[8, 8, 2]\n",
      "create cached with empty data\n",
      "With k False\n"
     ]
    },
    {
     "name": "stderr",
     "output_type": "stream",
     "text": [
      "/home/pymc/src/pmsurv/models/weibull_base.py:69: UserWarning: The effect of Potentials on other parameters is ignored during posterior predictive sampling. This is likely to lead to invalid or biased predictive samples.\n",
      "  ppc = pm.sample_posterior_predictive(self.trace, model=self.cached_model, return_inferencedata=False,\n",
      "Sampling: []\n",
      "INFO:pymc:Sampling: []\n",
      "/home/pymc/src/pmsurv/models/weibull_base.py:69: UserWarning: The effect of Potentials on other parameters is ignored during posterior predictive sampling. This is likely to lead to invalid or biased predictive samples.\n",
      "  ppc = pm.sample_posterior_predictive(self.trace, model=self.cached_model, return_inferencedata=False,\n",
      "Sampling: []\n",
      "INFO:pymc:Sampling: []\n",
      "58it [01:19,  1.25s/it]"
     ]
    },
    {
     "name": "stdout",
     "output_type": "stream",
     "text": [
      "[8]\n",
      "[8, 8, 2]\n",
      "create cached with empty data\n",
      "With k False\n"
     ]
    },
    {
     "name": "stderr",
     "output_type": "stream",
     "text": [
      "/home/pymc/src/pmsurv/models/weibull_base.py:69: UserWarning: The effect of Potentials on other parameters is ignored during posterior predictive sampling. This is likely to lead to invalid or biased predictive samples.\n",
      "  ppc = pm.sample_posterior_predictive(self.trace, model=self.cached_model, return_inferencedata=False,\n",
      "Sampling: []\n",
      "INFO:pymc:Sampling: []\n",
      "/home/pymc/src/pmsurv/models/weibull_base.py:69: UserWarning: The effect of Potentials on other parameters is ignored during posterior predictive sampling. This is likely to lead to invalid or biased predictive samples.\n",
      "  ppc = pm.sample_posterior_predictive(self.trace, model=self.cached_model, return_inferencedata=False,\n",
      "Sampling: []\n",
      "INFO:pymc:Sampling: []\n",
      "59it [01:20,  1.25s/it]"
     ]
    },
    {
     "name": "stdout",
     "output_type": "stream",
     "text": [
      "[8]\n",
      "[8, 8, 2]\n",
      "create cached with empty data\n",
      "With k False\n"
     ]
    },
    {
     "name": "stderr",
     "output_type": "stream",
     "text": [
      "/home/pymc/src/pmsurv/models/weibull_base.py:69: UserWarning: The effect of Potentials on other parameters is ignored during posterior predictive sampling. This is likely to lead to invalid or biased predictive samples.\n",
      "  ppc = pm.sample_posterior_predictive(self.trace, model=self.cached_model, return_inferencedata=False,\n",
      "Sampling: []\n",
      "INFO:pymc:Sampling: []\n",
      "/home/pymc/src/pmsurv/models/weibull_base.py:69: UserWarning: The effect of Potentials on other parameters is ignored during posterior predictive sampling. This is likely to lead to invalid or biased predictive samples.\n",
      "  ppc = pm.sample_posterior_predictive(self.trace, model=self.cached_model, return_inferencedata=False,\n",
      "Sampling: []\n",
      "INFO:pymc:Sampling: []\n",
      "60it [01:21,  1.26s/it]"
     ]
    },
    {
     "name": "stdout",
     "output_type": "stream",
     "text": [
      "[8]\n",
      "[8, 8, 2]\n",
      "create cached with empty data\n",
      "With k False\n"
     ]
    },
    {
     "name": "stderr",
     "output_type": "stream",
     "text": [
      "/home/pymc/src/pmsurv/models/weibull_base.py:69: UserWarning: The effect of Potentials on other parameters is ignored during posterior predictive sampling. This is likely to lead to invalid or biased predictive samples.\n",
      "  ppc = pm.sample_posterior_predictive(self.trace, model=self.cached_model, return_inferencedata=False,\n",
      "Sampling: []\n",
      "INFO:pymc:Sampling: []\n",
      "/home/pymc/src/pmsurv/models/weibull_base.py:69: UserWarning: The effect of Potentials on other parameters is ignored during posterior predictive sampling. This is likely to lead to invalid or biased predictive samples.\n",
      "  ppc = pm.sample_posterior_predictive(self.trace, model=self.cached_model, return_inferencedata=False,\n",
      "Sampling: []\n",
      "INFO:pymc:Sampling: []\n",
      "61it [01:23,  1.26s/it]"
     ]
    },
    {
     "name": "stdout",
     "output_type": "stream",
     "text": [
      "[9]\n",
      "[9, 9, 2]\n",
      "create cached with empty data\n",
      "With k False\n"
     ]
    },
    {
     "name": "stderr",
     "output_type": "stream",
     "text": [
      "/home/pymc/src/pmsurv/models/weibull_base.py:69: UserWarning: The effect of Potentials on other parameters is ignored during posterior predictive sampling. This is likely to lead to invalid or biased predictive samples.\n",
      "  ppc = pm.sample_posterior_predictive(self.trace, model=self.cached_model, return_inferencedata=False,\n",
      "Sampling: []\n",
      "INFO:pymc:Sampling: []\n",
      "/home/pymc/src/pmsurv/models/weibull_base.py:69: UserWarning: The effect of Potentials on other parameters is ignored during posterior predictive sampling. This is likely to lead to invalid or biased predictive samples.\n",
      "  ppc = pm.sample_posterior_predictive(self.trace, model=self.cached_model, return_inferencedata=False,\n",
      "Sampling: []\n",
      "INFO:pymc:Sampling: []\n",
      "62it [01:24,  1.26s/it]/home/pymc/src/pmsurv/models/weibull_base.py:69: UserWarning: The effect of Potentials on other parameters is ignored during posterior predictive sampling. This is likely to lead to invalid or biased predictive samples.\n",
      "  ppc = pm.sample_posterior_predictive(self.trace, model=self.cached_model, return_inferencedata=False,\n",
      "Sampling: []\n",
      "INFO:pymc:Sampling: []\n"
     ]
    },
    {
     "name": "stdout",
     "output_type": "stream",
     "text": [
      "[8]\n",
      "[8, 8, 2]\n",
      "create cached with empty data\n",
      "With k False\n"
     ]
    },
    {
     "name": "stderr",
     "output_type": "stream",
     "text": [
      "/home/pymc/src/pmsurv/models/weibull_base.py:69: UserWarning: The effect of Potentials on other parameters is ignored during posterior predictive sampling. This is likely to lead to invalid or biased predictive samples.\n",
      "  ppc = pm.sample_posterior_predictive(self.trace, model=self.cached_model, return_inferencedata=False,\n",
      "Sampling: []\n",
      "INFO:pymc:Sampling: []\n",
      "63it [01:25,  1.23s/it]/home/pymc/src/pmsurv/models/weibull_base.py:69: UserWarning: The effect of Potentials on other parameters is ignored during posterior predictive sampling. This is likely to lead to invalid or biased predictive samples.\n",
      "  ppc = pm.sample_posterior_predictive(self.trace, model=self.cached_model, return_inferencedata=False,\n",
      "Sampling: []\n",
      "INFO:pymc:Sampling: []\n"
     ]
    },
    {
     "name": "stdout",
     "output_type": "stream",
     "text": [
      "[8]\n",
      "[8, 8, 2]\n",
      "create cached with empty data\n",
      "With k False\n"
     ]
    },
    {
     "name": "stderr",
     "output_type": "stream",
     "text": [
      "/home/pymc/src/pmsurv/models/weibull_base.py:69: UserWarning: The effect of Potentials on other parameters is ignored during posterior predictive sampling. This is likely to lead to invalid or biased predictive samples.\n",
      "  ppc = pm.sample_posterior_predictive(self.trace, model=self.cached_model, return_inferencedata=False,\n",
      "Sampling: []\n",
      "INFO:pymc:Sampling: []\n",
      "64it [01:26,  1.22s/it]/home/pymc/src/pmsurv/models/weibull_base.py:69: UserWarning: The effect of Potentials on other parameters is ignored during posterior predictive sampling. This is likely to lead to invalid or biased predictive samples.\n",
      "  ppc = pm.sample_posterior_predictive(self.trace, model=self.cached_model, return_inferencedata=False,\n",
      "Sampling: []\n",
      "INFO:pymc:Sampling: []\n"
     ]
    },
    {
     "name": "stdout",
     "output_type": "stream",
     "text": [
      "[9]\n",
      "[9, 9, 2]\n",
      "create cached with empty data\n",
      "With k False\n"
     ]
    },
    {
     "name": "stderr",
     "output_type": "stream",
     "text": [
      "/home/pymc/src/pmsurv/models/weibull_base.py:69: UserWarning: The effect of Potentials on other parameters is ignored during posterior predictive sampling. This is likely to lead to invalid or biased predictive samples.\n",
      "  ppc = pm.sample_posterior_predictive(self.trace, model=self.cached_model, return_inferencedata=False,\n",
      "Sampling: []\n",
      "INFO:pymc:Sampling: []\n",
      "65it [01:27,  1.22s/it]"
     ]
    },
    {
     "name": "stdout",
     "output_type": "stream",
     "text": [
      "[8]\n",
      "[8, 8, 2]\n",
      "create cached with empty data\n",
      "With k False\n"
     ]
    },
    {
     "name": "stderr",
     "output_type": "stream",
     "text": [
      "/home/pymc/src/pmsurv/models/weibull_base.py:69: UserWarning: The effect of Potentials on other parameters is ignored during posterior predictive sampling. This is likely to lead to invalid or biased predictive samples.\n",
      "  ppc = pm.sample_posterior_predictive(self.trace, model=self.cached_model, return_inferencedata=False,\n",
      "Sampling: []\n",
      "INFO:pymc:Sampling: []\n",
      "/home/pymc/src/pmsurv/models/weibull_base.py:69: UserWarning: The effect of Potentials on other parameters is ignored during posterior predictive sampling. This is likely to lead to invalid or biased predictive samples.\n",
      "  ppc = pm.sample_posterior_predictive(self.trace, model=self.cached_model, return_inferencedata=False,\n",
      "Sampling: []\n",
      "INFO:pymc:Sampling: []\n",
      "66it [01:29,  1.22s/it]"
     ]
    },
    {
     "name": "stdout",
     "output_type": "stream",
     "text": [
      "[9]\n",
      "[9, 9, 2]\n",
      "create cached with empty data\n",
      "With k False\n"
     ]
    },
    {
     "name": "stderr",
     "output_type": "stream",
     "text": [
      "/home/pymc/src/pmsurv/models/weibull_base.py:69: UserWarning: The effect of Potentials on other parameters is ignored during posterior predictive sampling. This is likely to lead to invalid or biased predictive samples.\n",
      "  ppc = pm.sample_posterior_predictive(self.trace, model=self.cached_model, return_inferencedata=False,\n",
      "Sampling: []\n",
      "INFO:pymc:Sampling: []\n",
      "/home/pymc/src/pmsurv/models/weibull_base.py:69: UserWarning: The effect of Potentials on other parameters is ignored during posterior predictive sampling. This is likely to lead to invalid or biased predictive samples.\n",
      "  ppc = pm.sample_posterior_predictive(self.trace, model=self.cached_model, return_inferencedata=False,\n",
      "Sampling: []\n",
      "INFO:pymc:Sampling: []\n",
      "67it [01:30,  1.25s/it]"
     ]
    },
    {
     "name": "stdout",
     "output_type": "stream",
     "text": [
      "[8]\n",
      "[8, 8, 2]\n",
      "create cached with empty data\n"
     ]
    },
    {
     "name": "stderr",
     "output_type": "stream",
     "text": [
      "/home/pymc/src/pmsurv/models/weibull_base.py:69: UserWarning: The effect of Potentials on other parameters is ignored during posterior predictive sampling. This is likely to lead to invalid or biased predictive samples.\n",
      "  ppc = pm.sample_posterior_predictive(self.trace, model=self.cached_model, return_inferencedata=False,\n",
      "Sampling: []\n",
      "INFO:pymc:Sampling: []\n"
     ]
    },
    {
     "name": "stdout",
     "output_type": "stream",
     "text": [
      "With k False\n"
     ]
    },
    {
     "name": "stderr",
     "output_type": "stream",
     "text": [
      "/home/pymc/src/pmsurv/models/weibull_base.py:69: UserWarning: The effect of Potentials on other parameters is ignored during posterior predictive sampling. This is likely to lead to invalid or biased predictive samples.\n",
      "  ppc = pm.sample_posterior_predictive(self.trace, model=self.cached_model, return_inferencedata=False,\n",
      "Sampling: []\n",
      "INFO:pymc:Sampling: []\n",
      "68it [01:31,  1.27s/it]/home/pymc/src/pmsurv/models/weibull_base.py:69: UserWarning: The effect of Potentials on other parameters is ignored during posterior predictive sampling. This is likely to lead to invalid or biased predictive samples.\n",
      "  ppc = pm.sample_posterior_predictive(self.trace, model=self.cached_model, return_inferencedata=False,\n",
      "Sampling: []\n",
      "INFO:pymc:Sampling: []\n"
     ]
    },
    {
     "name": "stdout",
     "output_type": "stream",
     "text": [
      "[8]\n",
      "[8, 8, 2]\n",
      "create cached with empty data\n",
      "With k False\n"
     ]
    },
    {
     "name": "stderr",
     "output_type": "stream",
     "text": [
      "/home/pymc/src/pmsurv/models/weibull_base.py:69: UserWarning: The effect of Potentials on other parameters is ignored during posterior predictive sampling. This is likely to lead to invalid or biased predictive samples.\n",
      "  ppc = pm.sample_posterior_predictive(self.trace, model=self.cached_model, return_inferencedata=False,\n",
      "Sampling: []\n",
      "INFO:pymc:Sampling: []\n",
      "69it [01:32,  1.24s/it]"
     ]
    },
    {
     "name": "stdout",
     "output_type": "stream",
     "text": [
      "[9]\n",
      "[9, 9, 2]\n",
      "create cached with empty data\n",
      "With k False\n"
     ]
    },
    {
     "name": "stderr",
     "output_type": "stream",
     "text": [
      "/home/pymc/src/pmsurv/models/weibull_base.py:69: UserWarning: The effect of Potentials on other parameters is ignored during posterior predictive sampling. This is likely to lead to invalid or biased predictive samples.\n",
      "  ppc = pm.sample_posterior_predictive(self.trace, model=self.cached_model, return_inferencedata=False,\n",
      "Sampling: []\n",
      "INFO:pymc:Sampling: []\n",
      "/home/pymc/src/pmsurv/models/weibull_base.py:69: UserWarning: The effect of Potentials on other parameters is ignored during posterior predictive sampling. This is likely to lead to invalid or biased predictive samples.\n",
      "  ppc = pm.sample_posterior_predictive(self.trace, model=self.cached_model, return_inferencedata=False,\n",
      "Sampling: []\n",
      "INFO:pymc:Sampling: []\n",
      "70it [01:34,  1.25s/it]/home/pymc/src/pmsurv/models/weibull_base.py:69: UserWarning: The effect of Potentials on other parameters is ignored during posterior predictive sampling. This is likely to lead to invalid or biased predictive samples.\n",
      "  ppc = pm.sample_posterior_predictive(self.trace, model=self.cached_model, return_inferencedata=False,\n",
      "Sampling: []\n",
      "INFO:pymc:Sampling: []\n"
     ]
    },
    {
     "name": "stdout",
     "output_type": "stream",
     "text": [
      "[8]\n",
      "[8, 8, 2]\n",
      "create cached with empty data\n",
      "With k False\n"
     ]
    },
    {
     "name": "stderr",
     "output_type": "stream",
     "text": [
      "/home/pymc/src/pmsurv/models/weibull_base.py:69: UserWarning: The effect of Potentials on other parameters is ignored during posterior predictive sampling. This is likely to lead to invalid or biased predictive samples.\n",
      "  ppc = pm.sample_posterior_predictive(self.trace, model=self.cached_model, return_inferencedata=False,\n",
      "Sampling: []\n",
      "INFO:pymc:Sampling: []\n",
      "71it [01:35,  1.24s/it]/home/pymc/src/pmsurv/models/weibull_base.py:69: UserWarning: The effect of Potentials on other parameters is ignored during posterior predictive sampling. This is likely to lead to invalid or biased predictive samples.\n",
      "  ppc = pm.sample_posterior_predictive(self.trace, model=self.cached_model, return_inferencedata=False,\n",
      "Sampling: []\n",
      "INFO:pymc:Sampling: []\n"
     ]
    },
    {
     "name": "stdout",
     "output_type": "stream",
     "text": [
      "[8]\n",
      "[8, 8, 2]\n",
      "create cached with empty data\n",
      "With k False\n"
     ]
    },
    {
     "name": "stderr",
     "output_type": "stream",
     "text": [
      "/home/pymc/src/pmsurv/models/weibull_base.py:69: UserWarning: The effect of Potentials on other parameters is ignored during posterior predictive sampling. This is likely to lead to invalid or biased predictive samples.\n",
      "  ppc = pm.sample_posterior_predictive(self.trace, model=self.cached_model, return_inferencedata=False,\n",
      "Sampling: []\n",
      "INFO:pymc:Sampling: []\n",
      "72it [01:36,  1.26s/it]"
     ]
    },
    {
     "name": "stdout",
     "output_type": "stream",
     "text": [
      "[8]\n",
      "[8, 8, 2]\n",
      "create cached with empty data\n",
      "With k False\n"
     ]
    },
    {
     "name": "stderr",
     "output_type": "stream",
     "text": [
      "/home/pymc/src/pmsurv/models/weibull_base.py:69: UserWarning: The effect of Potentials on other parameters is ignored during posterior predictive sampling. This is likely to lead to invalid or biased predictive samples.\n",
      "  ppc = pm.sample_posterior_predictive(self.trace, model=self.cached_model, return_inferencedata=False,\n",
      "Sampling: []\n",
      "INFO:pymc:Sampling: []\n",
      "/home/pymc/src/pmsurv/models/weibull_base.py:69: UserWarning: The effect of Potentials on other parameters is ignored during posterior predictive sampling. This is likely to lead to invalid or biased predictive samples.\n",
      "  ppc = pm.sample_posterior_predictive(self.trace, model=self.cached_model, return_inferencedata=False,\n",
      "Sampling: []\n",
      "INFO:pymc:Sampling: []\n",
      "73it [01:38,  1.28s/it]"
     ]
    },
    {
     "name": "stdout",
     "output_type": "stream",
     "text": [
      "[8]\n",
      "[8, 8, 2]\n",
      "create cached with empty data\n",
      "With k False\n"
     ]
    },
    {
     "name": "stderr",
     "output_type": "stream",
     "text": [
      "/home/pymc/src/pmsurv/models/weibull_base.py:69: UserWarning: The effect of Potentials on other parameters is ignored during posterior predictive sampling. This is likely to lead to invalid or biased predictive samples.\n",
      "  ppc = pm.sample_posterior_predictive(self.trace, model=self.cached_model, return_inferencedata=False,\n",
      "Sampling: []\n",
      "INFO:pymc:Sampling: []\n",
      "/home/pymc/src/pmsurv/models/weibull_base.py:69: UserWarning: The effect of Potentials on other parameters is ignored during posterior predictive sampling. This is likely to lead to invalid or biased predictive samples.\n",
      "  ppc = pm.sample_posterior_predictive(self.trace, model=self.cached_model, return_inferencedata=False,\n",
      "Sampling: []\n",
      "INFO:pymc:Sampling: []\n",
      "74it [01:39,  1.28s/it]/home/pymc/src/pmsurv/models/weibull_base.py:69: UserWarning: The effect of Potentials on other parameters is ignored during posterior predictive sampling. This is likely to lead to invalid or biased predictive samples.\n",
      "  ppc = pm.sample_posterior_predictive(self.trace, model=self.cached_model, return_inferencedata=False,\n",
      "Sampling: []\n",
      "INFO:pymc:Sampling: []\n"
     ]
    },
    {
     "name": "stdout",
     "output_type": "stream",
     "text": [
      "[8]\n",
      "[8, 8, 2]\n",
      "create cached with empty data\n",
      "With k False\n"
     ]
    },
    {
     "name": "stderr",
     "output_type": "stream",
     "text": [
      "/home/pymc/src/pmsurv/models/weibull_base.py:69: UserWarning: The effect of Potentials on other parameters is ignored during posterior predictive sampling. This is likely to lead to invalid or biased predictive samples.\n",
      "  ppc = pm.sample_posterior_predictive(self.trace, model=self.cached_model, return_inferencedata=False,\n",
      "Sampling: []\n",
      "INFO:pymc:Sampling: []\n",
      "75it [01:40,  1.26s/it]/home/pymc/src/pmsurv/models/weibull_base.py:69: UserWarning: The effect of Potentials on other parameters is ignored during posterior predictive sampling. This is likely to lead to invalid or biased predictive samples.\n",
      "  ppc = pm.sample_posterior_predictive(self.trace, model=self.cached_model, return_inferencedata=False,\n",
      "Sampling: []\n",
      "INFO:pymc:Sampling: []\n"
     ]
    },
    {
     "name": "stdout",
     "output_type": "stream",
     "text": [
      "[8]\n",
      "[8, 8, 2]\n",
      "create cached with empty data\n",
      "With k False\n"
     ]
    },
    {
     "name": "stderr",
     "output_type": "stream",
     "text": [
      "/home/pymc/src/pmsurv/models/weibull_base.py:69: UserWarning: The effect of Potentials on other parameters is ignored during posterior predictive sampling. This is likely to lead to invalid or biased predictive samples.\n",
      "  ppc = pm.sample_posterior_predictive(self.trace, model=self.cached_model, return_inferencedata=False,\n",
      "Sampling: []\n",
      "INFO:pymc:Sampling: []\n",
      "76it [01:41,  1.26s/it]/home/pymc/src/pmsurv/models/weibull_base.py:69: UserWarning: The effect of Potentials on other parameters is ignored during posterior predictive sampling. This is likely to lead to invalid or biased predictive samples.\n",
      "  ppc = pm.sample_posterior_predictive(self.trace, model=self.cached_model, return_inferencedata=False,\n",
      "Sampling: []\n"
     ]
    },
    {
     "name": "stdout",
     "output_type": "stream",
     "text": [
      "[8]\n",
      "[8, 8, 2]\n",
      "create cached with empty data\n",
      "With k False\n"
     ]
    },
    {
     "name": "stderr",
     "output_type": "stream",
     "text": [
      "INFO:pymc:Sampling: []\n",
      "/home/pymc/src/pmsurv/models/weibull_base.py:69: UserWarning: The effect of Potentials on other parameters is ignored during posterior predictive sampling. This is likely to lead to invalid or biased predictive samples.\n",
      "  ppc = pm.sample_posterior_predictive(self.trace, model=self.cached_model, return_inferencedata=False,\n",
      "Sampling: []\n",
      "INFO:pymc:Sampling: []\n",
      "77it [01:43,  1.27s/it]/home/pymc/src/pmsurv/models/weibull_base.py:69: UserWarning: The effect of Potentials on other parameters is ignored during posterior predictive sampling. This is likely to lead to invalid or biased predictive samples.\n",
      "  ppc = pm.sample_posterior_predictive(self.trace, model=self.cached_model, return_inferencedata=False,\n",
      "Sampling: []\n",
      "INFO:pymc:Sampling: []\n"
     ]
    },
    {
     "name": "stdout",
     "output_type": "stream",
     "text": [
      "[8]\n",
      "[8, 8, 2]\n",
      "create cached with empty data\n",
      "With k False\n"
     ]
    },
    {
     "name": "stderr",
     "output_type": "stream",
     "text": [
      "/home/pymc/src/pmsurv/models/weibull_base.py:69: UserWarning: The effect of Potentials on other parameters is ignored during posterior predictive sampling. This is likely to lead to invalid or biased predictive samples.\n",
      "  ppc = pm.sample_posterior_predictive(self.trace, model=self.cached_model, return_inferencedata=False,\n",
      "Sampling: []\n",
      "INFO:pymc:Sampling: []\n",
      "78it [01:44,  1.26s/it]/home/pymc/src/pmsurv/models/weibull_base.py:69: UserWarning: The effect of Potentials on other parameters is ignored during posterior predictive sampling. This is likely to lead to invalid or biased predictive samples.\n",
      "  ppc = pm.sample_posterior_predictive(self.trace, model=self.cached_model, return_inferencedata=False,\n",
      "Sampling: []\n",
      "INFO:pymc:Sampling: []\n"
     ]
    },
    {
     "name": "stdout",
     "output_type": "stream",
     "text": [
      "[8]\n",
      "[8, 8, 2]\n",
      "create cached with empty data\n",
      "With k False\n"
     ]
    },
    {
     "name": "stderr",
     "output_type": "stream",
     "text": [
      "/home/pymc/src/pmsurv/models/weibull_base.py:69: UserWarning: The effect of Potentials on other parameters is ignored during posterior predictive sampling. This is likely to lead to invalid or biased predictive samples.\n",
      "  ppc = pm.sample_posterior_predictive(self.trace, model=self.cached_model, return_inferencedata=False,\n",
      "Sampling: []\n",
      "INFO:pymc:Sampling: []\n",
      "79it [01:45,  1.25s/it]/home/pymc/src/pmsurv/models/weibull_base.py:69: UserWarning: The effect of Potentials on other parameters is ignored during posterior predictive sampling. This is likely to lead to invalid or biased predictive samples.\n",
      "  ppc = pm.sample_posterior_predictive(self.trace, model=self.cached_model, return_inferencedata=False,\n",
      "Sampling: []\n",
      "INFO:pymc:Sampling: []\n"
     ]
    },
    {
     "name": "stdout",
     "output_type": "stream",
     "text": [
      "[8]\n",
      "[8, 8, 2]\n",
      "create cached with empty data\n",
      "With k False\n"
     ]
    },
    {
     "name": "stderr",
     "output_type": "stream",
     "text": [
      "/home/pymc/src/pmsurv/models/weibull_base.py:69: UserWarning: The effect of Potentials on other parameters is ignored during posterior predictive sampling. This is likely to lead to invalid or biased predictive samples.\n",
      "  ppc = pm.sample_posterior_predictive(self.trace, model=self.cached_model, return_inferencedata=False,\n",
      "Sampling: []\n",
      "INFO:pymc:Sampling: []\n",
      "80it [01:46,  1.24s/it]/home/pymc/src/pmsurv/models/weibull_base.py:69: UserWarning: The effect of Potentials on other parameters is ignored during posterior predictive sampling. This is likely to lead to invalid or biased predictive samples.\n",
      "  ppc = pm.sample_posterior_predictive(self.trace, model=self.cached_model, return_inferencedata=False,\n",
      "Sampling: []\n",
      "INFO:pymc:Sampling: []\n"
     ]
    },
    {
     "name": "stdout",
     "output_type": "stream",
     "text": [
      "[8]\n",
      "[8, 8, 2]\n",
      "create cached with empty data\n",
      "With k False\n"
     ]
    },
    {
     "name": "stderr",
     "output_type": "stream",
     "text": [
      "/home/pymc/src/pmsurv/models/weibull_base.py:69: UserWarning: The effect of Potentials on other parameters is ignored during posterior predictive sampling. This is likely to lead to invalid or biased predictive samples.\n",
      "  ppc = pm.sample_posterior_predictive(self.trace, model=self.cached_model, return_inferencedata=False,\n",
      "Sampling: []\n",
      "INFO:pymc:Sampling: []\n",
      "81it [01:48,  1.24s/it]/home/pymc/src/pmsurv/models/weibull_base.py:69: UserWarning: The effect of Potentials on other parameters is ignored during posterior predictive sampling. This is likely to lead to invalid or biased predictive samples.\n",
      "  ppc = pm.sample_posterior_predictive(self.trace, model=self.cached_model, return_inferencedata=False,\n",
      "Sampling: []\n",
      "INFO:pymc:Sampling: []\n"
     ]
    },
    {
     "name": "stdout",
     "output_type": "stream",
     "text": [
      "[8]\n",
      "[8, 8, 2]\n",
      "create cached with empty data\n",
      "With k False\n"
     ]
    },
    {
     "name": "stderr",
     "output_type": "stream",
     "text": [
      "/home/pymc/src/pmsurv/models/weibull_base.py:69: UserWarning: The effect of Potentials on other parameters is ignored during posterior predictive sampling. This is likely to lead to invalid or biased predictive samples.\n",
      "  ppc = pm.sample_posterior_predictive(self.trace, model=self.cached_model, return_inferencedata=False,\n",
      "Sampling: []\n",
      "INFO:pymc:Sampling: []\n",
      "82it [01:49,  1.23s/it]/home/pymc/src/pmsurv/models/weibull_base.py:69: UserWarning: The effect of Potentials on other parameters is ignored during posterior predictive sampling. This is likely to lead to invalid or biased predictive samples.\n",
      "  ppc = pm.sample_posterior_predictive(self.trace, model=self.cached_model, return_inferencedata=False,\n",
      "Sampling: []\n",
      "INFO:pymc:Sampling: []\n"
     ]
    },
    {
     "name": "stdout",
     "output_type": "stream",
     "text": [
      "[8]\n",
      "[8, 8, 2]\n",
      "create cached with empty data\n",
      "With k False\n"
     ]
    },
    {
     "name": "stderr",
     "output_type": "stream",
     "text": [
      "/home/pymc/src/pmsurv/models/weibull_base.py:69: UserWarning: The effect of Potentials on other parameters is ignored during posterior predictive sampling. This is likely to lead to invalid or biased predictive samples.\n",
      "  ppc = pm.sample_posterior_predictive(self.trace, model=self.cached_model, return_inferencedata=False,\n",
      "Sampling: []\n",
      "INFO:pymc:Sampling: []\n",
      "83it [01:50,  1.23s/it]"
     ]
    },
    {
     "name": "stdout",
     "output_type": "stream",
     "text": [
      "[8]\n",
      "[8, 8, 2]\n",
      "create cached with empty data\n",
      "With k False\n"
     ]
    },
    {
     "name": "stderr",
     "output_type": "stream",
     "text": [
      "/home/pymc/src/pmsurv/models/weibull_base.py:69: UserWarning: The effect of Potentials on other parameters is ignored during posterior predictive sampling. This is likely to lead to invalid or biased predictive samples.\n",
      "  ppc = pm.sample_posterior_predictive(self.trace, model=self.cached_model, return_inferencedata=False,\n",
      "Sampling: []\n",
      "INFO:pymc:Sampling: []\n",
      "/home/pymc/src/pmsurv/models/weibull_base.py:69: UserWarning: The effect of Potentials on other parameters is ignored during posterior predictive sampling. This is likely to lead to invalid or biased predictive samples.\n",
      "  ppc = pm.sample_posterior_predictive(self.trace, model=self.cached_model, return_inferencedata=False,\n",
      "Sampling: []\n",
      "INFO:pymc:Sampling: []\n",
      "84it [01:51,  1.26s/it]/home/pymc/src/pmsurv/models/weibull_base.py:69: UserWarning: The effect of Potentials on other parameters is ignored during posterior predictive sampling. This is likely to lead to invalid or biased predictive samples.\n",
      "  ppc = pm.sample_posterior_predictive(self.trace, model=self.cached_model, return_inferencedata=False,\n",
      "Sampling: []\n",
      "INFO:pymc:Sampling: []\n"
     ]
    },
    {
     "name": "stdout",
     "output_type": "stream",
     "text": [
      "[8]\n",
      "[8, 8, 2]\n",
      "create cached with empty data\n",
      "With k False\n"
     ]
    },
    {
     "name": "stderr",
     "output_type": "stream",
     "text": [
      "/home/pymc/src/pmsurv/models/weibull_base.py:69: UserWarning: The effect of Potentials on other parameters is ignored during posterior predictive sampling. This is likely to lead to invalid or biased predictive samples.\n",
      "  ppc = pm.sample_posterior_predictive(self.trace, model=self.cached_model, return_inferencedata=False,\n",
      "Sampling: []\n",
      "INFO:pymc:Sampling: []\n",
      "85it [01:53,  1.24s/it]/home/pymc/src/pmsurv/models/weibull_base.py:69: UserWarning: The effect of Potentials on other parameters is ignored during posterior predictive sampling. This is likely to lead to invalid or biased predictive samples.\n",
      "  ppc = pm.sample_posterior_predictive(self.trace, model=self.cached_model, return_inferencedata=False,\n",
      "Sampling: []\n",
      "INFO:pymc:Sampling: []\n"
     ]
    },
    {
     "name": "stdout",
     "output_type": "stream",
     "text": [
      "[8]\n",
      "[8, 8, 2]\n",
      "create cached with empty data\n",
      "With k False\n"
     ]
    },
    {
     "name": "stderr",
     "output_type": "stream",
     "text": [
      "/home/pymc/src/pmsurv/models/weibull_base.py:69: UserWarning: The effect of Potentials on other parameters is ignored during posterior predictive sampling. This is likely to lead to invalid or biased predictive samples.\n",
      "  ppc = pm.sample_posterior_predictive(self.trace, model=self.cached_model, return_inferencedata=False,\n",
      "Sampling: []\n",
      "INFO:pymc:Sampling: []\n",
      "86it [01:54,  1.22s/it]/home/pymc/src/pmsurv/models/weibull_base.py:69: UserWarning: The effect of Potentials on other parameters is ignored during posterior predictive sampling. This is likely to lead to invalid or biased predictive samples.\n",
      "  ppc = pm.sample_posterior_predictive(self.trace, model=self.cached_model, return_inferencedata=False,\n",
      "Sampling: []\n",
      "INFO:pymc:Sampling: []\n"
     ]
    },
    {
     "name": "stdout",
     "output_type": "stream",
     "text": [
      "[8]\n",
      "[8, 8, 2]\n",
      "create cached with empty data\n",
      "With k False\n"
     ]
    },
    {
     "name": "stderr",
     "output_type": "stream",
     "text": [
      "/home/pymc/src/pmsurv/models/weibull_base.py:69: UserWarning: The effect of Potentials on other parameters is ignored during posterior predictive sampling. This is likely to lead to invalid or biased predictive samples.\n",
      "  ppc = pm.sample_posterior_predictive(self.trace, model=self.cached_model, return_inferencedata=False,\n",
      "Sampling: []\n",
      "INFO:pymc:Sampling: []\n",
      "87it [01:55,  1.19s/it]"
     ]
    },
    {
     "name": "stdout",
     "output_type": "stream",
     "text": [
      "[8]\n",
      "[8, 8, 2]\n",
      "create cached with empty data\n",
      "With k False\n"
     ]
    },
    {
     "name": "stderr",
     "output_type": "stream",
     "text": [
      "/home/pymc/src/pmsurv/models/weibull_base.py:69: UserWarning: The effect of Potentials on other parameters is ignored during posterior predictive sampling. This is likely to lead to invalid or biased predictive samples.\n",
      "  ppc = pm.sample_posterior_predictive(self.trace, model=self.cached_model, return_inferencedata=False,\n",
      "Sampling: []\n",
      "INFO:pymc:Sampling: []\n",
      "/home/pymc/src/pmsurv/models/weibull_base.py:69: UserWarning: The effect of Potentials on other parameters is ignored during posterior predictive sampling. This is likely to lead to invalid or biased predictive samples.\n",
      "  ppc = pm.sample_posterior_predictive(self.trace, model=self.cached_model, return_inferencedata=False,\n",
      "Sampling: []\n",
      "INFO:pymc:Sampling: []\n",
      "88it [01:56,  1.21s/it]"
     ]
    },
    {
     "name": "stdout",
     "output_type": "stream",
     "text": [
      "[8]\n",
      "[8, 8, 2]\n",
      "create cached with empty data\n",
      "With k False\n"
     ]
    },
    {
     "name": "stderr",
     "output_type": "stream",
     "text": [
      "/home/pymc/src/pmsurv/models/weibull_base.py:69: UserWarning: The effect of Potentials on other parameters is ignored during posterior predictive sampling. This is likely to lead to invalid or biased predictive samples.\n",
      "  ppc = pm.sample_posterior_predictive(self.trace, model=self.cached_model, return_inferencedata=False,\n",
      "Sampling: []\n",
      "INFO:pymc:Sampling: []\n",
      "/home/pymc/src/pmsurv/models/weibull_base.py:69: UserWarning: The effect of Potentials on other parameters is ignored during posterior predictive sampling. This is likely to lead to invalid or biased predictive samples.\n",
      "  ppc = pm.sample_posterior_predictive(self.trace, model=self.cached_model, return_inferencedata=False,\n",
      "Sampling: []\n",
      "INFO:pymc:Sampling: []\n",
      "89it [01:58,  1.29s/it]/home/pymc/src/pmsurv/models/weibull_base.py:69: UserWarning: The effect of Potentials on other parameters is ignored during posterior predictive sampling. This is likely to lead to invalid or biased predictive samples.\n",
      "  ppc = pm.sample_posterior_predictive(self.trace, model=self.cached_model, return_inferencedata=False,\n",
      "Sampling: []\n",
      "INFO:pymc:Sampling: []\n"
     ]
    },
    {
     "name": "stdout",
     "output_type": "stream",
     "text": [
      "[8]\n",
      "[8, 8, 2]\n",
      "create cached with empty data\n",
      "With k False\n"
     ]
    },
    {
     "name": "stderr",
     "output_type": "stream",
     "text": [
      "/home/pymc/src/pmsurv/models/weibull_base.py:69: UserWarning: The effect of Potentials on other parameters is ignored during posterior predictive sampling. This is likely to lead to invalid or biased predictive samples.\n",
      "  ppc = pm.sample_posterior_predictive(self.trace, model=self.cached_model, return_inferencedata=False,\n",
      "Sampling: []\n",
      "INFO:pymc:Sampling: []\n",
      "90it [01:59,  1.29s/it]"
     ]
    },
    {
     "name": "stdout",
     "output_type": "stream",
     "text": [
      "[8]\n",
      "[8, 8, 2]\n",
      "create cached with empty data\n",
      "With k False\n"
     ]
    },
    {
     "name": "stderr",
     "output_type": "stream",
     "text": [
      "/home/pymc/src/pmsurv/models/weibull_base.py:69: UserWarning: The effect of Potentials on other parameters is ignored during posterior predictive sampling. This is likely to lead to invalid or biased predictive samples.\n",
      "  ppc = pm.sample_posterior_predictive(self.trace, model=self.cached_model, return_inferencedata=False,\n",
      "Sampling: []\n",
      "INFO:pymc:Sampling: []\n",
      "/home/pymc/src/pmsurv/models/weibull_base.py:69: UserWarning: The effect of Potentials on other parameters is ignored during posterior predictive sampling. This is likely to lead to invalid or biased predictive samples.\n",
      "  ppc = pm.sample_posterior_predictive(self.trace, model=self.cached_model, return_inferencedata=False,\n",
      "Sampling: []\n",
      "INFO:pymc:Sampling: []\n",
      "91it [02:00,  1.30s/it]/home/pymc/src/pmsurv/models/weibull_base.py:69: UserWarning: The effect of Potentials on other parameters is ignored during posterior predictive sampling. This is likely to lead to invalid or biased predictive samples.\n",
      "  ppc = pm.sample_posterior_predictive(self.trace, model=self.cached_model, return_inferencedata=False,\n",
      "Sampling: []\n",
      "INFO:pymc:Sampling: []\n"
     ]
    },
    {
     "name": "stdout",
     "output_type": "stream",
     "text": [
      "[9]\n",
      "[9, 9, 2]\n",
      "create cached with empty data\n",
      "With k False\n"
     ]
    },
    {
     "name": "stderr",
     "output_type": "stream",
     "text": [
      "/home/pymc/src/pmsurv/models/weibull_base.py:69: UserWarning: The effect of Potentials on other parameters is ignored during posterior predictive sampling. This is likely to lead to invalid or biased predictive samples.\n",
      "  ppc = pm.sample_posterior_predictive(self.trace, model=self.cached_model, return_inferencedata=False,\n",
      "Sampling: []\n",
      "INFO:pymc:Sampling: []\n",
      "92it [02:01,  1.29s/it]"
     ]
    },
    {
     "name": "stdout",
     "output_type": "stream",
     "text": [
      "[8]\n",
      "[8, 8, 2]\n",
      "create cached with empty data\n",
      "With k False\n"
     ]
    },
    {
     "name": "stderr",
     "output_type": "stream",
     "text": [
      "/home/pymc/src/pmsurv/models/weibull_base.py:69: UserWarning: The effect of Potentials on other parameters is ignored during posterior predictive sampling. This is likely to lead to invalid or biased predictive samples.\n",
      "  ppc = pm.sample_posterior_predictive(self.trace, model=self.cached_model, return_inferencedata=False,\n",
      "Sampling: []\n",
      "INFO:pymc:Sampling: []\n",
      "/home/pymc/src/pmsurv/models/weibull_base.py:69: UserWarning: The effect of Potentials on other parameters is ignored during posterior predictive sampling. This is likely to lead to invalid or biased predictive samples.\n",
      "  ppc = pm.sample_posterior_predictive(self.trace, model=self.cached_model, return_inferencedata=False,\n",
      "Sampling: []\n",
      "INFO:pymc:Sampling: []\n",
      "93it [02:03,  1.30s/it]"
     ]
    },
    {
     "name": "stdout",
     "output_type": "stream",
     "text": [
      "[9]\n",
      "[9, 9, 2]\n",
      "create cached with empty data\n",
      "With k False\n"
     ]
    },
    {
     "name": "stderr",
     "output_type": "stream",
     "text": [
      "/home/pymc/src/pmsurv/models/weibull_base.py:69: UserWarning: The effect of Potentials on other parameters is ignored during posterior predictive sampling. This is likely to lead to invalid or biased predictive samples.\n",
      "  ppc = pm.sample_posterior_predictive(self.trace, model=self.cached_model, return_inferencedata=False,\n",
      "Sampling: []\n",
      "INFO:pymc:Sampling: []\n",
      "/home/pymc/src/pmsurv/models/weibull_base.py:69: UserWarning: The effect of Potentials on other parameters is ignored during posterior predictive sampling. This is likely to lead to invalid or biased predictive samples.\n",
      "  ppc = pm.sample_posterior_predictive(self.trace, model=self.cached_model, return_inferencedata=False,\n",
      "Sampling: []\n",
      "INFO:pymc:Sampling: []\n",
      "94it [02:04,  1.32s/it]"
     ]
    },
    {
     "name": "stdout",
     "output_type": "stream",
     "text": [
      "[8]\n",
      "[8, 8, 2]\n",
      "create cached with empty data\n",
      "With k False\n"
     ]
    },
    {
     "name": "stderr",
     "output_type": "stream",
     "text": [
      "/home/pymc/src/pmsurv/models/weibull_base.py:69: UserWarning: The effect of Potentials on other parameters is ignored during posterior predictive sampling. This is likely to lead to invalid or biased predictive samples.\n",
      "  ppc = pm.sample_posterior_predictive(self.trace, model=self.cached_model, return_inferencedata=False,\n",
      "Sampling: []\n",
      "INFO:pymc:Sampling: []\n",
      "/home/pymc/src/pmsurv/models/weibull_base.py:69: UserWarning: The effect of Potentials on other parameters is ignored during posterior predictive sampling. This is likely to lead to invalid or biased predictive samples.\n",
      "  ppc = pm.sample_posterior_predictive(self.trace, model=self.cached_model, return_inferencedata=False,\n",
      "Sampling: []\n",
      "INFO:pymc:Sampling: []\n",
      "95it [02:05,  1.32s/it]"
     ]
    },
    {
     "name": "stdout",
     "output_type": "stream",
     "text": [
      "[9]\n",
      "[9, 9, 2]\n",
      "create cached with empty data\n",
      "With k False\n"
     ]
    },
    {
     "name": "stderr",
     "output_type": "stream",
     "text": [
      "/home/pymc/src/pmsurv/models/weibull_base.py:69: UserWarning: The effect of Potentials on other parameters is ignored during posterior predictive sampling. This is likely to lead to invalid or biased predictive samples.\n",
      "  ppc = pm.sample_posterior_predictive(self.trace, model=self.cached_model, return_inferencedata=False,\n",
      "Sampling: []\n",
      "INFO:pymc:Sampling: []\n",
      "/home/pymc/src/pmsurv/models/weibull_base.py:69: UserWarning: The effect of Potentials on other parameters is ignored during posterior predictive sampling. This is likely to lead to invalid or biased predictive samples.\n",
      "  ppc = pm.sample_posterior_predictive(self.trace, model=self.cached_model, return_inferencedata=False,\n",
      "Sampling: []\n",
      "INFO:pymc:Sampling: []\n",
      "96it [02:07,  1.34s/it]"
     ]
    },
    {
     "name": "stdout",
     "output_type": "stream",
     "text": [
      "[9]\n",
      "[9, 9, 2]\n",
      "create cached with empty data\n",
      "With k False\n"
     ]
    },
    {
     "name": "stderr",
     "output_type": "stream",
     "text": [
      "/home/pymc/src/pmsurv/models/weibull_base.py:69: UserWarning: The effect of Potentials on other parameters is ignored during posterior predictive sampling. This is likely to lead to invalid or biased predictive samples.\n",
      "  ppc = pm.sample_posterior_predictive(self.trace, model=self.cached_model, return_inferencedata=False,\n",
      "Sampling: []\n",
      "INFO:pymc:Sampling: []\n",
      "/home/pymc/src/pmsurv/models/weibull_base.py:69: UserWarning: The effect of Potentials on other parameters is ignored during posterior predictive sampling. This is likely to lead to invalid or biased predictive samples.\n",
      "  ppc = pm.sample_posterior_predictive(self.trace, model=self.cached_model, return_inferencedata=False,\n",
      "Sampling: []\n",
      "INFO:pymc:Sampling: []\n",
      "97it [02:08,  1.35s/it]"
     ]
    },
    {
     "name": "stdout",
     "output_type": "stream",
     "text": [
      "[8]\n",
      "[8, 8, 2]\n",
      "create cached with empty data\n",
      "With k False\n"
     ]
    },
    {
     "name": "stderr",
     "output_type": "stream",
     "text": [
      "/home/pymc/src/pmsurv/models/weibull_base.py:69: UserWarning: The effect of Potentials on other parameters is ignored during posterior predictive sampling. This is likely to lead to invalid or biased predictive samples.\n",
      "  ppc = pm.sample_posterior_predictive(self.trace, model=self.cached_model, return_inferencedata=False,\n",
      "Sampling: []\n",
      "INFO:pymc:Sampling: []\n",
      "/home/pymc/src/pmsurv/models/weibull_base.py:69: UserWarning: The effect of Potentials on other parameters is ignored during posterior predictive sampling. This is likely to lead to invalid or biased predictive samples.\n",
      "  ppc = pm.sample_posterior_predictive(self.trace, model=self.cached_model, return_inferencedata=False,\n",
      "Sampling: []\n",
      "INFO:pymc:Sampling: []\n",
      "98it [02:10,  1.34s/it]"
     ]
    },
    {
     "name": "stdout",
     "output_type": "stream",
     "text": [
      "[8]\n",
      "[8, 8, 2]\n",
      "create cached with empty data\n",
      "With k False\n"
     ]
    },
    {
     "name": "stderr",
     "output_type": "stream",
     "text": [
      "/home/pymc/src/pmsurv/models/weibull_base.py:69: UserWarning: The effect of Potentials on other parameters is ignored during posterior predictive sampling. This is likely to lead to invalid or biased predictive samples.\n",
      "  ppc = pm.sample_posterior_predictive(self.trace, model=self.cached_model, return_inferencedata=False,\n",
      "Sampling: []\n",
      "INFO:pymc:Sampling: []\n",
      "/home/pymc/src/pmsurv/models/weibull_base.py:69: UserWarning: The effect of Potentials on other parameters is ignored during posterior predictive sampling. This is likely to lead to invalid or biased predictive samples.\n",
      "  ppc = pm.sample_posterior_predictive(self.trace, model=self.cached_model, return_inferencedata=False,\n",
      "Sampling: []\n",
      "INFO:pymc:Sampling: []\n",
      "99it [02:11,  1.33s/it]"
     ]
    },
    {
     "name": "stdout",
     "output_type": "stream",
     "text": [
      "[9]\n",
      "[9, 9, 2]\n",
      "create cached with empty data\n",
      "With k False\n"
     ]
    },
    {
     "name": "stderr",
     "output_type": "stream",
     "text": [
      "/home/pymc/src/pmsurv/models/weibull_base.py:69: UserWarning: The effect of Potentials on other parameters is ignored during posterior predictive sampling. This is likely to lead to invalid or biased predictive samples.\n",
      "  ppc = pm.sample_posterior_predictive(self.trace, model=self.cached_model, return_inferencedata=False,\n",
      "Sampling: []\n",
      "INFO:pymc:Sampling: []\n",
      "/home/pymc/src/pmsurv/models/weibull_base.py:69: UserWarning: The effect of Potentials on other parameters is ignored during posterior predictive sampling. This is likely to lead to invalid or biased predictive samples.\n",
      "  ppc = pm.sample_posterior_predictive(self.trace, model=self.cached_model, return_inferencedata=False,\n",
      "Sampling: []\n",
      "INFO:pymc:Sampling: []\n",
      "100it [02:12,  1.33s/it]\n"
     ]
    },
    {
     "data": {
      "text/html": [
       "<div>\n",
       "<style scoped>\n",
       "    .dataframe tbody tr th:only-of-type {\n",
       "        vertical-align: middle;\n",
       "    }\n",
       "\n",
       "    .dataframe tbody tr th {\n",
       "        vertical-align: top;\n",
       "    }\n",
       "\n",
       "    .dataframe thead th {\n",
       "        text-align: right;\n",
       "    }\n",
       "</style>\n",
       "<table border=\"1\" class=\"dataframe\">\n",
       "  <thead>\n",
       "    <tr style=\"text-align: right;\">\n",
       "      <th></th>\n",
       "      <th>experiment</th>\n",
       "      <th>starttime</th>\n",
       "      <th>run</th>\n",
       "      <th>cindex_orig</th>\n",
       "      <th>cindex_train</th>\n",
       "      <th>cindex_test</th>\n",
       "      <th>cindex_diff</th>\n",
       "    </tr>\n",
       "  </thead>\n",
       "  <tbody>\n",
       "    <tr>\n",
       "      <th>0</th>\n",
       "      <td>pm_exp_veteran</td>\n",
       "      <td>2211211716</td>\n",
       "      <td>0</td>\n",
       "      <td>0.713213</td>\n",
       "      <td>0.793651</td>\n",
       "      <td>0.713213</td>\n",
       "      <td>0.080438</td>\n",
       "    </tr>\n",
       "    <tr>\n",
       "      <th>0</th>\n",
       "      <td>pm_exp_veteran</td>\n",
       "      <td>2211211716</td>\n",
       "      <td>1</td>\n",
       "      <td>0.671554</td>\n",
       "      <td>0.788400</td>\n",
       "      <td>0.671554</td>\n",
       "      <td>0.116846</td>\n",
       "    </tr>\n",
       "    <tr>\n",
       "      <th>0</th>\n",
       "      <td>pm_exp_veteran</td>\n",
       "      <td>2211211716</td>\n",
       "      <td>2</td>\n",
       "      <td>0.727848</td>\n",
       "      <td>0.757277</td>\n",
       "      <td>0.727848</td>\n",
       "      <td>0.029428</td>\n",
       "    </tr>\n",
       "    <tr>\n",
       "      <th>0</th>\n",
       "      <td>pm_exp_veteran</td>\n",
       "      <td>2211211716</td>\n",
       "      <td>3</td>\n",
       "      <td>0.795608</td>\n",
       "      <td>0.767147</td>\n",
       "      <td>0.795608</td>\n",
       "      <td>-0.028461</td>\n",
       "    </tr>\n",
       "    <tr>\n",
       "      <th>0</th>\n",
       "      <td>pm_exp_veteran</td>\n",
       "      <td>2211211716</td>\n",
       "      <td>4</td>\n",
       "      <td>0.757576</td>\n",
       "      <td>0.760454</td>\n",
       "      <td>0.757576</td>\n",
       "      <td>0.002878</td>\n",
       "    </tr>\n",
       "    <tr>\n",
       "      <th>...</th>\n",
       "      <td>...</td>\n",
       "      <td>...</td>\n",
       "      <td>...</td>\n",
       "      <td>...</td>\n",
       "      <td>...</td>\n",
       "      <td>...</td>\n",
       "      <td>...</td>\n",
       "    </tr>\n",
       "    <tr>\n",
       "      <th>0</th>\n",
       "      <td>pm_nnwb_veteran</td>\n",
       "      <td>2211241521</td>\n",
       "      <td>95</td>\n",
       "      <td>0.661247</td>\n",
       "      <td>0.465608</td>\n",
       "      <td>0.390244</td>\n",
       "      <td>0.075364</td>\n",
       "    </tr>\n",
       "    <tr>\n",
       "      <th>0</th>\n",
       "      <td>pm_nnwb_veteran</td>\n",
       "      <td>2211241521</td>\n",
       "      <td>96</td>\n",
       "      <td>0.594366</td>\n",
       "      <td>0.507085</td>\n",
       "      <td>0.518310</td>\n",
       "      <td>-0.011225</td>\n",
       "    </tr>\n",
       "    <tr>\n",
       "      <th>0</th>\n",
       "      <td>pm_nnwb_veteran</td>\n",
       "      <td>2211241521</td>\n",
       "      <td>97</td>\n",
       "      <td>0.781977</td>\n",
       "      <td>0.467088</td>\n",
       "      <td>0.508721</td>\n",
       "      <td>-0.041633</td>\n",
       "    </tr>\n",
       "    <tr>\n",
       "      <th>0</th>\n",
       "      <td>pm_nnwb_veteran</td>\n",
       "      <td>2211241521</td>\n",
       "      <td>98</td>\n",
       "      <td>0.752101</td>\n",
       "      <td>0.467542</td>\n",
       "      <td>0.673669</td>\n",
       "      <td>-0.206128</td>\n",
       "    </tr>\n",
       "    <tr>\n",
       "      <th>0</th>\n",
       "      <td>pm_nnwb_veteran</td>\n",
       "      <td>2211241521</td>\n",
       "      <td>99</td>\n",
       "      <td>0.816940</td>\n",
       "      <td>0.462983</td>\n",
       "      <td>0.502732</td>\n",
       "      <td>-0.039749</td>\n",
       "    </tr>\n",
       "  </tbody>\n",
       "</table>\n",
       "<p>507 rows × 7 columns</p>\n",
       "</div>"
      ],
      "text/plain": [
       "         experiment   starttime run  cindex_orig  cindex_train  cindex_test  \\\n",
       "0    pm_exp_veteran  2211211716   0     0.713213      0.793651     0.713213   \n",
       "0    pm_exp_veteran  2211211716   1     0.671554      0.788400     0.671554   \n",
       "0    pm_exp_veteran  2211211716   2     0.727848      0.757277     0.727848   \n",
       "0    pm_exp_veteran  2211211716   3     0.795608      0.767147     0.795608   \n",
       "0    pm_exp_veteran  2211211716   4     0.757576      0.760454     0.757576   \n",
       "..              ...         ...  ..          ...           ...          ...   \n",
       "0   pm_nnwb_veteran  2211241521  95     0.661247      0.465608     0.390244   \n",
       "0   pm_nnwb_veteran  2211241521  96     0.594366      0.507085     0.518310   \n",
       "0   pm_nnwb_veteran  2211241521  97     0.781977      0.467088     0.508721   \n",
       "0   pm_nnwb_veteran  2211241521  98     0.752101      0.467542     0.673669   \n",
       "0   pm_nnwb_veteran  2211241521  99     0.816940      0.462983     0.502732   \n",
       "\n",
       "    cindex_diff  \n",
       "0      0.080438  \n",
       "0      0.116846  \n",
       "0      0.029428  \n",
       "0     -0.028461  \n",
       "0      0.002878  \n",
       "..          ...  \n",
       "0      0.075364  \n",
       "0     -0.011225  \n",
       "0     -0.041633  \n",
       "0     -0.206128  \n",
       "0     -0.039749  \n",
       "\n",
       "[507 rows x 7 columns]"
      ]
     },
     "execution_count": 60,
     "metadata": {},
     "output_type": "execute_result"
    }
   ],
   "source": [
    "results_file = os.path.join(results_dir, experiment_name, 'results.csv')\n",
    "results = pd.read_csv(results_file)\n",
    "\n",
    "for run_idx, run_row in tqdm(results.iterrows()):\n",
    "    run_path = os.path.join(results_dir, experiment_name, str(run_row.starttime), str(run_row.run))\n",
    "    \n",
    "    data = joblib.load(os.path.join(run_path, 'data.pkl'))\n",
    "    X_train, X_test, y_train, y_test = data\n",
    "    \n",
    "    if 'pm' in experiment_name:\n",
    "        selector = joblib.load(os.path.join(run_path, 'selector.pkl'))\n",
    "        if '_exp_' in experiment_name:\n",
    "            model = ExponentialModel()\n",
    "        elif '_wb_' in experiment_name:\n",
    "            model = WeibullModelLinear()\n",
    "        elif '_nnwb_' in experiment_name:\n",
    "            model = WeibullModelNN()\n",
    "        \n",
    "        model.load(os.path.join(run_path, 'model.yaml'))\n",
    "        \n",
    "        cindex_train = model.score(selector.transform(X_train), y_train)\n",
    "        cindex_test = model.score(selector.transform(X_test), y_test)\n",
    "        \n",
    "    else:\n",
    "        model = joblib.load(os.path.join(run_path, 'model.pkl'))\n",
    "        \n",
    "        cindex_train = model.score(X_train, y_train)\n",
    "        cindex_test = model.score(X_test, y_test)\n",
    "    \n",
    "    \n",
    "    \n",
    "    cindex_diff = cindex_train - cindex_test\n",
    "    \n",
    "    results_new = pd.concat([results_new, pd.DataFrame({\n",
    "        'experiment': [experiment_name],\n",
    "        'starttime': [run_row.starttime], \n",
    "        'run': [run_row.run], \n",
    "        'cindex_orig': [run_row.cindex], \n",
    "        'cindex_train': [cindex_train], \n",
    "        'cindex_test': [cindex_test], \n",
    "        'cindex_diff': [cindex_diff]\n",
    "    })])\n",
    "\n",
    "results_new"
   ]
  },
  {
   "cell_type": "code",
   "execution_count": 61,
   "id": "10037fe2-d65f-469e-88da-0e88a1727da9",
   "metadata": {},
   "outputs": [
    {
     "data": {
      "text/plain": [
       "<matplotlib.collections.LineCollection at 0x7f2d55cdb9d0>"
      ]
     },
     "execution_count": 61,
     "metadata": {},
     "output_type": "execute_result"
    },
    {
     "data": {
      "image/png": "[encoded data removed]",
      "text/plain": [
       "<Figure size 640x480 with 1 Axes>"
      ]
     },
     "metadata": {},
     "output_type": "display_data"
    }
   ],
   "source": [
    "sns.boxplot(data = results_new, x='experiment', y='cindex_diff')\n",
    "plt.hlines(y=0, xmax=5, xmin=0, colors='black', linestyles='dashed')"
   ]
  },
  {
   "cell_type": "code",
   "execution_count": null,
   "id": "c3d8da5b-e31a-4811-8fc9-98cfffebee8e",
   "metadata": {},
   "outputs": [],
   "source": []
  }
 ],
 "metadata": {
  "kernelspec": {
   "display_name": "Python 3 (ipykernel)",
   "language": "python",
   "name": "python3"
  },
  "language_info": {
   "codemirror_mode": {
    "name": "ipython",
    "version": 3
   },
   "file_extension": ".py",
   "mimetype": "text/x-python",
   "name": "python",
   "nbconvert_exporter": "python",
   "pygments_lexer": "ipython3",
   "version": "3.8.10"
  }
 },
 "nbformat": 4,
 "nbformat_minor": 5
}
