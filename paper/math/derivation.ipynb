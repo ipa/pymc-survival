{
 "cells": [
  {
   "cell_type": "code",
   "execution_count": 1,
   "id": "7d761bd7-6cf4-43b7-a7db-2aa942826594",
   "metadata": {},
   "outputs": [],
   "source": [
    "from sympy import symbols, simplify, expand\n",
    "from sympy import exp, log"
   ]
  },
  {
   "cell_type": "markdown",
   "id": "68759437-af03-4a43-aed2-03f6502c0bdf",
   "metadata": {},
   "source": [
    "# Exponential"
   ]
  },
  {
   "cell_type": "code",
   "execution_count": 2,
   "id": "93fbb56e-cae7-480b-9c9d-d506ed22b47a",
   "metadata": {},
   "outputs": [],
   "source": [
    "lambda_, t = symbols('lambda t', real=True, positive=True)"
   ]
  },
  {
   "cell_type": "code",
   "execution_count": 3,
   "id": "a798bed5-1b16-4d03-84ce-83dd5a0821e4",
   "metadata": {},
   "outputs": [
    {
     "data": {
      "text/latex": [
       "$\\displaystyle 1 - e^{- \\lambda t}$"
      ],
      "text/plain": [
       "1 - exp(-lambda*t)"
      ]
     },
     "execution_count": 3,
     "metadata": {},
     "output_type": "execute_result"
    }
   ],
   "source": [
    "cdf = 1 - exp(-lambda_ * t)\n",
    "cdf"
   ]
  },
  {
   "cell_type": "code",
   "execution_count": 4,
   "id": "c3f19fe9-378f-402b-a5ff-47a4330cba7a",
   "metadata": {},
   "outputs": [
    {
     "data": {
      "text/latex": [
       "$\\displaystyle e^{- \\lambda t}$"
      ],
      "text/plain": [
       "exp(-lambda*t)"
      ]
     },
     "execution_count": 4,
     "metadata": {},
     "output_type": "execute_result"
    }
   ],
   "source": [
    "ccdf = 1 - cdf\n",
    "ccdf"
   ]
  },
  {
   "cell_type": "code",
   "execution_count": 5,
   "id": "df5542d8-27ad-40ef-8f48-91411985bb9d",
   "metadata": {
    "jp-MarkdownHeadingCollapsed": true
   },
   "outputs": [
    {
     "data": {
      "text/latex": [
       "$\\displaystyle - \\lambda t$"
      ],
      "text/plain": [
       "-lambda*t"
      ]
     },
     "execution_count": 5,
     "metadata": {},
     "output_type": "execute_result"
    }
   ],
   "source": [
    "logccdf = log(ccdf)\n",
    "logccdf"
   ]
  },
  {
   "cell_type": "markdown",
   "id": "f25232cb-0f0c-4e8c-b04b-86dba1beb7ac",
   "metadata": {},
   "source": [
    "# Weibull"
   ]
  },
  {
   "cell_type": "code",
   "execution_count": 6,
   "id": "810611aa-1f0c-40cb-af92-ab6a004a5546",
   "metadata": {},
   "outputs": [],
   "source": [
    "lambda_, kappa, t = symbols('lambda kappa t', real=True, positive=True)"
   ]
  },
  {
   "cell_type": "code",
   "execution_count": 7,
   "id": "143b3585-6a5d-4d3b-bca4-f48152b47174",
   "metadata": {},
   "outputs": [
    {
     "data": {
      "text/latex": [
       "$\\displaystyle 1 - e^{- \\left(\\lambda t\\right)^{\\kappa}}$"
      ],
      "text/plain": [
       "1 - exp(-(lambda*t)**kappa)"
      ]
     },
     "execution_count": 7,
     "metadata": {},
     "output_type": "execute_result"
    }
   ],
   "source": [
    "cdf = 1 - exp(-(lambda_*t)**kappa)\n",
    "cdf"
   ]
  },
  {
   "cell_type": "code",
   "execution_count": 8,
   "id": "0cc6581b-a94d-4624-8a5d-e3cf3156b9b6",
   "metadata": {},
   "outputs": [
    {
     "data": {
      "text/latex": [
       "$\\displaystyle e^{- \\left(\\lambda t\\right)^{\\kappa}}$"
      ],
      "text/plain": [
       "exp(-(lambda*t)**kappa)"
      ]
     },
     "execution_count": 8,
     "metadata": {},
     "output_type": "execute_result"
    }
   ],
   "source": [
    "ccdf = 1 - cdf\n",
    "ccdf"
   ]
  },
  {
   "cell_type": "code",
   "execution_count": 9,
   "id": "585d040d-b93a-4adc-aebe-3d68e0cd5883",
   "metadata": {},
   "outputs": [
    {
     "data": {
      "text/latex": [
       "$\\displaystyle - \\left(\\lambda t\\right)^{\\kappa}$"
      ],
      "text/plain": [
       "-(lambda*t)**kappa"
      ]
     },
     "execution_count": 9,
     "metadata": {},
     "output_type": "execute_result"
    }
   ],
   "source": [
    "logccdf = log(ccdf)\n",
    "logccdf"
   ]
  },
  {
   "cell_type": "code",
   "execution_count": null,
   "id": "9f718f05-d52a-47a0-8b5f-db3d1ae303c2",
   "metadata": {},
   "outputs": [],
   "source": []
  }
 ],
 "metadata": {
  "kernelspec": {
   "display_name": "Python 3 (ipykernel)",
   "language": "python",
   "name": "python3"
  },
  "language_info": {
   "codemirror_mode": {
    "name": "ipython",
    "version": 3
   },
   "file_extension": ".py",
   "mimetype": "text/x-python",
   "name": "python",
   "nbconvert_exporter": "python",
   "pygments_lexer": "ipython3",
   "version": "3.11.5"
  }
 },
 "nbformat": 4,
 "nbformat_minor": 5
}
