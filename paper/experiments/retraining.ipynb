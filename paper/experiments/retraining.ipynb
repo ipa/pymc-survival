{
 "cells": [
  {
   "cell_type": "code",
   "execution_count": 67,
   "id": "9284e1ae-a8c6-4b00-b7d9-83b3f3ac493a",
   "metadata": {},
   "outputs": [
    {
     "name": "stdout",
     "output_type": "stream",
     "text": [
      "The autoreload extension is already loaded. To reload it, use:\n",
      "  %reload_ext autoreload\n"
     ]
    }
   ],
   "source": [
    "%load_ext autoreload\n",
    "%autoreload 2"
   ]
  },
  {
   "cell_type": "code",
   "execution_count": 77,
   "id": "2f6cda6b-64b6-418c-8fe8-58c6e2599d71",
   "metadata": {},
   "outputs": [],
   "source": [
    "import utils\n",
    "from pmsurv.models.exponential_model import ExponentialModel\n",
    "from pmsurv_exponential import preprocess_data\n",
    "import arviz as az\n",
    "import warnings\n",
    "import matplotlib.pyplot as plt"
   ]
  },
  {
   "cell_type": "code",
   "execution_count": 69,
   "id": "126bc0bc-c3ec-455c-a8c3-bcef8f5f3044",
   "metadata": {},
   "outputs": [],
   "source": [
    "warnings.filterwarnings('ignore')"
   ]
  },
  {
   "cell_type": "code",
   "execution_count": 70,
   "id": "c643ff6a-a57c-401c-ba90-f10c463cb163",
   "metadata": {},
   "outputs": [],
   "source": [
    "dataset, config = utils.load_data(\"data/aids\")"
   ]
  },
  {
   "cell_type": "code",
   "execution_count": 71,
   "id": "b46199f0-4143-4f2d-b0af-cb10c7c6ffc5",
   "metadata": {},
   "outputs": [
    {
     "data": {
      "text/html": [
       "<div>\n",
       "<style scoped>\n",
       "    .dataframe tbody tr th:only-of-type {\n",
       "        vertical-align: middle;\n",
       "    }\n",
       "\n",
       "    .dataframe tbody tr th {\n",
       "        vertical-align: top;\n",
       "    }\n",
       "\n",
       "    .dataframe thead th {\n",
       "        text-align: right;\n",
       "    }\n",
       "</style>\n",
       "<table border=\"1\" class=\"dataframe\">\n",
       "  <thead>\n",
       "    <tr style=\"text-align: right;\">\n",
       "      <th></th>\n",
       "      <th>age</th>\n",
       "      <th>sex_2</th>\n",
       "      <th>sex_2.1</th>\n",
       "      <th>cd4</th>\n",
       "      <th>priorzdv</th>\n",
       "      <th>hemophil_1</th>\n",
       "      <th>hemophil_1.1</th>\n",
       "      <th>strat2_0</th>\n",
       "      <th>strat2_0.1</th>\n",
       "      <th>strat2_1</th>\n",
       "      <th>...</th>\n",
       "      <th>raceth_3</th>\n",
       "      <th>raceth_3.1</th>\n",
       "      <th>raceth_4</th>\n",
       "      <th>raceth_4.1</th>\n",
       "      <th>raceth_5</th>\n",
       "      <th>raceth_5.1</th>\n",
       "      <th>time</th>\n",
       "      <th>censor</th>\n",
       "      <th>time_d</th>\n",
       "      <th>censor_d</th>\n",
       "    </tr>\n",
       "  </thead>\n",
       "  <tbody>\n",
       "    <tr>\n",
       "      <th>0</th>\n",
       "      <td>34</td>\n",
       "      <td>0.0</td>\n",
       "      <td>0.0</td>\n",
       "      <td>169.0</td>\n",
       "      <td>39.0</td>\n",
       "      <td>0.0</td>\n",
       "      <td>0.0</td>\n",
       "      <td>0.0</td>\n",
       "      <td>0.0</td>\n",
       "      <td>1.0</td>\n",
       "      <td>...</td>\n",
       "      <td>0.0</td>\n",
       "      <td>0.0</td>\n",
       "      <td>0.0</td>\n",
       "      <td>0.0</td>\n",
       "      <td>0.0</td>\n",
       "      <td>0.0</td>\n",
       "      <td>189</td>\n",
       "      <td>0</td>\n",
       "      <td>189</td>\n",
       "      <td>0</td>\n",
       "    </tr>\n",
       "    <tr>\n",
       "      <th>1</th>\n",
       "      <td>34</td>\n",
       "      <td>1.0</td>\n",
       "      <td>1.0</td>\n",
       "      <td>149.5</td>\n",
       "      <td>15.0</td>\n",
       "      <td>0.0</td>\n",
       "      <td>0.0</td>\n",
       "      <td>0.0</td>\n",
       "      <td>0.0</td>\n",
       "      <td>1.0</td>\n",
       "      <td>...</td>\n",
       "      <td>0.0</td>\n",
       "      <td>0.0</td>\n",
       "      <td>0.0</td>\n",
       "      <td>0.0</td>\n",
       "      <td>0.0</td>\n",
       "      <td>0.0</td>\n",
       "      <td>287</td>\n",
       "      <td>0</td>\n",
       "      <td>287</td>\n",
       "      <td>0</td>\n",
       "    </tr>\n",
       "    <tr>\n",
       "      <th>2</th>\n",
       "      <td>20</td>\n",
       "      <td>0.0</td>\n",
       "      <td>0.0</td>\n",
       "      <td>23.5</td>\n",
       "      <td>9.0</td>\n",
       "      <td>1.0</td>\n",
       "      <td>1.0</td>\n",
       "      <td>1.0</td>\n",
       "      <td>1.0</td>\n",
       "      <td>0.0</td>\n",
       "      <td>...</td>\n",
       "      <td>0.0</td>\n",
       "      <td>0.0</td>\n",
       "      <td>0.0</td>\n",
       "      <td>0.0</td>\n",
       "      <td>0.0</td>\n",
       "      <td>0.0</td>\n",
       "      <td>242</td>\n",
       "      <td>0</td>\n",
       "      <td>242</td>\n",
       "      <td>0</td>\n",
       "    </tr>\n",
       "    <tr>\n",
       "      <th>3</th>\n",
       "      <td>48</td>\n",
       "      <td>0.0</td>\n",
       "      <td>0.0</td>\n",
       "      <td>46.0</td>\n",
       "      <td>53.0</td>\n",
       "      <td>0.0</td>\n",
       "      <td>0.0</td>\n",
       "      <td>0.0</td>\n",
       "      <td>0.0</td>\n",
       "      <td>1.0</td>\n",
       "      <td>...</td>\n",
       "      <td>0.0</td>\n",
       "      <td>0.0</td>\n",
       "      <td>0.0</td>\n",
       "      <td>0.0</td>\n",
       "      <td>0.0</td>\n",
       "      <td>0.0</td>\n",
       "      <td>199</td>\n",
       "      <td>0</td>\n",
       "      <td>199</td>\n",
       "      <td>0</td>\n",
       "    </tr>\n",
       "    <tr>\n",
       "      <th>4</th>\n",
       "      <td>46</td>\n",
       "      <td>0.0</td>\n",
       "      <td>0.0</td>\n",
       "      <td>10.0</td>\n",
       "      <td>12.0</td>\n",
       "      <td>0.0</td>\n",
       "      <td>0.0</td>\n",
       "      <td>1.0</td>\n",
       "      <td>1.0</td>\n",
       "      <td>0.0</td>\n",
       "      <td>...</td>\n",
       "      <td>0.0</td>\n",
       "      <td>0.0</td>\n",
       "      <td>0.0</td>\n",
       "      <td>0.0</td>\n",
       "      <td>0.0</td>\n",
       "      <td>0.0</td>\n",
       "      <td>286</td>\n",
       "      <td>0</td>\n",
       "      <td>286</td>\n",
       "      <td>0</td>\n",
       "    </tr>\n",
       "    <tr>\n",
       "      <th>...</th>\n",
       "      <td>...</td>\n",
       "      <td>...</td>\n",
       "      <td>...</td>\n",
       "      <td>...</td>\n",
       "      <td>...</td>\n",
       "      <td>...</td>\n",
       "      <td>...</td>\n",
       "      <td>...</td>\n",
       "      <td>...</td>\n",
       "      <td>...</td>\n",
       "      <td>...</td>\n",
       "      <td>...</td>\n",
       "      <td>...</td>\n",
       "      <td>...</td>\n",
       "      <td>...</td>\n",
       "      <td>...</td>\n",
       "      <td>...</td>\n",
       "      <td>...</td>\n",
       "      <td>...</td>\n",
       "      <td>...</td>\n",
       "      <td>...</td>\n",
       "    </tr>\n",
       "    <tr>\n",
       "      <th>1146</th>\n",
       "      <td>44</td>\n",
       "      <td>0.0</td>\n",
       "      <td>0.0</td>\n",
       "      <td>65.5</td>\n",
       "      <td>103.0</td>\n",
       "      <td>0.0</td>\n",
       "      <td>0.0</td>\n",
       "      <td>0.0</td>\n",
       "      <td>0.0</td>\n",
       "      <td>1.0</td>\n",
       "      <td>...</td>\n",
       "      <td>0.0</td>\n",
       "      <td>0.0</td>\n",
       "      <td>0.0</td>\n",
       "      <td>0.0</td>\n",
       "      <td>0.0</td>\n",
       "      <td>0.0</td>\n",
       "      <td>273</td>\n",
       "      <td>0</td>\n",
       "      <td>273</td>\n",
       "      <td>0</td>\n",
       "    </tr>\n",
       "    <tr>\n",
       "      <th>1147</th>\n",
       "      <td>41</td>\n",
       "      <td>0.0</td>\n",
       "      <td>0.0</td>\n",
       "      <td>7.5</td>\n",
       "      <td>20.0</td>\n",
       "      <td>0.0</td>\n",
       "      <td>0.0</td>\n",
       "      <td>1.0</td>\n",
       "      <td>1.0</td>\n",
       "      <td>0.0</td>\n",
       "      <td>...</td>\n",
       "      <td>0.0</td>\n",
       "      <td>0.0</td>\n",
       "      <td>0.0</td>\n",
       "      <td>0.0</td>\n",
       "      <td>0.0</td>\n",
       "      <td>0.0</td>\n",
       "      <td>47</td>\n",
       "      <td>1</td>\n",
       "      <td>327</td>\n",
       "      <td>0</td>\n",
       "    </tr>\n",
       "    <tr>\n",
       "      <th>1148</th>\n",
       "      <td>43</td>\n",
       "      <td>0.0</td>\n",
       "      <td>0.0</td>\n",
       "      <td>170.0</td>\n",
       "      <td>27.0</td>\n",
       "      <td>0.0</td>\n",
       "      <td>0.0</td>\n",
       "      <td>0.0</td>\n",
       "      <td>0.0</td>\n",
       "      <td>1.0</td>\n",
       "      <td>...</td>\n",
       "      <td>0.0</td>\n",
       "      <td>0.0</td>\n",
       "      <td>0.0</td>\n",
       "      <td>0.0</td>\n",
       "      <td>0.0</td>\n",
       "      <td>0.0</td>\n",
       "      <td>272</td>\n",
       "      <td>0</td>\n",
       "      <td>272</td>\n",
       "      <td>0</td>\n",
       "    </tr>\n",
       "    <tr>\n",
       "      <th>1149</th>\n",
       "      <td>44</td>\n",
       "      <td>0.0</td>\n",
       "      <td>0.0</td>\n",
       "      <td>282.5</td>\n",
       "      <td>12.0</td>\n",
       "      <td>0.0</td>\n",
       "      <td>0.0</td>\n",
       "      <td>0.0</td>\n",
       "      <td>0.0</td>\n",
       "      <td>1.0</td>\n",
       "      <td>...</td>\n",
       "      <td>0.0</td>\n",
       "      <td>0.0</td>\n",
       "      <td>0.0</td>\n",
       "      <td>0.0</td>\n",
       "      <td>0.0</td>\n",
       "      <td>0.0</td>\n",
       "      <td>192</td>\n",
       "      <td>0</td>\n",
       "      <td>192</td>\n",
       "      <td>0</td>\n",
       "    </tr>\n",
       "    <tr>\n",
       "      <th>1150</th>\n",
       "      <td>44</td>\n",
       "      <td>0.0</td>\n",
       "      <td>0.0</td>\n",
       "      <td>120.0</td>\n",
       "      <td>26.0</td>\n",
       "      <td>0.0</td>\n",
       "      <td>0.0</td>\n",
       "      <td>0.0</td>\n",
       "      <td>0.0</td>\n",
       "      <td>1.0</td>\n",
       "      <td>...</td>\n",
       "      <td>0.0</td>\n",
       "      <td>0.0</td>\n",
       "      <td>0.0</td>\n",
       "      <td>0.0</td>\n",
       "      <td>0.0</td>\n",
       "      <td>0.0</td>\n",
       "      <td>132</td>\n",
       "      <td>0</td>\n",
       "      <td>132</td>\n",
       "      <td>0</td>\n",
       "    </tr>\n",
       "  </tbody>\n",
       "</table>\n",
       "<p>1151 rows × 47 columns</p>\n",
       "</div>"
      ],
      "text/plain": [
       "      age  sex_2  sex_2.1    cd4  priorzdv  hemophil_1  hemophil_1.1  \\\n",
       "0      34    0.0      0.0  169.0      39.0         0.0           0.0   \n",
       "1      34    1.0      1.0  149.5      15.0         0.0           0.0   \n",
       "2      20    0.0      0.0   23.5       9.0         1.0           1.0   \n",
       "3      48    0.0      0.0   46.0      53.0         0.0           0.0   \n",
       "4      46    0.0      0.0   10.0      12.0         0.0           0.0   \n",
       "...   ...    ...      ...    ...       ...         ...           ...   \n",
       "1146   44    0.0      0.0   65.5     103.0         0.0           0.0   \n",
       "1147   41    0.0      0.0    7.5      20.0         0.0           0.0   \n",
       "1148   43    0.0      0.0  170.0      27.0         0.0           0.0   \n",
       "1149   44    0.0      0.0  282.5      12.0         0.0           0.0   \n",
       "1150   44    0.0      0.0  120.0      26.0         0.0           0.0   \n",
       "\n",
       "      strat2_0  strat2_0.1  strat2_1  ...  raceth_3  raceth_3.1  raceth_4  \\\n",
       "0          0.0         0.0       1.0  ...       0.0         0.0       0.0   \n",
       "1          0.0         0.0       1.0  ...       0.0         0.0       0.0   \n",
       "2          1.0         1.0       0.0  ...       0.0         0.0       0.0   \n",
       "3          0.0         0.0       1.0  ...       0.0         0.0       0.0   \n",
       "4          1.0         1.0       0.0  ...       0.0         0.0       0.0   \n",
       "...        ...         ...       ...  ...       ...         ...       ...   \n",
       "1146       0.0         0.0       1.0  ...       0.0         0.0       0.0   \n",
       "1147       1.0         1.0       0.0  ...       0.0         0.0       0.0   \n",
       "1148       0.0         0.0       1.0  ...       0.0         0.0       0.0   \n",
       "1149       0.0         0.0       1.0  ...       0.0         0.0       0.0   \n",
       "1150       0.0         0.0       1.0  ...       0.0         0.0       0.0   \n",
       "\n",
       "      raceth_4.1  raceth_5  raceth_5.1  time  censor  time_d  censor_d  \n",
       "0            0.0       0.0         0.0   189       0     189         0  \n",
       "1            0.0       0.0         0.0   287       0     287         0  \n",
       "2            0.0       0.0         0.0   242       0     242         0  \n",
       "3            0.0       0.0         0.0   199       0     199         0  \n",
       "4            0.0       0.0         0.0   286       0     286         0  \n",
       "...          ...       ...         ...   ...     ...     ...       ...  \n",
       "1146         0.0       0.0         0.0   273       0     273         0  \n",
       "1147         0.0       0.0         0.0    47       1     327         0  \n",
       "1148         0.0       0.0         0.0   272       0     272         0  \n",
       "1149         0.0       0.0         0.0   192       0     192         0  \n",
       "1150         0.0       0.0         0.0   132       0     132         0  \n",
       "\n",
       "[1151 rows x 47 columns]"
      ]
     },
     "execution_count": 71,
     "metadata": {},
     "output_type": "execute_result"
    }
   ],
   "source": [
    "dataset"
   ]
  },
  {
   "cell_type": "code",
   "execution_count": 72,
   "id": "406c9131-a3be-4072-ad3e-b85e9f898222",
   "metadata": {},
   "outputs": [
    {
     "name": "stdout",
     "output_type": "stream",
     "text": [
      "143\n"
     ]
    }
   ],
   "source": [
    "partitions = 8\n",
    "partition_size = int(len(dataset) / partitions)\n",
    "print(partition_size)\n",
    "\n",
    "partition = {}\n",
    "for i in range(1, partitions+1):\n",
    "    partition[i] = dataset.iloc[(i-1)*partition_size:i*partition_size, :]\n",
    "    partition[10+i] = dataset.iloc[:i*partition_size, :]\n",
    "    # 1: \n",
    "    # 2: dataset.iloc[1*partition_size:2*partition_size, :],\n",
    "    # 3: dataset.iloc[2*partition_size:3*partition_size, :],\n",
    "    # 4: dataset.iloc[3*partition_size:, :],\n",
    "    # 11: dataset.iloc[:1*partition_size, :],\n",
    "    # 12: dataset.iloc[:2*partition_size, :],\n",
    "    # 13: dataset.iloc[:3*partition_size, :]\n"
   ]
  },
  {
   "cell_type": "code",
   "execution_count": 73,
   "id": "eedf7ee3-d999-402e-b849-2d614f0922a6",
   "metadata": {},
   "outputs": [
    {
     "data": {
      "text/html": [
       "<div>\n",
       "<style scoped>\n",
       "    .dataframe tbody tr th:only-of-type {\n",
       "        vertical-align: middle;\n",
       "    }\n",
       "\n",
       "    .dataframe tbody tr th {\n",
       "        vertical-align: top;\n",
       "    }\n",
       "\n",
       "    .dataframe thead th {\n",
       "        text-align: right;\n",
       "    }\n",
       "</style>\n",
       "<table border=\"1\" class=\"dataframe\">\n",
       "  <thead>\n",
       "    <tr style=\"text-align: right;\">\n",
       "      <th></th>\n",
       "      <th>age</th>\n",
       "      <th>sex_2</th>\n",
       "      <th>sex_2.1</th>\n",
       "      <th>cd4</th>\n",
       "      <th>priorzdv</th>\n",
       "      <th>hemophil_1</th>\n",
       "      <th>hemophil_1.1</th>\n",
       "      <th>strat2_0</th>\n",
       "      <th>strat2_0.1</th>\n",
       "      <th>strat2_1</th>\n",
       "      <th>...</th>\n",
       "      <th>raceth_3</th>\n",
       "      <th>raceth_3.1</th>\n",
       "      <th>raceth_4</th>\n",
       "      <th>raceth_4.1</th>\n",
       "      <th>raceth_5</th>\n",
       "      <th>raceth_5.1</th>\n",
       "      <th>time</th>\n",
       "      <th>censor</th>\n",
       "      <th>time_d</th>\n",
       "      <th>censor_d</th>\n",
       "    </tr>\n",
       "  </thead>\n",
       "  <tbody>\n",
       "    <tr>\n",
       "      <th>143</th>\n",
       "      <td>49</td>\n",
       "      <td>1.0</td>\n",
       "      <td>1.0</td>\n",
       "      <td>165.5</td>\n",
       "      <td>40.0</td>\n",
       "      <td>0.0</td>\n",
       "      <td>0.0</td>\n",
       "      <td>0.0</td>\n",
       "      <td>0.0</td>\n",
       "      <td>1.0</td>\n",
       "      <td>...</td>\n",
       "      <td>0.0</td>\n",
       "      <td>0.0</td>\n",
       "      <td>0.0</td>\n",
       "      <td>0.0</td>\n",
       "      <td>0.0</td>\n",
       "      <td>0.0</td>\n",
       "      <td>287</td>\n",
       "      <td>0</td>\n",
       "      <td>287</td>\n",
       "      <td>0</td>\n",
       "    </tr>\n",
       "    <tr>\n",
       "      <th>144</th>\n",
       "      <td>29</td>\n",
       "      <td>1.0</td>\n",
       "      <td>1.0</td>\n",
       "      <td>55.0</td>\n",
       "      <td>36.0</td>\n",
       "      <td>0.0</td>\n",
       "      <td>0.0</td>\n",
       "      <td>0.0</td>\n",
       "      <td>0.0</td>\n",
       "      <td>1.0</td>\n",
       "      <td>...</td>\n",
       "      <td>0.0</td>\n",
       "      <td>0.0</td>\n",
       "      <td>0.0</td>\n",
       "      <td>0.0</td>\n",
       "      <td>0.0</td>\n",
       "      <td>0.0</td>\n",
       "      <td>132</td>\n",
       "      <td>0</td>\n",
       "      <td>132</td>\n",
       "      <td>0</td>\n",
       "    </tr>\n",
       "    <tr>\n",
       "      <th>145</th>\n",
       "      <td>43</td>\n",
       "      <td>0.0</td>\n",
       "      <td>0.0</td>\n",
       "      <td>11.5</td>\n",
       "      <td>10.0</td>\n",
       "      <td>0.0</td>\n",
       "      <td>0.0</td>\n",
       "      <td>1.0</td>\n",
       "      <td>1.0</td>\n",
       "      <td>0.0</td>\n",
       "      <td>...</td>\n",
       "      <td>0.0</td>\n",
       "      <td>0.0</td>\n",
       "      <td>0.0</td>\n",
       "      <td>0.0</td>\n",
       "      <td>0.0</td>\n",
       "      <td>0.0</td>\n",
       "      <td>20</td>\n",
       "      <td>1</td>\n",
       "      <td>293</td>\n",
       "      <td>0</td>\n",
       "    </tr>\n",
       "    <tr>\n",
       "      <th>146</th>\n",
       "      <td>45</td>\n",
       "      <td>0.0</td>\n",
       "      <td>0.0</td>\n",
       "      <td>263.5</td>\n",
       "      <td>61.0</td>\n",
       "      <td>0.0</td>\n",
       "      <td>0.0</td>\n",
       "      <td>0.0</td>\n",
       "      <td>0.0</td>\n",
       "      <td>1.0</td>\n",
       "      <td>...</td>\n",
       "      <td>0.0</td>\n",
       "      <td>0.0</td>\n",
       "      <td>0.0</td>\n",
       "      <td>0.0</td>\n",
       "      <td>0.0</td>\n",
       "      <td>0.0</td>\n",
       "      <td>300</td>\n",
       "      <td>0</td>\n",
       "      <td>300</td>\n",
       "      <td>0</td>\n",
       "    </tr>\n",
       "    <tr>\n",
       "      <th>147</th>\n",
       "      <td>41</td>\n",
       "      <td>0.0</td>\n",
       "      <td>0.0</td>\n",
       "      <td>17.5</td>\n",
       "      <td>25.0</td>\n",
       "      <td>0.0</td>\n",
       "      <td>0.0</td>\n",
       "      <td>1.0</td>\n",
       "      <td>1.0</td>\n",
       "      <td>0.0</td>\n",
       "      <td>...</td>\n",
       "      <td>0.0</td>\n",
       "      <td>0.0</td>\n",
       "      <td>0.0</td>\n",
       "      <td>0.0</td>\n",
       "      <td>0.0</td>\n",
       "      <td>0.0</td>\n",
       "      <td>91</td>\n",
       "      <td>1</td>\n",
       "      <td>110</td>\n",
       "      <td>0</td>\n",
       "    </tr>\n",
       "    <tr>\n",
       "      <th>...</th>\n",
       "      <td>...</td>\n",
       "      <td>...</td>\n",
       "      <td>...</td>\n",
       "      <td>...</td>\n",
       "      <td>...</td>\n",
       "      <td>...</td>\n",
       "      <td>...</td>\n",
       "      <td>...</td>\n",
       "      <td>...</td>\n",
       "      <td>...</td>\n",
       "      <td>...</td>\n",
       "      <td>...</td>\n",
       "      <td>...</td>\n",
       "      <td>...</td>\n",
       "      <td>...</td>\n",
       "      <td>...</td>\n",
       "      <td>...</td>\n",
       "      <td>...</td>\n",
       "      <td>...</td>\n",
       "      <td>...</td>\n",
       "      <td>...</td>\n",
       "    </tr>\n",
       "    <tr>\n",
       "      <th>281</th>\n",
       "      <td>43</td>\n",
       "      <td>0.0</td>\n",
       "      <td>0.0</td>\n",
       "      <td>155.5</td>\n",
       "      <td>14.0</td>\n",
       "      <td>0.0</td>\n",
       "      <td>0.0</td>\n",
       "      <td>0.0</td>\n",
       "      <td>0.0</td>\n",
       "      <td>1.0</td>\n",
       "      <td>...</td>\n",
       "      <td>0.0</td>\n",
       "      <td>0.0</td>\n",
       "      <td>0.0</td>\n",
       "      <td>0.0</td>\n",
       "      <td>0.0</td>\n",
       "      <td>0.0</td>\n",
       "      <td>181</td>\n",
       "      <td>0</td>\n",
       "      <td>181</td>\n",
       "      <td>0</td>\n",
       "    </tr>\n",
       "    <tr>\n",
       "      <th>282</th>\n",
       "      <td>47</td>\n",
       "      <td>0.0</td>\n",
       "      <td>0.0</td>\n",
       "      <td>9.5</td>\n",
       "      <td>7.0</td>\n",
       "      <td>0.0</td>\n",
       "      <td>0.0</td>\n",
       "      <td>1.0</td>\n",
       "      <td>1.0</td>\n",
       "      <td>0.0</td>\n",
       "      <td>...</td>\n",
       "      <td>0.0</td>\n",
       "      <td>0.0</td>\n",
       "      <td>0.0</td>\n",
       "      <td>0.0</td>\n",
       "      <td>0.0</td>\n",
       "      <td>0.0</td>\n",
       "      <td>104</td>\n",
       "      <td>0</td>\n",
       "      <td>104</td>\n",
       "      <td>0</td>\n",
       "    </tr>\n",
       "    <tr>\n",
       "      <th>283</th>\n",
       "      <td>38</td>\n",
       "      <td>0.0</td>\n",
       "      <td>0.0</td>\n",
       "      <td>106.0</td>\n",
       "      <td>6.0</td>\n",
       "      <td>0.0</td>\n",
       "      <td>0.0</td>\n",
       "      <td>0.0</td>\n",
       "      <td>0.0</td>\n",
       "      <td>1.0</td>\n",
       "      <td>...</td>\n",
       "      <td>0.0</td>\n",
       "      <td>0.0</td>\n",
       "      <td>0.0</td>\n",
       "      <td>0.0</td>\n",
       "      <td>0.0</td>\n",
       "      <td>0.0</td>\n",
       "      <td>228</td>\n",
       "      <td>0</td>\n",
       "      <td>228</td>\n",
       "      <td>0</td>\n",
       "    </tr>\n",
       "    <tr>\n",
       "      <th>284</th>\n",
       "      <td>37</td>\n",
       "      <td>0.0</td>\n",
       "      <td>0.0</td>\n",
       "      <td>107.5</td>\n",
       "      <td>6.0</td>\n",
       "      <td>0.0</td>\n",
       "      <td>0.0</td>\n",
       "      <td>0.0</td>\n",
       "      <td>0.0</td>\n",
       "      <td>1.0</td>\n",
       "      <td>...</td>\n",
       "      <td>0.0</td>\n",
       "      <td>0.0</td>\n",
       "      <td>0.0</td>\n",
       "      <td>0.0</td>\n",
       "      <td>0.0</td>\n",
       "      <td>0.0</td>\n",
       "      <td>263</td>\n",
       "      <td>0</td>\n",
       "      <td>263</td>\n",
       "      <td>0</td>\n",
       "    </tr>\n",
       "    <tr>\n",
       "      <th>285</th>\n",
       "      <td>32</td>\n",
       "      <td>0.0</td>\n",
       "      <td>0.0</td>\n",
       "      <td>158.5</td>\n",
       "      <td>31.0</td>\n",
       "      <td>0.0</td>\n",
       "      <td>0.0</td>\n",
       "      <td>0.0</td>\n",
       "      <td>0.0</td>\n",
       "      <td>1.0</td>\n",
       "      <td>...</td>\n",
       "      <td>1.0</td>\n",
       "      <td>1.0</td>\n",
       "      <td>0.0</td>\n",
       "      <td>0.0</td>\n",
       "      <td>0.0</td>\n",
       "      <td>0.0</td>\n",
       "      <td>276</td>\n",
       "      <td>0</td>\n",
       "      <td>276</td>\n",
       "      <td>0</td>\n",
       "    </tr>\n",
       "  </tbody>\n",
       "</table>\n",
       "<p>143 rows × 47 columns</p>\n",
       "</div>"
      ],
      "text/plain": [
       "     age  sex_2  sex_2.1    cd4  priorzdv  hemophil_1  hemophil_1.1  strat2_0  \\\n",
       "143   49    1.0      1.0  165.5      40.0         0.0           0.0       0.0   \n",
       "144   29    1.0      1.0   55.0      36.0         0.0           0.0       0.0   \n",
       "145   43    0.0      0.0   11.5      10.0         0.0           0.0       1.0   \n",
       "146   45    0.0      0.0  263.5      61.0         0.0           0.0       0.0   \n",
       "147   41    0.0      0.0   17.5      25.0         0.0           0.0       1.0   \n",
       "..   ...    ...      ...    ...       ...         ...           ...       ...   \n",
       "281   43    0.0      0.0  155.5      14.0         0.0           0.0       0.0   \n",
       "282   47    0.0      0.0    9.5       7.0         0.0           0.0       1.0   \n",
       "283   38    0.0      0.0  106.0       6.0         0.0           0.0       0.0   \n",
       "284   37    0.0      0.0  107.5       6.0         0.0           0.0       0.0   \n",
       "285   32    0.0      0.0  158.5      31.0         0.0           0.0       0.0   \n",
       "\n",
       "     strat2_0.1  strat2_1  ...  raceth_3  raceth_3.1  raceth_4  raceth_4.1  \\\n",
       "143         0.0       1.0  ...       0.0         0.0       0.0         0.0   \n",
       "144         0.0       1.0  ...       0.0         0.0       0.0         0.0   \n",
       "145         1.0       0.0  ...       0.0         0.0       0.0         0.0   \n",
       "146         0.0       1.0  ...       0.0         0.0       0.0         0.0   \n",
       "147         1.0       0.0  ...       0.0         0.0       0.0         0.0   \n",
       "..          ...       ...  ...       ...         ...       ...         ...   \n",
       "281         0.0       1.0  ...       0.0         0.0       0.0         0.0   \n",
       "282         1.0       0.0  ...       0.0         0.0       0.0         0.0   \n",
       "283         0.0       1.0  ...       0.0         0.0       0.0         0.0   \n",
       "284         0.0       1.0  ...       0.0         0.0       0.0         0.0   \n",
       "285         0.0       1.0  ...       1.0         1.0       0.0         0.0   \n",
       "\n",
       "     raceth_5  raceth_5.1  time  censor  time_d  censor_d  \n",
       "143       0.0         0.0   287       0     287         0  \n",
       "144       0.0         0.0   132       0     132         0  \n",
       "145       0.0         0.0    20       1     293         0  \n",
       "146       0.0         0.0   300       0     300         0  \n",
       "147       0.0         0.0    91       1     110         0  \n",
       "..        ...         ...   ...     ...     ...       ...  \n",
       "281       0.0         0.0   181       0     181         0  \n",
       "282       0.0         0.0   104       0     104         0  \n",
       "283       0.0         0.0   228       0     228         0  \n",
       "284       0.0         0.0   263       0     263         0  \n",
       "285       0.0         0.0   276       0     276         0  \n",
       "\n",
       "[143 rows x 47 columns]"
      ]
     },
     "execution_count": 73,
     "metadata": {},
     "output_type": "execute_result"
    }
   ],
   "source": [
    "dataset.iloc[(2-1)*partition_size:2*partition_size, :]"
   ]
  },
  {
   "cell_type": "markdown",
   "id": "de6f5ab4-2d52-4c9b-b077-aaf830b913cf",
   "metadata": {},
   "source": [
    "# First test"
   ]
  },
  {
   "cell_type": "code",
   "execution_count": 78,
   "id": "0eaad8d3-bdfc-4cc6-98bc-c05b6f16ba57",
   "metadata": {},
   "outputs": [],
   "source": [
    "model = ExponentialModel()"
   ]
  },
  {
   "cell_type": "code",
   "execution_count": 79,
   "id": "3bb413a1-b77d-4330-b1c4-5d097ffec765",
   "metadata": {},
   "outputs": [],
   "source": [
    "X_train, y_train = preprocess_data(partition[1], config)\n",
    "X_test, y_test = preprocess_data(partition[2], config)\n",
    "X_train, X_test, _ = utils.standardize(X_train, X_test, config)"
   ]
  },
  {
   "cell_type": "code",
   "execution_count": 80,
   "id": "c0ecc283-a278-4f95-957a-7ea188c9e2c2",
   "metadata": {},
   "outputs": [
    {
     "name": "stdout",
     "output_type": "stream",
     "text": [
      "Compiling...\n",
      "Compilation time =  0:00:07.816890\n",
      "Sampling...\n"
     ]
    },
    {
     "data": {
      "application/vnd.jupyter.widget-view+json": {
       "model_id": "542aaefd2f4e4100ad4e512d50971797",
       "version_major": 2,
       "version_minor": 0
      },
      "text/plain": [
       "  0%|          | 0/3000 [00:00<?, ?it/s]"
      ]
     },
     "metadata": {},
     "output_type": "display_data"
    },
    {
     "data": {
      "application/vnd.jupyter.widget-view+json": {
       "model_id": "e0529c0b67ba4053ab60a96a8a70f1f5",
       "version_major": 2,
       "version_minor": 0
      },
      "text/plain": [
       "  0%|          | 0/3000 [00:00<?, ?it/s]"
      ]
     },
     "metadata": {},
     "output_type": "display_data"
    },
    {
     "name": "stdout",
     "output_type": "stream",
     "text": [
      "Sampling time =  0:00:12.558159\n",
      "Transforming variables...\n",
      "Transformation time =  0:00:00.464150\n",
      "Computing Log Likelihood...\n",
      "Log Likelihood time =  0:00:00.667251\n"
     ]
    },
    {
     "data": {
      "text/html": [
       "<style>#sk-container-id-4 {color: black;background-color: white;}#sk-container-id-4 pre{padding: 0;}#sk-container-id-4 div.sk-toggleable {background-color: white;}#sk-container-id-4 label.sk-toggleable__label {cursor: pointer;display: block;width: 100%;margin-bottom: 0;padding: 0.3em;box-sizing: border-box;text-align: center;}#sk-container-id-4 label.sk-toggleable__label-arrow:before {content: \"▸\";float: left;margin-right: 0.25em;color: #696969;}#sk-container-id-4 label.sk-toggleable__label-arrow:hover:before {color: black;}#sk-container-id-4 div.sk-estimator:hover label.sk-toggleable__label-arrow:before {color: black;}#sk-container-id-4 div.sk-toggleable__content {max-height: 0;max-width: 0;overflow: hidden;text-align: left;background-color: #f0f8ff;}#sk-container-id-4 div.sk-toggleable__content pre {margin: 0.2em;color: black;border-radius: 0.25em;background-color: #f0f8ff;}#sk-container-id-4 input.sk-toggleable__control:checked~div.sk-toggleable__content {max-height: 200px;max-width: 100%;overflow: auto;}#sk-container-id-4 input.sk-toggleable__control:checked~label.sk-toggleable__label-arrow:before {content: \"▾\";}#sk-container-id-4 div.sk-estimator input.sk-toggleable__control:checked~label.sk-toggleable__label {background-color: #d4ebff;}#sk-container-id-4 div.sk-label input.sk-toggleable__control:checked~label.sk-toggleable__label {background-color: #d4ebff;}#sk-container-id-4 input.sk-hidden--visually {border: 0;clip: rect(1px 1px 1px 1px);clip: rect(1px, 1px, 1px, 1px);height: 1px;margin: -1px;overflow: hidden;padding: 0;position: absolute;width: 1px;}#sk-container-id-4 div.sk-estimator {font-family: monospace;background-color: #f0f8ff;border: 1px dotted black;border-radius: 0.25em;box-sizing: border-box;margin-bottom: 0.5em;}#sk-container-id-4 div.sk-estimator:hover {background-color: #d4ebff;}#sk-container-id-4 div.sk-parallel-item::after {content: \"\";width: 100%;border-bottom: 1px solid gray;flex-grow: 1;}#sk-container-id-4 div.sk-label:hover label.sk-toggleable__label {background-color: #d4ebff;}#sk-container-id-4 div.sk-serial::before {content: \"\";position: absolute;border-left: 1px solid gray;box-sizing: border-box;top: 0;bottom: 0;left: 50%;z-index: 0;}#sk-container-id-4 div.sk-serial {display: flex;flex-direction: column;align-items: center;background-color: white;padding-right: 0.2em;padding-left: 0.2em;position: relative;}#sk-container-id-4 div.sk-item {position: relative;z-index: 1;}#sk-container-id-4 div.sk-parallel {display: flex;align-items: stretch;justify-content: center;background-color: white;position: relative;}#sk-container-id-4 div.sk-item::before, #sk-container-id-4 div.sk-parallel-item::before {content: \"\";position: absolute;border-left: 1px solid gray;box-sizing: border-box;top: 0;bottom: 0;left: 50%;z-index: -1;}#sk-container-id-4 div.sk-parallel-item {display: flex;flex-direction: column;z-index: 1;position: relative;background-color: white;}#sk-container-id-4 div.sk-parallel-item:first-child::after {align-self: flex-end;width: 50%;}#sk-container-id-4 div.sk-parallel-item:last-child::after {align-self: flex-start;width: 50%;}#sk-container-id-4 div.sk-parallel-item:only-child::after {width: 0;}#sk-container-id-4 div.sk-dashed-wrapped {border: 1px dashed gray;margin: 0 0.4em 0.5em 0.4em;box-sizing: border-box;padding-bottom: 0.4em;background-color: white;}#sk-container-id-4 div.sk-label label {font-family: monospace;font-weight: bold;display: inline-block;line-height: 1.2em;}#sk-container-id-4 div.sk-label-container {text-align: center;}#sk-container-id-4 div.sk-container {/* jupyter's `normalize.less` sets `[hidden] { display: none; }` but bootstrap.min.css set `[hidden] { display: none !important; }` so we also need the `!important` here to be able to override the default hidden behavior on the sphinx rendered scikit-learn.org. See: https://github.com/scikit-learn/scikit-learn/issues/21755 */display: inline-block !important;position: relative;}#sk-container-id-4 div.sk-text-repr-fallback {display: none;}</style><div id=\"sk-container-id-4\" class=\"sk-top-container\"><div class=\"sk-text-repr-fallback\"><pre>ExponentialModel \n",
       "\r",
       "[&#x27;age&#x27;, &#x27;sex_2&#x27;, &#x27;cd4&#x27;, &#x27;hemophil_1&#x27;, &#x27;priorzdv&#x27;, &#x27;strat2_0&#x27;, &#x27;strat2_1&#x27;, &#x27;txgrp_1&#x27;, &#x27;txgrp_2&#x27;, &#x27;txgrp_3&#x27;, &#x27;txgrp_4&#x27;, &#x27;ivdrug_1&#x27;, &#x27;ivdrug_2&#x27;, &#x27;ivdrug_3&#x27;, &#x27;karnof_70&#x27;, &#x27;karnof_80&#x27;, &#x27;karnof_90&#x27;, &#x27;karnof_100&#x27;, &#x27;raceth_1&#x27;, &#x27;raceth_2&#x27;, &#x27;raceth_3&#x27;, &#x27;raceth_4&#x27;, &#x27;raceth_5&#x27;]\r\n",
       "{&#x27;lambda_mu&#x27;: 1, &#x27;lambda_sd&#x27;: 1, &#x27;lambda_coefs_mu&#x27;: 0, &#x27;lambda_coefs_sd&#x27;: 1, &#x27;nu&#x27;: 144}\r\n",
       "None\r\n",
       "</pre><b>In a Jupyter environment, please rerun this cell to show the HTML representation or trust the notebook. <br />On GitHub, the HTML representation is unable to render, please try loading this page with nbviewer.org.</b></div><div class=\"sk-container\" hidden><div class=\"sk-item\"><div class=\"sk-estimator sk-toggleable\"><input class=\"sk-toggleable__control sk-hidden--visually\" id=\"sk-estimator-id-4\" type=\"checkbox\" checked><label for=\"sk-estimator-id-4\" class=\"sk-toggleable__label sk-toggleable__label-arrow\">ExponentialModel</label><div class=\"sk-toggleable__content\"><pre>ExponentialModel \n",
       "\r",
       "[&#x27;age&#x27;, &#x27;sex_2&#x27;, &#x27;cd4&#x27;, &#x27;hemophil_1&#x27;, &#x27;priorzdv&#x27;, &#x27;strat2_0&#x27;, &#x27;strat2_1&#x27;, &#x27;txgrp_1&#x27;, &#x27;txgrp_2&#x27;, &#x27;txgrp_3&#x27;, &#x27;txgrp_4&#x27;, &#x27;ivdrug_1&#x27;, &#x27;ivdrug_2&#x27;, &#x27;ivdrug_3&#x27;, &#x27;karnof_70&#x27;, &#x27;karnof_80&#x27;, &#x27;karnof_90&#x27;, &#x27;karnof_100&#x27;, &#x27;raceth_1&#x27;, &#x27;raceth_2&#x27;, &#x27;raceth_3&#x27;, &#x27;raceth_4&#x27;, &#x27;raceth_5&#x27;]\r\n",
       "{&#x27;lambda_mu&#x27;: 1, &#x27;lambda_sd&#x27;: 1, &#x27;lambda_coefs_mu&#x27;: 0, &#x27;lambda_coefs_sd&#x27;: 1, &#x27;nu&#x27;: 144}\r\n",
       "None\r\n",
       "</pre></div></div></div></div></div>"
      ],
      "text/plain": [
       "ExponentialModel()"
      ]
     },
     "execution_count": 80,
     "metadata": {},
     "output_type": "execute_result"
    }
   ],
   "source": [
    "model.fit(X_train, y_train)"
   ]
  },
  {
   "cell_type": "code",
   "execution_count": 81,
   "id": "60b3aec3-52ed-4798-ad7c-9bbbb1ca5c46",
   "metadata": {},
   "outputs": [
    {
     "data": {
      "text/plain": [
       "144"
      ]
     },
     "execution_count": 81,
     "metadata": {},
     "output_type": "execute_result"
    }
   ],
   "source": [
    "model.priors['nu']"
   ]
  },
  {
   "cell_type": "code",
   "execution_count": 82,
   "id": "7961711c-7396-4742-a71b-b59d4dbf0e07",
   "metadata": {},
   "outputs": [],
   "source": [
    "summary = az.summary(model.trace)"
   ]
  },
  {
   "cell_type": "code",
   "execution_count": 83,
   "id": "42aeeb9c-6ba7-4790-8fe2-c474d6508f58",
   "metadata": {},
   "outputs": [
    {
     "data": {
      "text/html": [
       "<div>\n",
       "<style scoped>\n",
       "    .dataframe tbody tr th:only-of-type {\n",
       "        vertical-align: middle;\n",
       "    }\n",
       "\n",
       "    .dataframe tbody tr th {\n",
       "        vertical-align: top;\n",
       "    }\n",
       "\n",
       "    .dataframe thead th {\n",
       "        text-align: right;\n",
       "    }\n",
       "</style>\n",
       "<table border=\"1\" class=\"dataframe\">\n",
       "  <thead>\n",
       "    <tr style=\"text-align: right;\">\n",
       "      <th></th>\n",
       "      <th>mean</th>\n",
       "      <th>sd</th>\n",
       "      <th>hdi_3%</th>\n",
       "      <th>hdi_97%</th>\n",
       "      <th>mcse_mean</th>\n",
       "      <th>mcse_sd</th>\n",
       "      <th>ess_bulk</th>\n",
       "      <th>ess_tail</th>\n",
       "      <th>r_hat</th>\n",
       "    </tr>\n",
       "  </thead>\n",
       "  <tbody>\n",
       "    <tr>\n",
       "      <th>lambda_intercept</th>\n",
       "      <td>3.654</td>\n",
       "      <td>3.154</td>\n",
       "      <td>-0.696</td>\n",
       "      <td>9.705</td>\n",
       "      <td>0.103</td>\n",
       "      <td>0.077</td>\n",
       "      <td>1200.0</td>\n",
       "      <td>1192.0</td>\n",
       "      <td>1.0</td>\n",
       "    </tr>\n",
       "    <tr>\n",
       "      <th>lambda_age</th>\n",
       "      <td>-0.406</td>\n",
       "      <td>0.443</td>\n",
       "      <td>-1.264</td>\n",
       "      <td>0.422</td>\n",
       "      <td>0.008</td>\n",
       "      <td>0.007</td>\n",
       "      <td>3049.0</td>\n",
       "      <td>2509.0</td>\n",
       "      <td>1.0</td>\n",
       "    </tr>\n",
       "    <tr>\n",
       "      <th>lambda_sex_2</th>\n",
       "      <td>-0.112</td>\n",
       "      <td>0.652</td>\n",
       "      <td>-1.390</td>\n",
       "      <td>1.086</td>\n",
       "      <td>0.012</td>\n",
       "      <td>0.010</td>\n",
       "      <td>3156.0</td>\n",
       "      <td>2592.0</td>\n",
       "      <td>1.0</td>\n",
       "    </tr>\n",
       "    <tr>\n",
       "      <th>lambda_cd4</th>\n",
       "      <td>0.478</td>\n",
       "      <td>0.757</td>\n",
       "      <td>-0.839</td>\n",
       "      <td>2.025</td>\n",
       "      <td>0.014</td>\n",
       "      <td>0.013</td>\n",
       "      <td>3178.0</td>\n",
       "      <td>2361.0</td>\n",
       "      <td>1.0</td>\n",
       "    </tr>\n",
       "    <tr>\n",
       "      <th>lambda_hemophil_1</th>\n",
       "      <td>2.243</td>\n",
       "      <td>5.659</td>\n",
       "      <td>-2.674</td>\n",
       "      <td>9.514</td>\n",
       "      <td>0.290</td>\n",
       "      <td>0.206</td>\n",
       "      <td>875.0</td>\n",
       "      <td>435.0</td>\n",
       "      <td>1.0</td>\n",
       "    </tr>\n",
       "    <tr>\n",
       "      <th>...</th>\n",
       "      <td>...</td>\n",
       "      <td>...</td>\n",
       "      <td>...</td>\n",
       "      <td>...</td>\n",
       "      <td>...</td>\n",
       "      <td>...</td>\n",
       "      <td>...</td>\n",
       "      <td>...</td>\n",
       "      <td>...</td>\n",
       "    </tr>\n",
       "    <tr>\n",
       "      <th>lambda_det[138]</th>\n",
       "      <td>9158.164</td>\n",
       "      <td>58928.848</td>\n",
       "      <td>26.561</td>\n",
       "      <td>20004.740</td>\n",
       "      <td>1199.105</td>\n",
       "      <td>847.998</td>\n",
       "      <td>3227.0</td>\n",
       "      <td>2932.0</td>\n",
       "      <td>1.0</td>\n",
       "    </tr>\n",
       "    <tr>\n",
       "      <th>lambda_det[139]</th>\n",
       "      <td>8151.883</td>\n",
       "      <td>52848.442</td>\n",
       "      <td>20.335</td>\n",
       "      <td>19083.992</td>\n",
       "      <td>1080.051</td>\n",
       "      <td>786.065</td>\n",
       "      <td>3223.0</td>\n",
       "      <td>2889.0</td>\n",
       "      <td>1.0</td>\n",
       "    </tr>\n",
       "    <tr>\n",
       "      <th>lambda_det[140]</th>\n",
       "      <td>269419.623</td>\n",
       "      <td>3961603.910</td>\n",
       "      <td>31.916</td>\n",
       "      <td>302842.634</td>\n",
       "      <td>65368.950</td>\n",
       "      <td>46226.499</td>\n",
       "      <td>3025.0</td>\n",
       "      <td>3102.0</td>\n",
       "      <td>1.0</td>\n",
       "    </tr>\n",
       "    <tr>\n",
       "      <th>lambda_det[141]</th>\n",
       "      <td>14758.760</td>\n",
       "      <td>112836.646</td>\n",
       "      <td>7.184</td>\n",
       "      <td>31938.989</td>\n",
       "      <td>2265.303</td>\n",
       "      <td>1602.000</td>\n",
       "      <td>3400.0</td>\n",
       "      <td>3060.0</td>\n",
       "      <td>1.0</td>\n",
       "    </tr>\n",
       "    <tr>\n",
       "      <th>lambda_det[142]</th>\n",
       "      <td>17074.762</td>\n",
       "      <td>111164.684</td>\n",
       "      <td>26.544</td>\n",
       "      <td>39249.800</td>\n",
       "      <td>1814.608</td>\n",
       "      <td>1283.221</td>\n",
       "      <td>3292.0</td>\n",
       "      <td>3086.0</td>\n",
       "      <td>1.0</td>\n",
       "    </tr>\n",
       "  </tbody>\n",
       "</table>\n",
       "<p>167 rows × 9 columns</p>\n",
       "</div>"
      ],
      "text/plain": [
       "                         mean           sd  hdi_3%     hdi_97%  mcse_mean  \\\n",
       "lambda_intercept        3.654        3.154  -0.696       9.705      0.103   \n",
       "lambda_age             -0.406        0.443  -1.264       0.422      0.008   \n",
       "lambda_sex_2           -0.112        0.652  -1.390       1.086      0.012   \n",
       "lambda_cd4              0.478        0.757  -0.839       2.025      0.014   \n",
       "lambda_hemophil_1       2.243        5.659  -2.674       9.514      0.290   \n",
       "...                       ...          ...     ...         ...        ...   \n",
       "lambda_det[138]      9158.164    58928.848  26.561   20004.740   1199.105   \n",
       "lambda_det[139]      8151.883    52848.442  20.335   19083.992   1080.051   \n",
       "lambda_det[140]    269419.623  3961603.910  31.916  302842.634  65368.950   \n",
       "lambda_det[141]     14758.760   112836.646   7.184   31938.989   2265.303   \n",
       "lambda_det[142]     17074.762   111164.684  26.544   39249.800   1814.608   \n",
       "\n",
       "                     mcse_sd  ess_bulk  ess_tail  r_hat  \n",
       "lambda_intercept       0.077    1200.0    1192.0    1.0  \n",
       "lambda_age             0.007    3049.0    2509.0    1.0  \n",
       "lambda_sex_2           0.010    3156.0    2592.0    1.0  \n",
       "lambda_cd4             0.013    3178.0    2361.0    1.0  \n",
       "lambda_hemophil_1      0.206     875.0     435.0    1.0  \n",
       "...                      ...       ...       ...    ...  \n",
       "lambda_det[138]      847.998    3227.0    2932.0    1.0  \n",
       "lambda_det[139]      786.065    3223.0    2889.0    1.0  \n",
       "lambda_det[140]    46226.499    3025.0    3102.0    1.0  \n",
       "lambda_det[141]     1602.000    3400.0    3060.0    1.0  \n",
       "lambda_det[142]     1283.221    3292.0    3086.0    1.0  \n",
       "\n",
       "[167 rows x 9 columns]"
      ]
     },
     "execution_count": 83,
     "metadata": {},
     "output_type": "execute_result"
    }
   ],
   "source": [
    "summary"
   ]
  },
  {
   "cell_type": "code",
   "execution_count": 110,
   "id": "2b3adfb8-d5d1-4982-89eb-097c767a36a1",
   "metadata": {},
   "outputs": [],
   "source": [
    "new_priors = ExponentialModel._get_default_priors()\n",
    "for feature in config['features']:\n",
    "    feature_mu = summary['mean'][f'lambda_{feature}']\n",
    "    feature_sd = summary['sd'][f'lambda_{feature}']\n",
    "    new_priors[f'lambda_{feature}_mu'] = feature_mu\n",
    "    new_priors[f'lambda_{feature}_sd'] = feature_sd\n",
    "    \n",
    "new_priors[f'lambda_intercept_mu'] = summary['mean'][f'lambda_intercept']\n",
    "new_priors[f'lambda_intercept_sd'] = summary['sd'][f'lambda_intercept']\n",
    "new_priors[f'nu'] = model.priors['nu'] / 4"
   ]
  },
  {
   "cell_type": "code",
   "execution_count": 86,
   "id": "9f53284b-55c0-49c6-961b-ebc8fffaba45",
   "metadata": {},
   "outputs": [
    {
     "name": "stderr",
     "output_type": "stream",
     "text": [
      "Sampling: [y]\n",
      "INFO:pymc:Sampling: [y]\n"
     ]
    },
    {
     "data": {
      "text/plain": [
       "0.5350047303689688"
      ]
     },
     "execution_count": 86,
     "metadata": {},
     "output_type": "execute_result"
    }
   ],
   "source": [
    "model.score(X_test, y_test)"
   ]
  },
  {
   "cell_type": "code",
   "execution_count": 31,
   "id": "56496e63-9bd2-4aed-84eb-4c9e21ca8245",
   "metadata": {},
   "outputs": [],
   "source": []
  },
  {
   "cell_type": "code",
   "execution_count": 111,
   "id": "91c1a81c-7af5-46c8-8e6a-d56b7167021d",
   "metadata": {},
   "outputs": [],
   "source": [
    "X_train, y_train = preprocess_data(partition[2], config)\n",
    "X_test, y_test = preprocess_data(partition[3], config)\n",
    "X_train, X_test, _ = utils.standardize(X_train, X_test, config)"
   ]
  },
  {
   "cell_type": "code",
   "execution_count": 112,
   "id": "5cc4b2cb-5246-4a4f-985d-e0d5e96b5871",
   "metadata": {},
   "outputs": [],
   "source": [
    "# model.trace.posterior['lambda_intercept'].values.flatten()"
   ]
  },
  {
   "cell_type": "code",
   "execution_count": 113,
   "id": "59af823a-ad1b-4240-89f7-625ff0b71b10",
   "metadata": {},
   "outputs": [],
   "source": [
    "# import pmsurv.models.interpolate\n",
    "from pmsurv.models.exponential_model import ExponentialModel"
   ]
  },
  {
   "cell_type": "code",
   "execution_count": 114,
   "id": "ea5a568d-3482-4b9e-aa1b-630df6e39258",
   "metadata": {
    "scrolled": true,
    "tags": []
   },
   "outputs": [
    {
     "name": "stdout",
     "output_type": "stream",
     "text": [
      "Compiling...\n",
      "Compilation time =  0:00:06.220847\n",
      "Sampling...\n"
     ]
    },
    {
     "data": {
      "application/vnd.jupyter.widget-view+json": {
       "model_id": "efa8e7fec8f5404d9891f58136066a3f",
       "version_major": 2,
       "version_minor": 0
      },
      "text/plain": [
       "  0%|          | 0/3000 [00:00<?, ?it/s]"
      ]
     },
     "metadata": {},
     "output_type": "display_data"
    },
    {
     "data": {
      "application/vnd.jupyter.widget-view+json": {
       "model_id": "6fd17e96a5254fb2a65c02dbbb75c729",
       "version_major": 2,
       "version_minor": 0
      },
      "text/plain": [
       "  0%|          | 0/3000 [00:00<?, ?it/s]"
      ]
     },
     "metadata": {},
     "output_type": "display_data"
    },
    {
     "name": "stdout",
     "output_type": "stream",
     "text": [
      "Sampling time =  0:00:11.688076\n",
      "Transforming variables...\n",
      "Transformation time =  0:00:00.342878\n",
      "Computing Log Likelihood...\n",
      "Log Likelihood time =  0:00:00.594606\n"
     ]
    },
    {
     "data": {
      "text/html": [
       "<style>#sk-container-id-7 {color: black;background-color: white;}#sk-container-id-7 pre{padding: 0;}#sk-container-id-7 div.sk-toggleable {background-color: white;}#sk-container-id-7 label.sk-toggleable__label {cursor: pointer;display: block;width: 100%;margin-bottom: 0;padding: 0.3em;box-sizing: border-box;text-align: center;}#sk-container-id-7 label.sk-toggleable__label-arrow:before {content: \"▸\";float: left;margin-right: 0.25em;color: #696969;}#sk-container-id-7 label.sk-toggleable__label-arrow:hover:before {color: black;}#sk-container-id-7 div.sk-estimator:hover label.sk-toggleable__label-arrow:before {color: black;}#sk-container-id-7 div.sk-toggleable__content {max-height: 0;max-width: 0;overflow: hidden;text-align: left;background-color: #f0f8ff;}#sk-container-id-7 div.sk-toggleable__content pre {margin: 0.2em;color: black;border-radius: 0.25em;background-color: #f0f8ff;}#sk-container-id-7 input.sk-toggleable__control:checked~div.sk-toggleable__content {max-height: 200px;max-width: 100%;overflow: auto;}#sk-container-id-7 input.sk-toggleable__control:checked~label.sk-toggleable__label-arrow:before {content: \"▾\";}#sk-container-id-7 div.sk-estimator input.sk-toggleable__control:checked~label.sk-toggleable__label {background-color: #d4ebff;}#sk-container-id-7 div.sk-label input.sk-toggleable__control:checked~label.sk-toggleable__label {background-color: #d4ebff;}#sk-container-id-7 input.sk-hidden--visually {border: 0;clip: rect(1px 1px 1px 1px);clip: rect(1px, 1px, 1px, 1px);height: 1px;margin: -1px;overflow: hidden;padding: 0;position: absolute;width: 1px;}#sk-container-id-7 div.sk-estimator {font-family: monospace;background-color: #f0f8ff;border: 1px dotted black;border-radius: 0.25em;box-sizing: border-box;margin-bottom: 0.5em;}#sk-container-id-7 div.sk-estimator:hover {background-color: #d4ebff;}#sk-container-id-7 div.sk-parallel-item::after {content: \"\";width: 100%;border-bottom: 1px solid gray;flex-grow: 1;}#sk-container-id-7 div.sk-label:hover label.sk-toggleable__label {background-color: #d4ebff;}#sk-container-id-7 div.sk-serial::before {content: \"\";position: absolute;border-left: 1px solid gray;box-sizing: border-box;top: 0;bottom: 0;left: 50%;z-index: 0;}#sk-container-id-7 div.sk-serial {display: flex;flex-direction: column;align-items: center;background-color: white;padding-right: 0.2em;padding-left: 0.2em;position: relative;}#sk-container-id-7 div.sk-item {position: relative;z-index: 1;}#sk-container-id-7 div.sk-parallel {display: flex;align-items: stretch;justify-content: center;background-color: white;position: relative;}#sk-container-id-7 div.sk-item::before, #sk-container-id-7 div.sk-parallel-item::before {content: \"\";position: absolute;border-left: 1px solid gray;box-sizing: border-box;top: 0;bottom: 0;left: 50%;z-index: -1;}#sk-container-id-7 div.sk-parallel-item {display: flex;flex-direction: column;z-index: 1;position: relative;background-color: white;}#sk-container-id-7 div.sk-parallel-item:first-child::after {align-self: flex-end;width: 50%;}#sk-container-id-7 div.sk-parallel-item:last-child::after {align-self: flex-start;width: 50%;}#sk-container-id-7 div.sk-parallel-item:only-child::after {width: 0;}#sk-container-id-7 div.sk-dashed-wrapped {border: 1px dashed gray;margin: 0 0.4em 0.5em 0.4em;box-sizing: border-box;padding-bottom: 0.4em;background-color: white;}#sk-container-id-7 div.sk-label label {font-family: monospace;font-weight: bold;display: inline-block;line-height: 1.2em;}#sk-container-id-7 div.sk-label-container {text-align: center;}#sk-container-id-7 div.sk-container {/* jupyter's `normalize.less` sets `[hidden] { display: none; }` but bootstrap.min.css set `[hidden] { display: none !important; }` so we also need the `!important` here to be able to override the default hidden behavior on the sphinx rendered scikit-learn.org. See: https://github.com/scikit-learn/scikit-learn/issues/21755 */display: inline-block !important;position: relative;}#sk-container-id-7 div.sk-text-repr-fallback {display: none;}</style><div id=\"sk-container-id-7\" class=\"sk-top-container\"><div class=\"sk-text-repr-fallback\"><pre>ExponentialModel \n",
       "\r",
       "[&#x27;age&#x27;, &#x27;sex_2&#x27;, &#x27;cd4&#x27;, &#x27;hemophil_1&#x27;, &#x27;priorzdv&#x27;, &#x27;strat2_0&#x27;, &#x27;strat2_1&#x27;, &#x27;txgrp_1&#x27;, &#x27;txgrp_2&#x27;, &#x27;txgrp_3&#x27;, &#x27;txgrp_4&#x27;, &#x27;ivdrug_1&#x27;, &#x27;ivdrug_2&#x27;, &#x27;ivdrug_3&#x27;, &#x27;karnof_70&#x27;, &#x27;karnof_80&#x27;, &#x27;karnof_90&#x27;, &#x27;karnof_100&#x27;, &#x27;raceth_1&#x27;, &#x27;raceth_2&#x27;, &#x27;raceth_3&#x27;, &#x27;raceth_4&#x27;, &#x27;raceth_5&#x27;]\r\n",
       "{&#x27;lambda_mu&#x27;: 1, &#x27;lambda_sd&#x27;: 1, &#x27;lambda_coefs_mu&#x27;: 0, &#x27;lambda_coefs_sd&#x27;: 1, &#x27;nu&#x27;: 179.0, &#x27;lambda_age_mu&#x27;: -0.406, &#x27;lambda_age_sd&#x27;: 0.443, &#x27;lambda_sex_2_mu&#x27;: -0.112, &#x27;lambda_sex_2_sd&#x27;: 0.652, &#x27;lambda_cd4_mu&#x27;: 0.478, &#x27;lambda_cd4_sd&#x27;: 0.757, &#x27;lambda_hemophil_1_mu&#x27;: 2.243, &#x27;lambda_hemophil_1_sd&#x27;: 5.659, &#x27;lambda_priorzdv_mu&#x27;: 0.024, &#x27;lambda_priorzdv_sd&#x27;: 0.402, &#x27;lambda_strat2_0_mu&#x27;: -0.33, &#x27;lambda_strat2_0_sd&#x27;: 1.862, &#x27;lambda_strat2_1_mu&#x27;: 2.964, &#x27;lambda_strat2_1_sd&#x27;: 2.422, &#x27;lambda_txgrp_1_mu&#x27;: -0.336, &#x27;lambda_txgrp_1_sd&#x27;: 1.602, &#x27;lambda_txgrp_2_mu&#x27;: 2.208, &#x27;lambda_txgrp_2_sd&#x27;: 1.904, &#x27;lambda_txgrp_3_mu&#x27;: 0.01, &#x27;lambda_txgrp_3_sd&#x27;: 8.413, &#x27;lambda_txgrp_4_mu&#x27;: -1.196, &#x27;lambda_txgrp_4_sd&#x27;: 17.475, &#x27;lambda_ivdrug_1_mu&#x27;: 0.037, &#x27;lambda_ivdrug_1_sd&#x27;: 2.132, &#x27;lambda_ivdrug_2_mu&#x27;: 0.014, &#x27;lambda_ivdrug_2_sd&#x27;: 7.353, &#x27;lambda_ivdrug_3_mu&#x27;: 21.752, &#x27;lambda_ivdrug_3_sd&#x27;: 93.568, &#x27;lambda_karnof_70_mu&#x27;: 2.272, &#x27;lambda_karnof_70_sd&#x27;: 10.364, &#x27;lambda_karnof_80_mu&#x27;: 0.131, &#x27;lambda_karnof_80_sd&#x27;: 0.906, &#x27;lambda_karnof_90_mu&#x27;: 0.071, &#x27;lambda_karnof_90_sd&#x27;: 0.826, &#x27;lambda_karnof_100_mu&#x27;: 0.16, &#x27;lambda_karnof_100_sd&#x27;: 1.03, &#x27;lambda_raceth_1_mu&#x27;: 2.016, &#x27;lambda_raceth_1_sd&#x27;: 1.522, &#x27;lambda_raceth_2_mu&#x27;: -0.896, &#x27;lambda_raceth_2_sd&#x27;: 1.119, &#x27;lambda_raceth_3_mu&#x27;: 0.186, &#x27;lambda_raceth_3_sd&#x27;: 1.063, &#x27;lambda_raceth_4_mu&#x27;: 1.147, &#x27;lambda_raceth_4_sd&#x27;: 5.968, &#x27;lambda_raceth_5_mu&#x27;: 0.841, &#x27;lambda_raceth_5_sd&#x27;: 3.871, &#x27;lambda_intercept_mu&#x27;: 3.654, &#x27;lambda_intercept_sd&#x27;: 3.154}\r\n",
       "None\r\n",
       "</pre><b>In a Jupyter environment, please rerun this cell to show the HTML representation or trust the notebook. <br />On GitHub, the HTML representation is unable to render, please try loading this page with nbviewer.org.</b></div><div class=\"sk-container\" hidden><div class=\"sk-item\"><div class=\"sk-estimator sk-toggleable\"><input class=\"sk-toggleable__control sk-hidden--visually\" id=\"sk-estimator-id-7\" type=\"checkbox\" checked><label for=\"sk-estimator-id-7\" class=\"sk-toggleable__label sk-toggleable__label-arrow\">ExponentialModel</label><div class=\"sk-toggleable__content\"><pre>ExponentialModel \n",
       "\r",
       "[&#x27;age&#x27;, &#x27;sex_2&#x27;, &#x27;cd4&#x27;, &#x27;hemophil_1&#x27;, &#x27;priorzdv&#x27;, &#x27;strat2_0&#x27;, &#x27;strat2_1&#x27;, &#x27;txgrp_1&#x27;, &#x27;txgrp_2&#x27;, &#x27;txgrp_3&#x27;, &#x27;txgrp_4&#x27;, &#x27;ivdrug_1&#x27;, &#x27;ivdrug_2&#x27;, &#x27;ivdrug_3&#x27;, &#x27;karnof_70&#x27;, &#x27;karnof_80&#x27;, &#x27;karnof_90&#x27;, &#x27;karnof_100&#x27;, &#x27;raceth_1&#x27;, &#x27;raceth_2&#x27;, &#x27;raceth_3&#x27;, &#x27;raceth_4&#x27;, &#x27;raceth_5&#x27;]\r\n",
       "{&#x27;lambda_mu&#x27;: 1, &#x27;lambda_sd&#x27;: 1, &#x27;lambda_coefs_mu&#x27;: 0, &#x27;lambda_coefs_sd&#x27;: 1, &#x27;nu&#x27;: 179.0, &#x27;lambda_age_mu&#x27;: -0.406, &#x27;lambda_age_sd&#x27;: 0.443, &#x27;lambda_sex_2_mu&#x27;: -0.112, &#x27;lambda_sex_2_sd&#x27;: 0.652, &#x27;lambda_cd4_mu&#x27;: 0.478, &#x27;lambda_cd4_sd&#x27;: 0.757, &#x27;lambda_hemophil_1_mu&#x27;: 2.243, &#x27;lambda_hemophil_1_sd&#x27;: 5.659, &#x27;lambda_priorzdv_mu&#x27;: 0.024, &#x27;lambda_priorzdv_sd&#x27;: 0.402, &#x27;lambda_strat2_0_mu&#x27;: -0.33, &#x27;lambda_strat2_0_sd&#x27;: 1.862, &#x27;lambda_strat2_1_mu&#x27;: 2.964, &#x27;lambda_strat2_1_sd&#x27;: 2.422, &#x27;lambda_txgrp_1_mu&#x27;: -0.336, &#x27;lambda_txgrp_1_sd&#x27;: 1.602, &#x27;lambda_txgrp_2_mu&#x27;: 2.208, &#x27;lambda_txgrp_2_sd&#x27;: 1.904, &#x27;lambda_txgrp_3_mu&#x27;: 0.01, &#x27;lambda_txgrp_3_sd&#x27;: 8.413, &#x27;lambda_txgrp_4_mu&#x27;: -1.196, &#x27;lambda_txgrp_4_sd&#x27;: 17.475, &#x27;lambda_ivdrug_1_mu&#x27;: 0.037, &#x27;lambda_ivdrug_1_sd&#x27;: 2.132, &#x27;lambda_ivdrug_2_mu&#x27;: 0.014, &#x27;lambda_ivdrug_2_sd&#x27;: 7.353, &#x27;lambda_ivdrug_3_mu&#x27;: 21.752, &#x27;lambda_ivdrug_3_sd&#x27;: 93.568, &#x27;lambda_karnof_70_mu&#x27;: 2.272, &#x27;lambda_karnof_70_sd&#x27;: 10.364, &#x27;lambda_karnof_80_mu&#x27;: 0.131, &#x27;lambda_karnof_80_sd&#x27;: 0.906, &#x27;lambda_karnof_90_mu&#x27;: 0.071, &#x27;lambda_karnof_90_sd&#x27;: 0.826, &#x27;lambda_karnof_100_mu&#x27;: 0.16, &#x27;lambda_karnof_100_sd&#x27;: 1.03, &#x27;lambda_raceth_1_mu&#x27;: 2.016, &#x27;lambda_raceth_1_sd&#x27;: 1.522, &#x27;lambda_raceth_2_mu&#x27;: -0.896, &#x27;lambda_raceth_2_sd&#x27;: 1.119, &#x27;lambda_raceth_3_mu&#x27;: 0.186, &#x27;lambda_raceth_3_sd&#x27;: 1.063, &#x27;lambda_raceth_4_mu&#x27;: 1.147, &#x27;lambda_raceth_4_sd&#x27;: 5.968, &#x27;lambda_raceth_5_mu&#x27;: 0.841, &#x27;lambda_raceth_5_sd&#x27;: 3.871, &#x27;lambda_intercept_mu&#x27;: 3.654, &#x27;lambda_intercept_sd&#x27;: 3.154}\r\n",
       "None\r\n",
       "</pre></div></div></div></div></div>"
      ],
      "text/plain": [
       "ExponentialModel()"
      ]
     },
     "execution_count": 114,
     "metadata": {},
     "output_type": "execute_result"
    }
   ],
   "source": [
    "model2 = ExponentialModel()\n",
    "model2.fit(X_train, y_train, priors=new_priors)"
   ]
  },
  {
   "cell_type": "code",
   "execution_count": 91,
   "id": "6e5571d1-115f-4a76-a4f1-4611c045cf40",
   "metadata": {},
   "outputs": [
    {
     "name": "stderr",
     "output_type": "stream",
     "text": [
      "Sampling: [y]\n",
      "INFO:pymc:Sampling: [y]\n"
     ]
    },
    {
     "data": {
      "text/plain": [
       "0.6620816139385602"
      ]
     },
     "execution_count": 91,
     "metadata": {},
     "output_type": "execute_result"
    }
   ],
   "source": [
    "model2.score(X_test, y_test)"
   ]
  },
  {
   "cell_type": "code",
   "execution_count": 97,
   "id": "d415edc3-0e4e-44f8-a996-1049e8cdf465",
   "metadata": {},
   "outputs": [
    {
     "data": {
      "text/plain": [
       "287"
      ]
     },
     "execution_count": 97,
     "metadata": {},
     "output_type": "execute_result"
    }
   ],
   "source": [
    "model2.priors['nu']"
   ]
  },
  {
   "cell_type": "code",
   "execution_count": 94,
   "id": "52fa3c5d-d0de-400c-b608-507f4ab7f53a",
   "metadata": {},
   "outputs": [
    {
     "data": {
      "text/plain": [
       "dict_keys([1, 11, 2, 12, 3, 13, 4, 14, 5, 15, 6, 16, 7, 17, 8, 18])"
      ]
     },
     "execution_count": 94,
     "metadata": {},
     "output_type": "execute_result"
    }
   ],
   "source": [
    "partition.keys()"
   ]
  },
  {
   "cell_type": "code",
   "execution_count": 95,
   "id": "eb8c2355-e16c-4e6f-ab35-a2c96cd50c37",
   "metadata": {},
   "outputs": [],
   "source": [
    "X_train, y_train = preprocess_data(partition[12], config)\n",
    "X_test, y_test = preprocess_data(partition[13], config)\n",
    "X_train, X_test, _ = utils.standardize(X_train, X_test, config)"
   ]
  },
  {
   "cell_type": "code",
   "execution_count": 96,
   "id": "760c92fe-9c32-4a34-87b4-7160b63ae860",
   "metadata": {},
   "outputs": [
    {
     "data": {
      "text/plain": [
       "(286, 23)"
      ]
     },
     "execution_count": 96,
     "metadata": {},
     "output_type": "execute_result"
    }
   ],
   "source": [
    "X_train.shape"
   ]
  },
  {
   "cell_type": "code",
   "execution_count": 98,
   "id": "7abe2f90-94ba-4d47-8b3f-ac85a2c3eab6",
   "metadata": {},
   "outputs": [
    {
     "name": "stdout",
     "output_type": "stream",
     "text": [
      "Compiling...\n",
      "Compilation time =  0:00:04.482181\n",
      "Sampling...\n"
     ]
    },
    {
     "data": {
      "application/vnd.jupyter.widget-view+json": {
       "model_id": "c0e3eee6e3594567b477b773b965bbe6",
       "version_major": 2,
       "version_minor": 0
      },
      "text/plain": [
       "  0%|          | 0/3000 [00:00<?, ?it/s]"
      ]
     },
     "metadata": {},
     "output_type": "display_data"
    },
    {
     "data": {
      "application/vnd.jupyter.widget-view+json": {
       "model_id": "85e6edb945a4403db8d582c6f99c3a41",
       "version_major": 2,
       "version_minor": 0
      },
      "text/plain": [
       "  0%|          | 0/3000 [00:00<?, ?it/s]"
      ]
     },
     "metadata": {},
     "output_type": "display_data"
    },
    {
     "name": "stdout",
     "output_type": "stream",
     "text": [
      "Sampling time =  0:00:13.169389\n",
      "Transforming variables...\n",
      "Transformation time =  0:00:00.884409\n",
      "Computing Log Likelihood...\n",
      "Log Likelihood time =  0:00:01.698725\n"
     ]
    },
    {
     "data": {
      "text/html": [
       "<style>#sk-container-id-6 {color: black;background-color: white;}#sk-container-id-6 pre{padding: 0;}#sk-container-id-6 div.sk-toggleable {background-color: white;}#sk-container-id-6 label.sk-toggleable__label {cursor: pointer;display: block;width: 100%;margin-bottom: 0;padding: 0.3em;box-sizing: border-box;text-align: center;}#sk-container-id-6 label.sk-toggleable__label-arrow:before {content: \"▸\";float: left;margin-right: 0.25em;color: #696969;}#sk-container-id-6 label.sk-toggleable__label-arrow:hover:before {color: black;}#sk-container-id-6 div.sk-estimator:hover label.sk-toggleable__label-arrow:before {color: black;}#sk-container-id-6 div.sk-toggleable__content {max-height: 0;max-width: 0;overflow: hidden;text-align: left;background-color: #f0f8ff;}#sk-container-id-6 div.sk-toggleable__content pre {margin: 0.2em;color: black;border-radius: 0.25em;background-color: #f0f8ff;}#sk-container-id-6 input.sk-toggleable__control:checked~div.sk-toggleable__content {max-height: 200px;max-width: 100%;overflow: auto;}#sk-container-id-6 input.sk-toggleable__control:checked~label.sk-toggleable__label-arrow:before {content: \"▾\";}#sk-container-id-6 div.sk-estimator input.sk-toggleable__control:checked~label.sk-toggleable__label {background-color: #d4ebff;}#sk-container-id-6 div.sk-label input.sk-toggleable__control:checked~label.sk-toggleable__label {background-color: #d4ebff;}#sk-container-id-6 input.sk-hidden--visually {border: 0;clip: rect(1px 1px 1px 1px);clip: rect(1px, 1px, 1px, 1px);height: 1px;margin: -1px;overflow: hidden;padding: 0;position: absolute;width: 1px;}#sk-container-id-6 div.sk-estimator {font-family: monospace;background-color: #f0f8ff;border: 1px dotted black;border-radius: 0.25em;box-sizing: border-box;margin-bottom: 0.5em;}#sk-container-id-6 div.sk-estimator:hover {background-color: #d4ebff;}#sk-container-id-6 div.sk-parallel-item::after {content: \"\";width: 100%;border-bottom: 1px solid gray;flex-grow: 1;}#sk-container-id-6 div.sk-label:hover label.sk-toggleable__label {background-color: #d4ebff;}#sk-container-id-6 div.sk-serial::before {content: \"\";position: absolute;border-left: 1px solid gray;box-sizing: border-box;top: 0;bottom: 0;left: 50%;z-index: 0;}#sk-container-id-6 div.sk-serial {display: flex;flex-direction: column;align-items: center;background-color: white;padding-right: 0.2em;padding-left: 0.2em;position: relative;}#sk-container-id-6 div.sk-item {position: relative;z-index: 1;}#sk-container-id-6 div.sk-parallel {display: flex;align-items: stretch;justify-content: center;background-color: white;position: relative;}#sk-container-id-6 div.sk-item::before, #sk-container-id-6 div.sk-parallel-item::before {content: \"\";position: absolute;border-left: 1px solid gray;box-sizing: border-box;top: 0;bottom: 0;left: 50%;z-index: -1;}#sk-container-id-6 div.sk-parallel-item {display: flex;flex-direction: column;z-index: 1;position: relative;background-color: white;}#sk-container-id-6 div.sk-parallel-item:first-child::after {align-self: flex-end;width: 50%;}#sk-container-id-6 div.sk-parallel-item:last-child::after {align-self: flex-start;width: 50%;}#sk-container-id-6 div.sk-parallel-item:only-child::after {width: 0;}#sk-container-id-6 div.sk-dashed-wrapped {border: 1px dashed gray;margin: 0 0.4em 0.5em 0.4em;box-sizing: border-box;padding-bottom: 0.4em;background-color: white;}#sk-container-id-6 div.sk-label label {font-family: monospace;font-weight: bold;display: inline-block;line-height: 1.2em;}#sk-container-id-6 div.sk-label-container {text-align: center;}#sk-container-id-6 div.sk-container {/* jupyter's `normalize.less` sets `[hidden] { display: none; }` but bootstrap.min.css set `[hidden] { display: none !important; }` so we also need the `!important` here to be able to override the default hidden behavior on the sphinx rendered scikit-learn.org. See: https://github.com/scikit-learn/scikit-learn/issues/21755 */display: inline-block !important;position: relative;}#sk-container-id-6 div.sk-text-repr-fallback {display: none;}</style><div id=\"sk-container-id-6\" class=\"sk-top-container\"><div class=\"sk-text-repr-fallback\"><pre>ExponentialModel \n",
       "\r",
       "[&#x27;age&#x27;, &#x27;sex_2&#x27;, &#x27;cd4&#x27;, &#x27;hemophil_1&#x27;, &#x27;priorzdv&#x27;, &#x27;strat2_0&#x27;, &#x27;strat2_1&#x27;, &#x27;txgrp_1&#x27;, &#x27;txgrp_2&#x27;, &#x27;txgrp_3&#x27;, &#x27;txgrp_4&#x27;, &#x27;ivdrug_1&#x27;, &#x27;ivdrug_2&#x27;, &#x27;ivdrug_3&#x27;, &#x27;karnof_70&#x27;, &#x27;karnof_80&#x27;, &#x27;karnof_90&#x27;, &#x27;karnof_100&#x27;, &#x27;raceth_1&#x27;, &#x27;raceth_2&#x27;, &#x27;raceth_3&#x27;, &#x27;raceth_4&#x27;, &#x27;raceth_5&#x27;]\r\n",
       "{&#x27;lambda_mu&#x27;: 1, &#x27;lambda_sd&#x27;: 1, &#x27;lambda_coefs_mu&#x27;: 0, &#x27;lambda_coefs_sd&#x27;: 1, &#x27;nu&#x27;: 287}\r\n",
       "None\r\n",
       "</pre><b>In a Jupyter environment, please rerun this cell to show the HTML representation or trust the notebook. <br />On GitHub, the HTML representation is unable to render, please try loading this page with nbviewer.org.</b></div><div class=\"sk-container\" hidden><div class=\"sk-item\"><div class=\"sk-estimator sk-toggleable\"><input class=\"sk-toggleable__control sk-hidden--visually\" id=\"sk-estimator-id-6\" type=\"checkbox\" checked><label for=\"sk-estimator-id-6\" class=\"sk-toggleable__label sk-toggleable__label-arrow\">ExponentialModel</label><div class=\"sk-toggleable__content\"><pre>ExponentialModel \n",
       "\r",
       "[&#x27;age&#x27;, &#x27;sex_2&#x27;, &#x27;cd4&#x27;, &#x27;hemophil_1&#x27;, &#x27;priorzdv&#x27;, &#x27;strat2_0&#x27;, &#x27;strat2_1&#x27;, &#x27;txgrp_1&#x27;, &#x27;txgrp_2&#x27;, &#x27;txgrp_3&#x27;, &#x27;txgrp_4&#x27;, &#x27;ivdrug_1&#x27;, &#x27;ivdrug_2&#x27;, &#x27;ivdrug_3&#x27;, &#x27;karnof_70&#x27;, &#x27;karnof_80&#x27;, &#x27;karnof_90&#x27;, &#x27;karnof_100&#x27;, &#x27;raceth_1&#x27;, &#x27;raceth_2&#x27;, &#x27;raceth_3&#x27;, &#x27;raceth_4&#x27;, &#x27;raceth_5&#x27;]\r\n",
       "{&#x27;lambda_mu&#x27;: 1, &#x27;lambda_sd&#x27;: 1, &#x27;lambda_coefs_mu&#x27;: 0, &#x27;lambda_coefs_sd&#x27;: 1, &#x27;nu&#x27;: 287}\r\n",
       "None\r\n",
       "</pre></div></div></div></div></div>"
      ],
      "text/plain": [
       "ExponentialModel()"
      ]
     },
     "execution_count": 98,
     "metadata": {},
     "output_type": "execute_result"
    }
   ],
   "source": [
    "model2_new = ExponentialModel()\n",
    "model2_new.fit(X_train, y_train)"
   ]
  },
  {
   "cell_type": "code",
   "execution_count": 118,
   "id": "e3e738f6-99bc-4caf-8ab5-f40fb7439ae0",
   "metadata": {},
   "outputs": [
    {
     "data": {
      "text/plain": [
       "array([[<AxesSubplot: title={'center': 'x'}>]], dtype=object)"
      ]
     },
     "execution_count": 118,
     "metadata": {},
     "output_type": "execute_result"
    },
    {
     "data": {
      "image/png": "[encoded data removed]",
      "text/plain": [
       "<Figure size 640x480 with 1 Axes>"
      ]
     },
     "metadata": {},
     "output_type": "display_data"
    },
    {
     "data": {
      "image/png": "[encoded data removed]",
      "text/plain": [
       "<Figure size 640x480 with 1 Axes>"
      ]
     },
     "metadata": {},
     "output_type": "display_data"
    },
    {
     "data": {
      "image/png": "[encoded data removed]",
      "text/plain": [
       "<Figure size 640x480 with 1 Axes>"
      ]
     },
     "metadata": {},
     "output_type": "display_data"
    }
   ],
   "source": [
    "az.plot_density(model2_new.trace.posterior['lambda_age'].values.flatten())\n",
    "az.plot_density(model2.trace.posterior['lambda_age'].values.flatten())\n",
    "az.plot_density(model.trace.posterior['lambda_age'].values.flatten())"
   ]
  },
  {
   "cell_type": "code",
   "execution_count": 57,
   "id": "2be690a3-142d-44a9-900b-63f6a489d341",
   "metadata": {},
   "outputs": [
    {
     "name": "stderr",
     "output_type": "stream",
     "text": [
      "Sampling: [y]\n",
      "INFO:pymc:Sampling: [y]\n"
     ]
    },
    {
     "data": {
      "text/plain": [
       "0.761599119750596"
      ]
     },
     "execution_count": 57,
     "metadata": {},
     "output_type": "execute_result"
    }
   ],
   "source": [
    "model2_new.score(X_test, y_test)"
   ]
  },
  {
   "cell_type": "code",
   "execution_count": 109,
   "id": "6a8b5c65-6a27-486b-b7c1-2470d64ee430",
   "metadata": {},
   "outputs": [],
   "source": [
    "import numpy as np"
   ]
  },
  {
   "cell_type": "code",
   "execution_count": 128,
   "id": "4d4234b6-d42e-46cd-a07c-be4ee0a8de8d",
   "metadata": {},
   "outputs": [],
   "source": [
    "partition_idx = np.random.randint(8, size=400) + 1"
   ]
  },
  {
   "cell_type": "code",
   "execution_count": 133,
   "id": "85a36df5-f857-4525-aab9-a5d35c1262de",
   "metadata": {},
   "outputs": [
    {
     "data": {
      "text/plain": [
       "62"
      ]
     },
     "execution_count": 133,
     "metadata": {},
     "output_type": "execute_result"
    }
   ],
   "source": [
    "sum(partition_idx == 4)"
   ]
  },
  {
   "cell_type": "code",
   "execution_count": 138,
   "id": "f3d4a151-1465-4fcc-b52a-21120ab4a8ac",
   "metadata": {},
   "outputs": [
    {
     "data": {
      "text/plain": [
       "array([0])"
      ]
     },
     "execution_count": 138,
     "metadata": {},
     "output_type": "execute_result"
    }
   ],
   "source": [
    "np.arange(0, 1)"
   ]
  },
  {
   "cell_type": "code",
   "execution_count": null,
   "id": "9287fc6a-59d6-496f-a079-649e8fc9f08d",
   "metadata": {},
   "outputs": [],
   "source": [
    "('foo', 2)"
   ]
  },
  {
   "cell_type": "code",
   "execution_count": 142,
   "id": "5977f08d-87bf-4570-9bc3-af2fad16c515",
   "metadata": {},
   "outputs": [
    {
     "name": "stdout",
     "output_type": "stream",
     "text": [
      "0\n"
     ]
    }
   ],
   "source": [
    "for i in range(1):\n",
    "    print(i)"
   ]
  },
  {
   "cell_type": "markdown",
   "id": "def58909-5db1-458d-ad1c-d53fb70cf4f9",
   "metadata": {},
   "source": [
    "# Test 2"
   ]
  },
  {
   "cell_type": "code",
   "execution_count": 104,
   "id": "ce34f3c4-950d-4de8-9366-a59b28581ca3",
   "metadata": {},
   "outputs": [],
   "source": [
    "def get_priors(summary):\n",
    "    new_priors = ExponentialModel._get_default_priors()\n",
    "    for feature in config['features']:\n",
    "        feature_mu = summary['mean'][f'lambda_{feature}']\n",
    "        feature_sd = summary['sd'][f'lambda_{feature}']\n",
    "        new_priors[f'lambda_{feature}_mu'] = feature_mu\n",
    "        new_priors[f'lambda_{feature}_sd'] = feature_sd / 2\n",
    "    \n",
    "    new_priors[f'lambda_intercept_mu'] = summary['mean'][f'lambda_intercept']\n",
    "    new_priors[f'lambda_intercept_sd'] = summary['sd'][f'lambda_intercept'] / 2\n",
    "    return new_priors"
   ]
  },
  {
   "cell_type": "code",
   "execution_count": null,
   "id": "be682918-5100-4222-9842-af828eeef642",
   "metadata": {},
   "outputs": [],
   "source": [
    "models = {}\n",
    "score = []\n",
    "for i in range(1, partitions):\n",
    "    X_train, y_train = preprocess_data(partition[i], config)\n",
    "    X_test, y_test = preprocess_data(partition[i+1], config)\n",
    "    X_train, X_test = utils.standardize(X_train, X_test, config)\n",
    "    models[i] = ExponentialModel()\n",
    "\n",
    "    if i == 1:\n",
    "        models[i].fit(X_train, y_train)\n",
    "    else:\n",
    "        new_priors = get_priors(az.summary(models[i-1].trace))\n",
    "        models[i].fit(X_train, y_train, priors=new_priors)\n",
    "    \n",
    "    score.append(models[i].score(X_test, y_test))\n",
    "    print(f'run {i}: {score[i-1]}')\n",
    "    \n",
    "print(score)\n",
    "    "
   ]
  },
  {
   "cell_type": "code",
   "execution_count": 103,
   "id": "7e2887da-8345-4fab-a868-c312d68e9cc7",
   "metadata": {},
   "outputs": [
    {
     "data": {
      "image/png": "[encoded data removed]",
      "text/plain": [
       "<Figure size 640x480 with 1 Axes>"
      ]
     },
     "metadata": {},
     "output_type": "display_data"
    }
   ],
   "source": [
    "plt.plot(score);"
   ]
  },
  {
   "cell_type": "code",
   "execution_count": 92,
   "id": "c68d8fd5-24a1-425e-b9b5-cead3302c99f",
   "metadata": {},
   "outputs": [
    {
     "name": "stdout",
     "output_type": "stream",
     "text": [
      "Compiling...\n",
      "Compilation time =  0:00:03.498656\n",
      "Sampling...\n",
      "Sampling time =  0:00:26.693845\n",
      "Transforming variables...\n",
      "Transformation time =  0:00:01.038447\n",
      "Computing Log Likelihood...\n",
      "Log Likelihood time =  0:00:00.776547\n"
     ]
    },
    {
     "name": "stderr",
     "output_type": "stream",
     "text": [
      "Sampling: [y]\n",
      "INFO:pymc:Sampling: [y]\n"
     ]
    },
    {
     "name": "stdout",
     "output_type": "stream",
     "text": [
      "run 1: 0.5764818355640535\n",
      "Compiling...\n",
      "Compilation time =  0:00:04.770088\n",
      "Sampling...\n",
      "Sampling time =  0:00:27.081154\n",
      "Transforming variables...\n",
      "Transformation time =  0:00:01.973280\n",
      "Computing Log Likelihood...\n",
      "Log Likelihood time =  0:00:00.932436\n"
     ]
    },
    {
     "name": "stderr",
     "output_type": "stream",
     "text": [
      "Sampling: [y]\n",
      "INFO:pymc:Sampling: [y]\n"
     ]
    },
    {
     "name": "stdout",
     "output_type": "stream",
     "text": [
      "run 2: 0.7143520668834185\n",
      "Compiling...\n",
      "Compilation time =  0:00:04.695366\n",
      "Sampling...\n",
      "Sampling time =  0:00:28.223548\n",
      "Transforming variables...\n",
      "Transformation time =  0:00:03.735092\n",
      "Computing Log Likelihood...\n",
      "Log Likelihood time =  0:00:01.366206\n"
     ]
    },
    {
     "name": "stderr",
     "output_type": "stream",
     "text": [
      "Sampling: [y]\n",
      "INFO:pymc:Sampling: [y]\n"
     ]
    },
    {
     "name": "stdout",
     "output_type": "stream",
     "text": [
      "run 3: 0.744955609362389\n",
      "Compiling...\n",
      "Compilation time =  0:00:04.760655\n",
      "Sampling...\n",
      "Sampling time =  0:00:27.565704\n",
      "Transforming variables...\n",
      "Transformation time =  0:00:05.216814\n",
      "Computing Log Likelihood...\n",
      "Log Likelihood time =  0:00:01.397640\n"
     ]
    },
    {
     "name": "stderr",
     "output_type": "stream",
     "text": [
      "Sampling: [y]\n",
      "INFO:pymc:Sampling: [y]\n"
     ]
    },
    {
     "name": "stdout",
     "output_type": "stream",
     "text": [
      "run 4: 0.8126501200960768\n",
      "Compiling...\n",
      "Compilation time =  0:00:04.701680\n",
      "Sampling...\n",
      "Sampling time =  0:00:26.953438\n",
      "Transforming variables...\n",
      "Transformation time =  0:00:07.340397\n",
      "Computing Log Likelihood...\n",
      "Log Likelihood time =  0:00:01.837480\n"
     ]
    },
    {
     "name": "stderr",
     "output_type": "stream",
     "text": [
      "Sampling: [y]\n",
      "INFO:pymc:Sampling: [y]\n"
     ]
    },
    {
     "name": "stdout",
     "output_type": "stream",
     "text": [
      "run 5: 0.7181942544459644\n",
      "Compiling...\n",
      "Compilation time =  0:00:05.133096\n",
      "Sampling...\n",
      "Sampling time =  0:00:27.970933\n",
      "Transforming variables...\n",
      "Transformation time =  0:00:07.788977\n",
      "Computing Log Likelihood...\n",
      "Log Likelihood time =  0:00:01.828736\n"
     ]
    },
    {
     "name": "stderr",
     "output_type": "stream",
     "text": [
      "Sampling: [y]\n",
      "INFO:pymc:Sampling: [y]\n"
     ]
    },
    {
     "name": "stdout",
     "output_type": "stream",
     "text": [
      "run 6: 0.7645914396887159\n",
      "Compiling...\n",
      "Compilation time =  0:00:04.815268\n",
      "Sampling...\n",
      "Sampling time =  0:00:27.818524\n",
      "Transforming variables...\n",
      "Transformation time =  0:00:07.648268\n",
      "Computing Log Likelihood...\n",
      "Log Likelihood time =  0:00:02.449217\n"
     ]
    },
    {
     "name": "stderr",
     "output_type": "stream",
     "text": [
      "Sampling: [y]\n",
      "INFO:pymc:Sampling: [y]\n"
     ]
    },
    {
     "name": "stdout",
     "output_type": "stream",
     "text": [
      "run 7: 0.7292817679558011\n",
      "[0.5764818355640535, 0.7143520668834185, 0.744955609362389, 0.8126501200960768, 0.7181942544459644, 0.7645914396887159, 0.7292817679558011]\n"
     ]
    }
   ],
   "source": [
    "models2 = {}\n",
    "score2 = []\n",
    "for i in range(1, partitions):\n",
    "    X_train, y_train = preprocess_data(partition[10+i], config)\n",
    "    X_test, y_test = preprocess_data(partition[i+1], config)\n",
    "    X_train, X_test = utils.standardize(X_train, X_test, config)\n",
    "    models2[i] = ExponentialModel()\n",
    "    models2[i].fit(X_train, y_train)\n",
    "    \n",
    "    score2.append(models2[i].score(X_test, y_test))\n",
    "    print(f'run {i}: {score2[i-1]}')\n",
    "    \n",
    "print(score2)"
   ]
  },
  {
   "cell_type": "code",
   "execution_count": 93,
   "id": "2025102d-92e0-4bcb-a9de-5e7b980dca8d",
   "metadata": {},
   "outputs": [
    {
     "data": {
      "image/png": "[encoded data removed]",
      "text/plain": [
       "<Figure size 640x480 with 1 Axes>"
      ]
     },
     "metadata": {},
     "output_type": "display_data"
    }
   ],
   "source": [
    "plt.plot(score);\n",
    "plt.plot(score2);"
   ]
  },
  {
   "cell_type": "code",
   "execution_count": 94,
   "id": "ca1334a3-7fc6-4adc-b618-03c94062588f",
   "metadata": {},
   "outputs": [
    {
     "name": "stdout",
     "output_type": "stream",
     "text": [
      "Compiling...\n",
      "Compilation time =  0:00:03.758955\n",
      "Sampling...\n",
      "Sampling time =  0:00:28.390187\n",
      "Transforming variables...\n",
      "Transformation time =  0:00:00.895963\n",
      "Computing Log Likelihood...\n",
      "Log Likelihood time =  0:00:00.640366\n"
     ]
    },
    {
     "name": "stderr",
     "output_type": "stream",
     "text": [
      "Sampling: [y]\n",
      "INFO:pymc:Sampling: [y]\n"
     ]
    },
    {
     "name": "stdout",
     "output_type": "stream",
     "text": [
      "run 1: 0.5793499043977055\n",
      "Compiling...\n",
      "Compilation time =  0:00:03.111028\n",
      "Sampling...\n",
      "Sampling time =  0:00:27.668350\n",
      "Transforming variables...\n",
      "Transformation time =  0:00:00.846871\n",
      "Computing Log Likelihood...\n",
      "Log Likelihood time =  0:00:00.639368\n"
     ]
    },
    {
     "name": "stderr",
     "output_type": "stream",
     "text": [
      "Sampling: [y]\n",
      "INFO:pymc:Sampling: [y]\n"
     ]
    },
    {
     "name": "stdout",
     "output_type": "stream",
     "text": [
      "run 2: 0.777519739897817\n",
      "Compiling...\n",
      "Compilation time =  0:00:03.167358\n",
      "Sampling...\n",
      "Sampling time =  0:00:26.491538\n",
      "Transforming variables...\n",
      "Transformation time =  0:00:01.009011\n",
      "Computing Log Likelihood...\n",
      "Log Likelihood time =  0:00:00.753642\n"
     ]
    },
    {
     "name": "stderr",
     "output_type": "stream",
     "text": [
      "Sampling: [y]\n",
      "INFO:pymc:Sampling: [y]\n"
     ]
    },
    {
     "name": "stdout",
     "output_type": "stream",
     "text": [
      "run 3: 0.8022598870056498\n",
      "Compiling...\n",
      "Compilation time =  0:00:05.108829\n",
      "Sampling...\n",
      "Sampling time =  0:00:26.952486\n",
      "Transforming variables...\n",
      "Transformation time =  0:00:00.949763\n",
      "Computing Log Likelihood...\n",
      "Log Likelihood time =  0:00:00.712025\n"
     ]
    },
    {
     "name": "stderr",
     "output_type": "stream",
     "text": [
      "Sampling: [y]\n",
      "INFO:pymc:Sampling: [y]\n"
     ]
    },
    {
     "name": "stdout",
     "output_type": "stream",
     "text": [
      "run 4: 0.7838270616493195\n",
      "Compiling...\n",
      "Compilation time =  0:00:03.320638\n",
      "Sampling...\n",
      "Sampling time =  0:00:28.705718\n",
      "Transforming variables...\n",
      "Transformation time =  0:00:00.948170\n",
      "Computing Log Likelihood...\n",
      "Log Likelihood time =  0:00:00.704734\n"
     ]
    },
    {
     "name": "stderr",
     "output_type": "stream",
     "text": [
      "Sampling: [y]\n",
      "INFO:pymc:Sampling: [y]\n"
     ]
    },
    {
     "name": "stdout",
     "output_type": "stream",
     "text": [
      "run 5: 0.6689466484268126\n",
      "Compiling...\n",
      "Compilation time =  0:00:03.507137\n",
      "Sampling...\n",
      "Sampling time =  0:00:26.741326\n",
      "Transforming variables...\n",
      "Transformation time =  0:00:00.950038\n",
      "Computing Log Likelihood...\n",
      "Log Likelihood time =  0:00:01.914067\n"
     ]
    },
    {
     "name": "stderr",
     "output_type": "stream",
     "text": [
      "Sampling: [y]\n",
      "INFO:pymc:Sampling: [y]\n"
     ]
    },
    {
     "name": "stdout",
     "output_type": "stream",
     "text": [
      "run 6: 0.7144941634241245\n",
      "Compiling...\n",
      "Compilation time =  0:00:03.391756\n",
      "Sampling...\n",
      "Sampling time =  0:00:28.027815\n",
      "Transforming variables...\n",
      "Transformation time =  0:00:01.026989\n",
      "Computing Log Likelihood...\n",
      "Log Likelihood time =  0:00:00.709415\n"
     ]
    },
    {
     "name": "stderr",
     "output_type": "stream",
     "text": [
      "Sampling: [y]\n",
      "INFO:pymc:Sampling: [y]\n"
     ]
    },
    {
     "name": "stdout",
     "output_type": "stream",
     "text": [
      "run 7: 0.6740331491712708\n",
      "[0.5793499043977055, 0.777519739897817, 0.8022598870056498, 0.7838270616493195, 0.6689466484268126, 0.7144941634241245, 0.6740331491712708]\n"
     ]
    }
   ],
   "source": [
    "models3 = {}\n",
    "score3 = []\n",
    "for i in range(1, partitions):\n",
    "    X_train, y_train = preprocess_data(partition[i], config)\n",
    "    X_test, y_test = preprocess_data(partition[i+1], config)\n",
    "    X_train, X_test = utils.standardize(X_train, X_test, config)\n",
    "    models3[i] = ExponentialModel()\n",
    "\n",
    "    models3[i].fit(X_train, y_train)\n",
    "    \n",
    "    score3.append(models3[i].score(X_test, y_test))\n",
    "    print(f'run {i}: {score3[i-1]}')\n",
    "    \n",
    "print(score3)"
   ]
  },
  {
   "cell_type": "code",
   "execution_count": 106,
   "id": "afec486c-65c6-46f1-804e-68e01a8ea912",
   "metadata": {},
   "outputs": [
    {
     "data": {
      "image/png": "[encoded data removed]",
      "text/plain": [
       "<Figure size 640x480 with 1 Axes>"
      ]
     },
     "metadata": {},
     "output_type": "display_data"
    }
   ],
   "source": [
    "plt.plot(score, color='red');\n",
    "plt.plot(score2, color='green');\n",
    "plt.plot(score3, color='blue');"
   ]
  },
  {
   "cell_type": "code",
   "execution_count": null,
   "id": "6cd4796e-71d1-4ab8-9bfb-af15dc296842",
   "metadata": {},
   "outputs": [],
   "source": []
  }
 ],
 "metadata": {
  "kernelspec": {
   "display_name": "Python 3 (ipykernel)",
   "language": "python",
   "name": "python3"
  },
  "language_info": {
   "codemirror_mode": {
    "name": "ipython",
    "version": 3
   },
   "file_extension": ".py",
   "mimetype": "text/x-python",
   "name": "python",
   "nbconvert_exporter": "python",
   "pygments_lexer": "ipython3",
   "version": "3.10.8"
  }
 },
 "nbformat": 4,
 "nbformat_minor": 5
}
