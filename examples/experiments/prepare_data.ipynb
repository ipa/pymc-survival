{
 "cells": [
  {
   "cell_type": "code",
   "execution_count": 1,
   "id": "15848474-7180-4dd3-8949-ff43b942967a",
   "metadata": {},
   "outputs": [],
   "source": [
    "import pandas as pd\n",
    "from sklearn.preprocessing import OneHotEncoder, Binarizer"
   ]
  },
  {
   "cell_type": "markdown",
   "id": "6a2049c8-ee3e-4caf-a61a-36a796d57b10",
   "metadata": {},
   "source": [
    "# WHAS"
   ]
  },
  {
   "cell_type": "code",
   "execution_count": 41,
   "id": "fa01b0eb-837f-46cf-9ad1-7185d9ef763e",
   "metadata": {},
   "outputs": [],
   "source": [
    "dataset = pd.read_csv('data/whas/whas.csv')"
   ]
  },
  {
   "cell_type": "code",
   "execution_count": 42,
   "id": "afbdebe4-bc60-450b-96b3-acb5acbadae4",
   "metadata": {},
   "outputs": [],
   "source": [
    "binary = ['sex', 'sho', 'chf', 'miord']\n",
    "categorical = ['mitype', 'yrgrp']\n",
    "continuous = ['age', 'cpk']"
   ]
  },
  {
   "cell_type": "code",
   "execution_count": 43,
   "id": "54d6971d-7dc3-43ca-9bcd-b7a307a8425f",
   "metadata": {},
   "outputs": [],
   "source": [
    "enc = OneHotEncoder(handle_unknown='ignore')\n",
    "X_categorical = X[categorical]\n",
    "enc.fit(X_categorical)\n",
    "X_categorical_t = enc.transform(X_categorical)"
   ]
  },
  {
   "cell_type": "code",
   "execution_count": 44,
   "id": "f799cb0d-1653-4e92-924c-d923b2fa5916",
   "metadata": {},
   "outputs": [],
   "source": [
    "dataset_cat = pd.DataFrame(X_categorical_t.toarray(), columns=enc.get_feature_names_out(categorical))"
   ]
  },
  {
   "cell_type": "code",
   "execution_count": 45,
   "id": "2fe63d20-76ce-43e8-8256-405b6796cc4b",
   "metadata": {},
   "outputs": [
    {
     "data": {
      "text/plain": [
       "Index(['id', 'age', 'sex', 'cpk', 'sho', 'chf', 'miord', 'mitype', 'year',\n",
       "       'yrgrp', 'lenstay', 'dstat', 'lenfol', 'fstat', 'mitype_1', 'mitype_2',\n",
       "       'mitype_3', 'yrgrp_1975 & 1978', 'yrgrp_1981 & 1984',\n",
       "       'yrgrp_1986 & 1988'],\n",
       "      dtype='object')"
      ]
     },
     "execution_count": 45,
     "metadata": {},
     "output_type": "execute_result"
    }
   ],
   "source": [
    "dataset = pd.concat([dataset.reset_index(drop=True), dataset_cat], axis=1)\n",
    "dataset.columns"
   ]
  },
  {
   "cell_type": "code",
   "execution_count": 47,
   "id": "7b7d9e81-186b-49e0-a902-9e666ad9652d",
   "metadata": {},
   "outputs": [],
   "source": [
    "cols_include = ['age', 'sex', 'cpk', 'sho', 'chf', 'miord', \n",
    "                'mitype_1', 'mitype_2', 'mitype_3', \n",
    "                'yrgrp_1975 & 1978', 'yrgrp_1981 & 1984', 'yrgrp_1986 & 1988',\n",
    "               'lenstay', 'dstat', 'lenfol', 'fstat']"
   ]
  },
  {
   "cell_type": "code",
   "execution_count": 48,
   "id": "ced87d34-84a4-44e0-b7ca-e18e11cf427e",
   "metadata": {},
   "outputs": [],
   "source": [
    "dataset_prepped = dataset[cols_include]"
   ]
  },
  {
   "cell_type": "code",
   "execution_count": 50,
   "id": "54cd0dba-6577-4b39-944e-c29f03ae8db5",
   "metadata": {},
   "outputs": [],
   "source": [
    "dataset_prepped.to_csv('data/whas/whas_prepped.csv', index=False)"
   ]
  },
  {
   "cell_type": "markdown",
   "id": "33ccd2ab-6ddf-4d3e-ae36-d2840b2303fd",
   "metadata": {},
   "source": [
    "# AIDS"
   ]
  },
  {
   "cell_type": "code",
   "execution_count": 46,
   "id": "f6cfaa30-15f6-44a7-b7e9-7273c5b837e1",
   "metadata": {},
   "outputs": [],
   "source": [
    "dataset = pd.read_csv('data/aids/actg320.csv')"
   ]
  },
  {
   "cell_type": "code",
   "execution_count": 53,
   "id": "65fc0034-56d2-4076-8d35-cdd6ab246397",
   "metadata": {},
   "outputs": [],
   "source": [
    "binary = ['tx', 'sex', 'hemophil']\n",
    "categorical = ['sex', 'hemophil', 'strat2', 'txgrp', 'ivdrug', 'karnof', 'raceth']\n",
    "continuous = ['cd4', 'priorzdv', 'age']"
   ]
  },
  {
   "cell_type": "code",
   "execution_count": 54,
   "id": "2e3fc663-ee9d-4e3c-a753-a4c704a9eff9",
   "metadata": {},
   "outputs": [],
   "source": [
    "enc = OneHotEncoder(handle_unknown='ignore')\n",
    "X_categorical = dataset[categorical]\n",
    "enc.fit(X_categorical)\n",
    "X_categorical_t = enc.transform(X_categorical)"
   ]
  },
  {
   "cell_type": "code",
   "execution_count": 55,
   "id": "8aa5e6c4-448c-4fee-abf0-b66f90e9d20d",
   "metadata": {},
   "outputs": [],
   "source": [
    "X_binary = dataset[binary]\n",
    "binarizer = Binarizer().fit(X_binary)\n",
    "X_binary_t = binarizer.transform(X_binary)"
   ]
  },
  {
   "cell_type": "code",
   "execution_count": 56,
   "id": "768a7420-0813-4d54-9679-bbd643a8bbbe",
   "metadata": {},
   "outputs": [],
   "source": [
    "dataset_cat = pd.DataFrame(X_categorical_t.toarray(), columns=enc.get_feature_names_out(categorical))\n",
    "dataset_bin =  pd.DataFrame(X_binary_t, columns=binarizer.get_feature_names_out(binary))"
   ]
  },
  {
   "cell_type": "code",
   "execution_count": 57,
   "id": "21023c7d-fe71-43b3-a732-5a5d357e2c67",
   "metadata": {},
   "outputs": [
    {
     "data": {
      "text/plain": [
       "Index(['id', 'time', 'censor', 'time_d', 'censor_d', 'tx', 'txgrp', 'strat2',\n",
       "       'sex', 'raceth', 'ivdrug', 'hemophil', 'karnof', 'cd4', 'priorzdv',\n",
       "       'age', 'sex_1', 'sex_2', 'hemophil_0', 'hemophil_1', 'strat2_0',\n",
       "       'strat2_1', 'txgrp_1', 'txgrp_2', 'txgrp_3', 'txgrp_4', 'ivdrug_1',\n",
       "       'ivdrug_2', 'ivdrug_3', 'karnof_70', 'karnof_80', 'karnof_90',\n",
       "       'karnof_100', 'raceth_1', 'raceth_2', 'raceth_3', 'raceth_4',\n",
       "       'raceth_5', 'sex_1', 'sex_2', 'hemophil_0', 'hemophil_1', 'strat2_0',\n",
       "       'strat2_1', 'txgrp_1', 'txgrp_2', 'txgrp_3', 'txgrp_4', 'ivdrug_1',\n",
       "       'ivdrug_2', 'ivdrug_3', 'karnof_70', 'karnof_80', 'karnof_90',\n",
       "       'karnof_100', 'raceth_1', 'raceth_2', 'raceth_3', 'raceth_4',\n",
       "       'raceth_5'],\n",
       "      dtype='object')"
      ]
     },
     "execution_count": 57,
     "metadata": {},
     "output_type": "execute_result"
    }
   ],
   "source": [
    "dataset = pd.concat([dataset.reset_index(drop=True), dataset_cat], axis=1)\n",
    "dataset.columns"
   ]
  },
  {
   "cell_type": "code",
   "execution_count": 58,
   "id": "e44b7698-3e39-4c58-8a86-a89b1cd5f80f",
   "metadata": {},
   "outputs": [],
   "source": [
    "cols_include = ['age', 'sex_2', 'cd4', 'priorzdv', 'hemophil_1',\n",
    "                'strat2_0', 'strat2_1', \n",
    "                'txgrp_1', 'txgrp_2', 'txgrp_3', 'txgrp_4', \n",
    "                'ivdrug_1', 'ivdrug_2', 'ivdrug_3',\n",
    "                'karnof_70', 'karnof_80', 'karnof_90', 'karnof_100',\n",
    "                'raceth_1', 'raceth_2', 'raceth_3', 'raceth_4', 'raceth_5',\n",
    "                'time', 'censor', 'time_d', 'censor_d']"
   ]
  },
  {
   "cell_type": "code",
   "execution_count": 59,
   "id": "5977a6a9-a7f6-429b-b638-787a51c22a72",
   "metadata": {},
   "outputs": [],
   "source": [
    "dataset_prepped = dataset[cols_include]\n",
    "dataset_prepped.to_csv('data/aids/data.csv', index=False)"
   ]
  },
  {
   "cell_type": "markdown",
   "id": "756f08ea-8e30-4610-9a2c-d9628796331b",
   "metadata": {},
   "source": [
    "# Veteran"
   ]
  },
  {
   "cell_type": "code",
   "execution_count": 23,
   "id": "cddffe0e-f611-4acd-85d6-4626fae40e86",
   "metadata": {},
   "outputs": [],
   "source": [
    "dataset = pd.read_csv('data/veteran/veteran.csv')"
   ]
  },
  {
   "cell_type": "code",
   "execution_count": 24,
   "id": "06653d1a-a656-4a6a-a236-4b380553e472",
   "metadata": {},
   "outputs": [],
   "source": [
    "binary = ['trt', 'prior']\n",
    "categorical = ['celltype', 'trt', 'prior']\n",
    "continuous = ['age', 'karno', 'diagtime']"
   ]
  },
  {
   "cell_type": "code",
   "execution_count": 25,
   "id": "39067654-ac1b-43d1-818d-f8883cb10829",
   "metadata": {},
   "outputs": [],
   "source": [
    "enc = OneHotEncoder(handle_unknown='ignore')\n",
    "X_categorical = dataset[categorical]\n",
    "enc.fit(X_categorical)\n",
    "X_categorical_t = enc.transform(X_categorical)"
   ]
  },
  {
   "cell_type": "code",
   "execution_count": 26,
   "id": "89948777-b546-4c41-a4fd-4fc3f3314b7c",
   "metadata": {},
   "outputs": [],
   "source": [
    "X_binary = dataset[binary]\n",
    "binarizer = Binarizer().fit(X_binary)\n",
    "X_binary_t = binarizer.transform(X_binary)"
   ]
  },
  {
   "cell_type": "code",
   "execution_count": 27,
   "id": "a5c2adc0-ee40-4b74-969b-940f137a0b09",
   "metadata": {},
   "outputs": [],
   "source": [
    "dataset_cat = pd.DataFrame(X_categorical_t.toarray(), columns=enc.get_feature_names_out(categorical))\n",
    "dataset_bin =  pd.DataFrame(X_binary_t, columns=binarizer.get_feature_names_out(binary))"
   ]
  },
  {
   "cell_type": "code",
   "execution_count": 28,
   "id": "bee425e9-9bc6-4264-aa19-3fffe8908bfe",
   "metadata": {},
   "outputs": [
    {
     "data": {
      "text/plain": [
       "Index(['time', 'status', 'karno', 'diagtime', 'age', 'prior', 'trt',\n",
       "       'celltype', 'celltype_1', 'celltype_2', 'celltype_3', 'celltype_4',\n",
       "       'trt_1', 'trt_2', 'prior_0', 'prior_10'],\n",
       "      dtype='object')"
      ]
     },
     "execution_count": 28,
     "metadata": {},
     "output_type": "execute_result"
    }
   ],
   "source": [
    "dataset = pd.concat([dataset.reset_index(drop=True), dataset_cat], axis=1)\n",
    "dataset.columns"
   ]
  },
  {
   "cell_type": "code",
   "execution_count": 29,
   "id": "6e8804d8-4708-4e8b-b173-4b78e936ae4a",
   "metadata": {},
   "outputs": [],
   "source": [
    "cols_include = ['age', 'karno', 'diagtime', 'prior_10', 'trt_2',\n",
    "                'celltype_1', 'celltype_2', 'celltype_3', 'celltype_4', \n",
    "                'time', 'status']"
   ]
  },
  {
   "cell_type": "code",
   "execution_count": 30,
   "id": "d8942f7f-ebec-424e-8302-816cff43dbc9",
   "metadata": {},
   "outputs": [],
   "source": [
    "dataset_prepped = dataset[cols_include]\n",
    "dataset_prepped.to_csv('data/veteran/data.csv', index=False)"
   ]
  },
  {
   "cell_type": "markdown",
   "id": "bc6b1d8a-208d-4ae2-8d4a-a03039967525",
   "metadata": {},
   "source": [
    "# GBCS"
   ]
  },
  {
   "cell_type": "code",
   "execution_count": 60,
   "id": "9b2836bb-8e69-4e04-a05e-86c02761d3ee",
   "metadata": {},
   "outputs": [],
   "source": [
    "dataset = pd.read_csv('data/gbcs/gbcs.csv')"
   ]
  },
  {
   "cell_type": "code",
   "execution_count": 62,
   "id": "0aae1b42-f3a4-43ab-9601-069c5f87a117",
   "metadata": {},
   "outputs": [
    {
     "data": {
      "text/html": [
       "<div>\n",
       "<style scoped>\n",
       "    .dataframe tbody tr th:only-of-type {\n",
       "        vertical-align: middle;\n",
       "    }\n",
       "\n",
       "    .dataframe tbody tr th {\n",
       "        vertical-align: top;\n",
       "    }\n",
       "\n",
       "    .dataframe thead th {\n",
       "        text-align: right;\n",
       "    }\n",
       "</style>\n",
       "<table border=\"1\" class=\"dataframe\">\n",
       "  <thead>\n",
       "    <tr style=\"text-align: right;\">\n",
       "      <th></th>\n",
       "      <th>id</th>\n",
       "      <th>diagdateb</th>\n",
       "      <th>recdate</th>\n",
       "      <th>deathdate</th>\n",
       "      <th>age</th>\n",
       "      <th>menopause</th>\n",
       "      <th>hormone</th>\n",
       "      <th>size</th>\n",
       "      <th>grade</th>\n",
       "      <th>nodes</th>\n",
       "      <th>prog_recp</th>\n",
       "      <th>estrg_recp</th>\n",
       "      <th>rectime</th>\n",
       "      <th>censrec</th>\n",
       "      <th>survtime</th>\n",
       "      <th>censdead</th>\n",
       "    </tr>\n",
       "  </thead>\n",
       "  <tbody>\n",
       "    <tr>\n",
       "      <th>0</th>\n",
       "      <td>1</td>\n",
       "      <td>8/17/1984</td>\n",
       "      <td>4/15/1988</td>\n",
       "      <td>11/16/1990</td>\n",
       "      <td>38</td>\n",
       "      <td>1</td>\n",
       "      <td>1</td>\n",
       "      <td>18</td>\n",
       "      <td>3</td>\n",
       "      <td>5</td>\n",
       "      <td>141</td>\n",
       "      <td>105</td>\n",
       "      <td>1337</td>\n",
       "      <td>1</td>\n",
       "      <td>2282</td>\n",
       "      <td>0</td>\n",
       "    </tr>\n",
       "    <tr>\n",
       "      <th>1</th>\n",
       "      <td>2</td>\n",
       "      <td>4/25/1985</td>\n",
       "      <td>3/15/1989</td>\n",
       "      <td>10/22/1990</td>\n",
       "      <td>52</td>\n",
       "      <td>1</td>\n",
       "      <td>1</td>\n",
       "      <td>20</td>\n",
       "      <td>1</td>\n",
       "      <td>1</td>\n",
       "      <td>78</td>\n",
       "      <td>14</td>\n",
       "      <td>1420</td>\n",
       "      <td>1</td>\n",
       "      <td>2006</td>\n",
       "      <td>0</td>\n",
       "    </tr>\n",
       "    <tr>\n",
       "      <th>2</th>\n",
       "      <td>3</td>\n",
       "      <td>10/11/1984</td>\n",
       "      <td>4/12/1988</td>\n",
       "      <td>10/6/1988</td>\n",
       "      <td>47</td>\n",
       "      <td>1</td>\n",
       "      <td>1</td>\n",
       "      <td>30</td>\n",
       "      <td>2</td>\n",
       "      <td>1</td>\n",
       "      <td>422</td>\n",
       "      <td>89</td>\n",
       "      <td>1279</td>\n",
       "      <td>1</td>\n",
       "      <td>1456</td>\n",
       "      <td>1</td>\n",
       "    </tr>\n",
       "    <tr>\n",
       "      <th>3</th>\n",
       "      <td>4</td>\n",
       "      <td>6/29/1984</td>\n",
       "      <td>11/24/1984</td>\n",
       "      <td>11/24/1984</td>\n",
       "      <td>40</td>\n",
       "      <td>1</td>\n",
       "      <td>1</td>\n",
       "      <td>24</td>\n",
       "      <td>1</td>\n",
       "      <td>3</td>\n",
       "      <td>25</td>\n",
       "      <td>11</td>\n",
       "      <td>148</td>\n",
       "      <td>0</td>\n",
       "      <td>148</td>\n",
       "      <td>0</td>\n",
       "    </tr>\n",
       "    <tr>\n",
       "      <th>4</th>\n",
       "      <td>5</td>\n",
       "      <td>7/3/1984</td>\n",
       "      <td>8/9/1989</td>\n",
       "      <td>8/9/1989</td>\n",
       "      <td>64</td>\n",
       "      <td>2</td>\n",
       "      <td>2</td>\n",
       "      <td>19</td>\n",
       "      <td>2</td>\n",
       "      <td>1</td>\n",
       "      <td>19</td>\n",
       "      <td>9</td>\n",
       "      <td>1863</td>\n",
       "      <td>0</td>\n",
       "      <td>1863</td>\n",
       "      <td>0</td>\n",
       "    </tr>\n",
       "    <tr>\n",
       "      <th>...</th>\n",
       "      <td>...</td>\n",
       "      <td>...</td>\n",
       "      <td>...</td>\n",
       "      <td>...</td>\n",
       "      <td>...</td>\n",
       "      <td>...</td>\n",
       "      <td>...</td>\n",
       "      <td>...</td>\n",
       "      <td>...</td>\n",
       "      <td>...</td>\n",
       "      <td>...</td>\n",
       "      <td>...</td>\n",
       "      <td>...</td>\n",
       "      <td>...</td>\n",
       "      <td>...</td>\n",
       "      <td>...</td>\n",
       "    </tr>\n",
       "    <tr>\n",
       "      <th>681</th>\n",
       "      <td>682</td>\n",
       "      <td>7/7/1989</td>\n",
       "      <td>7/24/1989</td>\n",
       "      <td>7/24/1989</td>\n",
       "      <td>51</td>\n",
       "      <td>1</td>\n",
       "      <td>1</td>\n",
       "      <td>50</td>\n",
       "      <td>2</td>\n",
       "      <td>5</td>\n",
       "      <td>360</td>\n",
       "      <td>57</td>\n",
       "      <td>17</td>\n",
       "      <td>0</td>\n",
       "      <td>17</td>\n",
       "      <td>0</td>\n",
       "    </tr>\n",
       "    <tr>\n",
       "      <th>682</th>\n",
       "      <td>683</td>\n",
       "      <td>4/17/1989</td>\n",
       "      <td>8/22/1991</td>\n",
       "      <td>8/22/1991</td>\n",
       "      <td>63</td>\n",
       "      <td>2</td>\n",
       "      <td>2</td>\n",
       "      <td>22</td>\n",
       "      <td>2</td>\n",
       "      <td>9</td>\n",
       "      <td>64</td>\n",
       "      <td>19</td>\n",
       "      <td>857</td>\n",
       "      <td>0</td>\n",
       "      <td>857</td>\n",
       "      <td>0</td>\n",
       "    </tr>\n",
       "    <tr>\n",
       "      <th>683</th>\n",
       "      <td>684</td>\n",
       "      <td>6/29/1989</td>\n",
       "      <td>8/6/1991</td>\n",
       "      <td>8/6/1991</td>\n",
       "      <td>61</td>\n",
       "      <td>2</td>\n",
       "      <td>1</td>\n",
       "      <td>60</td>\n",
       "      <td>2</td>\n",
       "      <td>51</td>\n",
       "      <td>45</td>\n",
       "      <td>38</td>\n",
       "      <td>768</td>\n",
       "      <td>0</td>\n",
       "      <td>768</td>\n",
       "      <td>0</td>\n",
       "    </tr>\n",
       "    <tr>\n",
       "      <th>684</th>\n",
       "      <td>685</td>\n",
       "      <td>4/21/1989</td>\n",
       "      <td>8/27/1991</td>\n",
       "      <td>8/27/1991</td>\n",
       "      <td>46</td>\n",
       "      <td>1</td>\n",
       "      <td>1</td>\n",
       "      <td>26</td>\n",
       "      <td>1</td>\n",
       "      <td>3</td>\n",
       "      <td>33</td>\n",
       "      <td>68</td>\n",
       "      <td>858</td>\n",
       "      <td>0</td>\n",
       "      <td>858</td>\n",
       "      <td>0</td>\n",
       "    </tr>\n",
       "    <tr>\n",
       "      <th>685</th>\n",
       "      <td>686</td>\n",
       "      <td>7/13/1989</td>\n",
       "      <td>8/22/1991</td>\n",
       "      <td>8/22/1991</td>\n",
       "      <td>63</td>\n",
       "      <td>2</td>\n",
       "      <td>2</td>\n",
       "      <td>23</td>\n",
       "      <td>2</td>\n",
       "      <td>3</td>\n",
       "      <td>3</td>\n",
       "      <td>2</td>\n",
       "      <td>770</td>\n",
       "      <td>0</td>\n",
       "      <td>770</td>\n",
       "      <td>0</td>\n",
       "    </tr>\n",
       "  </tbody>\n",
       "</table>\n",
       "<p>686 rows × 16 columns</p>\n",
       "</div>"
      ],
      "text/plain": [
       "      id   diagdateb     recdate   deathdate  age  menopause  hormone  size  \\\n",
       "0      1   8/17/1984   4/15/1988  11/16/1990   38          1        1    18   \n",
       "1      2   4/25/1985   3/15/1989  10/22/1990   52          1        1    20   \n",
       "2      3  10/11/1984   4/12/1988   10/6/1988   47          1        1    30   \n",
       "3      4   6/29/1984  11/24/1984  11/24/1984   40          1        1    24   \n",
       "4      5    7/3/1984    8/9/1989    8/9/1989   64          2        2    19   \n",
       "..   ...         ...         ...         ...  ...        ...      ...   ...   \n",
       "681  682    7/7/1989   7/24/1989   7/24/1989   51          1        1    50   \n",
       "682  683   4/17/1989   8/22/1991   8/22/1991   63          2        2    22   \n",
       "683  684   6/29/1989    8/6/1991    8/6/1991   61          2        1    60   \n",
       "684  685   4/21/1989   8/27/1991   8/27/1991   46          1        1    26   \n",
       "685  686   7/13/1989   8/22/1991   8/22/1991   63          2        2    23   \n",
       "\n",
       "     grade  nodes  prog_recp  estrg_recp  rectime  censrec  survtime  censdead  \n",
       "0        3      5        141         105     1337        1      2282         0  \n",
       "1        1      1         78          14     1420        1      2006         0  \n",
       "2        2      1        422          89     1279        1      1456         1  \n",
       "3        1      3         25          11      148        0       148         0  \n",
       "4        2      1         19           9     1863        0      1863         0  \n",
       "..     ...    ...        ...         ...      ...      ...       ...       ...  \n",
       "681      2      5        360          57       17        0        17         0  \n",
       "682      2      9         64          19      857        0       857         0  \n",
       "683      2     51         45          38      768        0       768         0  \n",
       "684      1      3         33          68      858        0       858         0  \n",
       "685      2      3          3           2      770        0       770         0  \n",
       "\n",
       "[686 rows x 16 columns]"
      ]
     },
     "execution_count": 62,
     "metadata": {},
     "output_type": "execute_result"
    }
   ],
   "source": [
    "dataset"
   ]
  },
  {
   "cell_type": "code",
   "execution_count": 63,
   "id": "04373306-761a-45ca-92f4-3ee0d2481126",
   "metadata": {},
   "outputs": [],
   "source": [
    "binary = ['menopause', 'hormone']\n",
    "categorical = ['menopause', 'hormone', 'grade']\n",
    "continuous = ['age', 'size', 'diagtime', 'nodes', 'prog_recp', 'estrg_recp']"
   ]
  },
  {
   "cell_type": "code",
   "execution_count": 64,
   "id": "5cf94d15-e2eb-4482-a149-8b4fbe5786b5",
   "metadata": {},
   "outputs": [],
   "source": [
    "enc = OneHotEncoder(handle_unknown='ignore')\n",
    "X_categorical = dataset[categorical]\n",
    "enc.fit(X_categorical)\n",
    "X_categorical_t = enc.transform(X_categorical)"
   ]
  },
  {
   "cell_type": "code",
   "execution_count": 65,
   "id": "682e8d56-1abf-4178-b5dd-14583619367e",
   "metadata": {},
   "outputs": [],
   "source": [
    "X_binary = dataset[binary]\n",
    "binarizer = Binarizer().fit(X_binary)\n",
    "X_binary_t = binarizer.transform(X_binary)"
   ]
  },
  {
   "cell_type": "code",
   "execution_count": 66,
   "id": "80ef7882-684e-4758-aa7d-7be9f460958b",
   "metadata": {},
   "outputs": [],
   "source": [
    "dataset_cat = pd.DataFrame(X_categorical_t.toarray(), columns=enc.get_feature_names_out(categorical))\n",
    "dataset_bin =  pd.DataFrame(X_binary_t, columns=binarizer.get_feature_names_out(binary))"
   ]
  },
  {
   "cell_type": "code",
   "execution_count": 67,
   "id": "3a6b311b-6f62-450d-b801-c5eabf15c489",
   "metadata": {},
   "outputs": [
    {
     "data": {
      "text/plain": [
       "Index(['id', 'diagdateb', 'recdate', 'deathdate', 'age', 'menopause',\n",
       "       'hormone', 'size', 'grade', 'nodes', 'prog_recp', 'estrg_recp',\n",
       "       'rectime', 'censrec', 'survtime', 'censdead', 'menopause_1',\n",
       "       'menopause_2', 'hormone_1', 'hormone_2', 'grade_1', 'grade_2',\n",
       "       'grade_3'],\n",
       "      dtype='object')"
      ]
     },
     "execution_count": 67,
     "metadata": {},
     "output_type": "execute_result"
    }
   ],
   "source": [
    "dataset = pd.concat([dataset.reset_index(drop=True), dataset_cat], axis=1)\n",
    "dataset.columns"
   ]
  },
  {
   "cell_type": "code",
   "execution_count": 68,
   "id": "20da966d-d78d-4dee-b881-39ec4cc98030",
   "metadata": {},
   "outputs": [],
   "source": [
    "cols_include = ['age', 'menopause_2', 'hormone_2', 'size', 'nodes', 'prog_recp', 'estrg_recp',\n",
    "                'grade_1', 'grade_2', 'grade_3', \n",
    "                'survtime', 'censdead', 'rectime', 'censrec']"
   ]
  },
  {
   "cell_type": "code",
   "execution_count": 69,
   "id": "a608ef22-54b4-4888-921c-80d9eb1abc40",
   "metadata": {},
   "outputs": [],
   "source": [
    "dataset_prepped = dataset[cols_include]\n",
    "dataset_prepped.to_csv('data/gbcs/data.csv', index=False)"
   ]
  },
  {
   "cell_type": "code",
   "execution_count": 70,
   "id": "1c50ac50-39e5-407e-8bca-22f1dad2b08d",
   "metadata": {},
   "outputs": [
    {
     "data": {
      "text/html": [
       "<div>\n",
       "<style scoped>\n",
       "    .dataframe tbody tr th:only-of-type {\n",
       "        vertical-align: middle;\n",
       "    }\n",
       "\n",
       "    .dataframe tbody tr th {\n",
       "        vertical-align: top;\n",
       "    }\n",
       "\n",
       "    .dataframe thead th {\n",
       "        text-align: right;\n",
       "    }\n",
       "</style>\n",
       "<table border=\"1\" class=\"dataframe\">\n",
       "  <thead>\n",
       "    <tr style=\"text-align: right;\">\n",
       "      <th></th>\n",
       "      <th>age</th>\n",
       "      <th>menopause_2</th>\n",
       "      <th>hormone_2</th>\n",
       "      <th>size</th>\n",
       "      <th>nodes</th>\n",
       "      <th>prog_recp</th>\n",
       "      <th>estrg_recp</th>\n",
       "      <th>grade_1</th>\n",
       "      <th>grade_2</th>\n",
       "      <th>grade_3</th>\n",
       "      <th>survtime</th>\n",
       "      <th>censdead</th>\n",
       "      <th>rectime</th>\n",
       "      <th>censrec</th>\n",
       "    </tr>\n",
       "  </thead>\n",
       "  <tbody>\n",
       "    <tr>\n",
       "      <th>0</th>\n",
       "      <td>38</td>\n",
       "      <td>0.0</td>\n",
       "      <td>0.0</td>\n",
       "      <td>18</td>\n",
       "      <td>5</td>\n",
       "      <td>141</td>\n",
       "      <td>105</td>\n",
       "      <td>0.0</td>\n",
       "      <td>0.0</td>\n",
       "      <td>1.0</td>\n",
       "      <td>2282</td>\n",
       "      <td>0</td>\n",
       "      <td>1337</td>\n",
       "      <td>1</td>\n",
       "    </tr>\n",
       "    <tr>\n",
       "      <th>1</th>\n",
       "      <td>52</td>\n",
       "      <td>0.0</td>\n",
       "      <td>0.0</td>\n",
       "      <td>20</td>\n",
       "      <td>1</td>\n",
       "      <td>78</td>\n",
       "      <td>14</td>\n",
       "      <td>1.0</td>\n",
       "      <td>0.0</td>\n",
       "      <td>0.0</td>\n",
       "      <td>2006</td>\n",
       "      <td>0</td>\n",
       "      <td>1420</td>\n",
       "      <td>1</td>\n",
       "    </tr>\n",
       "    <tr>\n",
       "      <th>2</th>\n",
       "      <td>47</td>\n",
       "      <td>0.0</td>\n",
       "      <td>0.0</td>\n",
       "      <td>30</td>\n",
       "      <td>1</td>\n",
       "      <td>422</td>\n",
       "      <td>89</td>\n",
       "      <td>0.0</td>\n",
       "      <td>1.0</td>\n",
       "      <td>0.0</td>\n",
       "      <td>1456</td>\n",
       "      <td>1</td>\n",
       "      <td>1279</td>\n",
       "      <td>1</td>\n",
       "    </tr>\n",
       "    <tr>\n",
       "      <th>3</th>\n",
       "      <td>40</td>\n",
       "      <td>0.0</td>\n",
       "      <td>0.0</td>\n",
       "      <td>24</td>\n",
       "      <td>3</td>\n",
       "      <td>25</td>\n",
       "      <td>11</td>\n",
       "      <td>1.0</td>\n",
       "      <td>0.0</td>\n",
       "      <td>0.0</td>\n",
       "      <td>148</td>\n",
       "      <td>0</td>\n",
       "      <td>148</td>\n",
       "      <td>0</td>\n",
       "    </tr>\n",
       "    <tr>\n",
       "      <th>4</th>\n",
       "      <td>64</td>\n",
       "      <td>1.0</td>\n",
       "      <td>1.0</td>\n",
       "      <td>19</td>\n",
       "      <td>1</td>\n",
       "      <td>19</td>\n",
       "      <td>9</td>\n",
       "      <td>0.0</td>\n",
       "      <td>1.0</td>\n",
       "      <td>0.0</td>\n",
       "      <td>1863</td>\n",
       "      <td>0</td>\n",
       "      <td>1863</td>\n",
       "      <td>0</td>\n",
       "    </tr>\n",
       "    <tr>\n",
       "      <th>...</th>\n",
       "      <td>...</td>\n",
       "      <td>...</td>\n",
       "      <td>...</td>\n",
       "      <td>...</td>\n",
       "      <td>...</td>\n",
       "      <td>...</td>\n",
       "      <td>...</td>\n",
       "      <td>...</td>\n",
       "      <td>...</td>\n",
       "      <td>...</td>\n",
       "      <td>...</td>\n",
       "      <td>...</td>\n",
       "      <td>...</td>\n",
       "      <td>...</td>\n",
       "    </tr>\n",
       "    <tr>\n",
       "      <th>681</th>\n",
       "      <td>51</td>\n",
       "      <td>0.0</td>\n",
       "      <td>0.0</td>\n",
       "      <td>50</td>\n",
       "      <td>5</td>\n",
       "      <td>360</td>\n",
       "      <td>57</td>\n",
       "      <td>0.0</td>\n",
       "      <td>1.0</td>\n",
       "      <td>0.0</td>\n",
       "      <td>17</td>\n",
       "      <td>0</td>\n",
       "      <td>17</td>\n",
       "      <td>0</td>\n",
       "    </tr>\n",
       "    <tr>\n",
       "      <th>682</th>\n",
       "      <td>63</td>\n",
       "      <td>1.0</td>\n",
       "      <td>1.0</td>\n",
       "      <td>22</td>\n",
       "      <td>9</td>\n",
       "      <td>64</td>\n",
       "      <td>19</td>\n",
       "      <td>0.0</td>\n",
       "      <td>1.0</td>\n",
       "      <td>0.0</td>\n",
       "      <td>857</td>\n",
       "      <td>0</td>\n",
       "      <td>857</td>\n",
       "      <td>0</td>\n",
       "    </tr>\n",
       "    <tr>\n",
       "      <th>683</th>\n",
       "      <td>61</td>\n",
       "      <td>1.0</td>\n",
       "      <td>0.0</td>\n",
       "      <td>60</td>\n",
       "      <td>51</td>\n",
       "      <td>45</td>\n",
       "      <td>38</td>\n",
       "      <td>0.0</td>\n",
       "      <td>1.0</td>\n",
       "      <td>0.0</td>\n",
       "      <td>768</td>\n",
       "      <td>0</td>\n",
       "      <td>768</td>\n",
       "      <td>0</td>\n",
       "    </tr>\n",
       "    <tr>\n",
       "      <th>684</th>\n",
       "      <td>46</td>\n",
       "      <td>0.0</td>\n",
       "      <td>0.0</td>\n",
       "      <td>26</td>\n",
       "      <td>3</td>\n",
       "      <td>33</td>\n",
       "      <td>68</td>\n",
       "      <td>1.0</td>\n",
       "      <td>0.0</td>\n",
       "      <td>0.0</td>\n",
       "      <td>858</td>\n",
       "      <td>0</td>\n",
       "      <td>858</td>\n",
       "      <td>0</td>\n",
       "    </tr>\n",
       "    <tr>\n",
       "      <th>685</th>\n",
       "      <td>63</td>\n",
       "      <td>1.0</td>\n",
       "      <td>1.0</td>\n",
       "      <td>23</td>\n",
       "      <td>3</td>\n",
       "      <td>3</td>\n",
       "      <td>2</td>\n",
       "      <td>0.0</td>\n",
       "      <td>1.0</td>\n",
       "      <td>0.0</td>\n",
       "      <td>770</td>\n",
       "      <td>0</td>\n",
       "      <td>770</td>\n",
       "      <td>0</td>\n",
       "    </tr>\n",
       "  </tbody>\n",
       "</table>\n",
       "<p>686 rows × 14 columns</p>\n",
       "</div>"
      ],
      "text/plain": [
       "     age  menopause_2  hormone_2  size  nodes  prog_recp  estrg_recp  grade_1  \\\n",
       "0     38          0.0        0.0    18      5        141         105      0.0   \n",
       "1     52          0.0        0.0    20      1         78          14      1.0   \n",
       "2     47          0.0        0.0    30      1        422          89      0.0   \n",
       "3     40          0.0        0.0    24      3         25          11      1.0   \n",
       "4     64          1.0        1.0    19      1         19           9      0.0   \n",
       "..   ...          ...        ...   ...    ...        ...         ...      ...   \n",
       "681   51          0.0        0.0    50      5        360          57      0.0   \n",
       "682   63          1.0        1.0    22      9         64          19      0.0   \n",
       "683   61          1.0        0.0    60     51         45          38      0.0   \n",
       "684   46          0.0        0.0    26      3         33          68      1.0   \n",
       "685   63          1.0        1.0    23      3          3           2      0.0   \n",
       "\n",
       "     grade_2  grade_3  survtime  censdead  rectime  censrec  \n",
       "0        0.0      1.0      2282         0     1337        1  \n",
       "1        0.0      0.0      2006         0     1420        1  \n",
       "2        1.0      0.0      1456         1     1279        1  \n",
       "3        0.0      0.0       148         0      148        0  \n",
       "4        1.0      0.0      1863         0     1863        0  \n",
       "..       ...      ...       ...       ...      ...      ...  \n",
       "681      1.0      0.0        17         0       17        0  \n",
       "682      1.0      0.0       857         0      857        0  \n",
       "683      1.0      0.0       768         0      768        0  \n",
       "684      0.0      0.0       858         0      858        0  \n",
       "685      1.0      0.0       770         0      770        0  \n",
       "\n",
       "[686 rows x 14 columns]"
      ]
     },
     "execution_count": 70,
     "metadata": {},
     "output_type": "execute_result"
    }
   ],
   "source": [
    "dataset_prepped"
   ]
  },
  {
   "cell_type": "code",
   "execution_count": null,
   "id": "6211e521-34f1-49e4-8782-fec1733565dc",
   "metadata": {},
   "outputs": [],
   "source": []
  }
 ],
 "metadata": {
  "kernelspec": {
   "display_name": "Python 3 (ipykernel)",
   "language": "python",
   "name": "python3"
  },
  "language_info": {
   "codemirror_mode": {
    "name": "ipython",
    "version": 3
   },
   "file_extension": ".py",
   "mimetype": "text/x-python",
   "name": "python",
   "nbconvert_exporter": "python",
   "pygments_lexer": "ipython3",
   "version": "3.10.8"
  }
 },
 "nbformat": 4,
 "nbformat_minor": 5
}
