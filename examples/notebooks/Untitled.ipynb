{
 "cells": [
  {
   "cell_type": "code",
   "execution_count": 1,
   "id": "cd5a7b28-7ed3-4353-a3d5-34078602cbc2",
   "metadata": {},
   "outputs": [
    {
     "name": "stdout",
     "output_type": "stream",
     "text": [
      "Could not locate executable g77\n",
      "Could not locate executable f77\n",
      "Could not locate executable ifort\n",
      "Could not locate executable ifl\n",
      "Could not locate executable f90\n",
      "Could not locate executable efl\n"
     ]
    }
   ],
   "source": [
    "import pymc as pm\n",
    "import numpy as np\n",
    "import scipy as sp\n",
    "from numpy.random import default_rng\n",
    "import matplotlib.pyplot as plt\n",
    "import arviz as az"
   ]
  },
  {
   "cell_type": "code",
   "execution_count": 43,
   "id": "d92d789a-d4d5-4d62-a289-ad844921c2de",
   "metadata": {},
   "outputs": [],
   "source": [
    "n_samples = 1000"
   ]
  },
  {
   "cell_type": "code",
   "execution_count": 57,
   "id": "2be4023a-0012-4034-87fd-531a38ae9547",
   "metadata": {},
   "outputs": [],
   "source": [
    "rng = default_rng(seed=0)\n",
    "\n",
    "lam = 1.5\n",
    "k = 1\n",
    "X = np.zeros((n_samples, 1))\n",
    "y_time = sp.stats.weibull_min.rvs(c=k, scale=np.exp(lam), size=(n_samples)).T.flatten()\n",
    "y_event = y_time < 10 #rng.choice([1, 0], size=(n_samples), p=[0.5, 0.5]).astype(np.int_)\n",
    "y = np.vstack((y_time, y_event)).T\n"
   ]
  },
  {
   "cell_type": "code",
   "execution_count": 58,
   "id": "e565ed2d-0878-4a4b-afe3-687bc1e60c17",
   "metadata": {},
   "outputs": [
    {
     "data": {
      "text/plain": [
       "(array([38., 21., 16.,  7.,  6.,  5.,  1.,  3.,  3.,  2.]),\n",
       " array([10.02833955, 11.75692391, 13.48550826, 15.21409261, 16.94267696,\n",
       "        18.67126131, 20.39984566, 22.12843001, 23.85701436, 25.58559872,\n",
       "        27.31418307]),\n",
       " <BarContainer object of 10 artists>)"
      ]
     },
     "execution_count": 58,
     "metadata": {},
     "output_type": "execute_result"
    },
    {
     "data": {
      "image/png": "[encoded data removed]",
      "text/plain": [
       "<Figure size 432x288 with 1 Axes>"
      ]
     },
     "metadata": {
      "needs_background": "light"
     },
     "output_type": "display_data"
    }
   ],
   "source": [
    "plt.hist(y_time[y_event], color='red')\n",
    "plt.hist(y_time[~y_event], color='green')\n"
   ]
  },
  {
   "cell_type": "code",
   "execution_count": 45,
   "id": "d2688ab4-033a-4a66-beea-3a5dcc45c79e",
   "metadata": {},
   "outputs": [
    {
     "name": "stdout",
     "output_type": "stream",
     "text": [
      "(1000, 1) (1000, 2)\n"
     ]
    }
   ],
   "source": [
    "print(X.shape, y.shape)"
   ]
  },
  {
   "cell_type": "code",
   "execution_count": 59,
   "id": "a10b00ad-e249-4d79-88b2-43e0306c187a",
   "metadata": {},
   "outputs": [
    {
     "name": "stdout",
     "output_type": "stream",
     "text": [
      "0.002230758373541188 27.314183066815076\n",
      "float64\n",
      "float64\n",
      "float64 (1000,)\n",
      "bool (1000,)\n",
      "[1000] [1000] (1000,)\n"
     ]
    },
    {
     "name": "stderr",
     "output_type": "stream",
     "text": [
      "Auto-assigning NUTS sampler...\n",
      "Initializing NUTS using jitter+adapt_diag...\n",
      "Sequential sampling (2 chains in 1 job)\n",
      "NUTS: [lambda_intercept, k_intercept]\n"
     ]
    },
    {
     "data": {
      "text/html": [
       "\n",
       "<style>\n",
       "    /* Turns off some styling */\n",
       "    progress {\n",
       "        /* gets rid of default border in Firefox and Opera. */\n",
       "        border: none;\n",
       "        /* Needs to be in here for Safari polyfill so background images work as expected. */\n",
       "        background-size: auto;\n",
       "    }\n",
       "    .progress-bar-interrupted, .progress-bar-interrupted::-webkit-progress-bar {\n",
       "        background: #F44336;\n",
       "    }\n",
       "</style>\n"
      ],
      "text/plain": [
       "<IPython.core.display.HTML object>"
      ]
     },
     "metadata": {},
     "output_type": "display_data"
    },
    {
     "data": {
      "text/html": [
       "\n",
       "    <div>\n",
       "      <progress value='3000' class='' max='3000' style='width:300px; height:20px; vertical-align: middle;'></progress>\n",
       "      100.00% [3000/3000 00:13<00:00 Sampling chain 0, 0 divergences]\n",
       "    </div>\n",
       "    "
      ],
      "text/plain": [
       "<IPython.core.display.HTML object>"
      ]
     },
     "metadata": {},
     "output_type": "display_data"
    },
    {
     "data": {
      "text/html": [
       "\n",
       "<style>\n",
       "    /* Turns off some styling */\n",
       "    progress {\n",
       "        /* gets rid of default border in Firefox and Opera. */\n",
       "        border: none;\n",
       "        /* Needs to be in here for Safari polyfill so background images work as expected. */\n",
       "        background-size: auto;\n",
       "    }\n",
       "    .progress-bar-interrupted, .progress-bar-interrupted::-webkit-progress-bar {\n",
       "        background: #F44336;\n",
       "    }\n",
       "</style>\n"
      ],
      "text/plain": [
       "<IPython.core.display.HTML object>"
      ]
     },
     "metadata": {},
     "output_type": "display_data"
    },
    {
     "data": {
      "text/html": [
       "\n",
       "    <div>\n",
       "      <progress value='3000' class='' max='3000' style='width:300px; height:20px; vertical-align: middle;'></progress>\n",
       "      100.00% [3000/3000 00:16<00:00 Sampling chain 1, 0 divergences]\n",
       "    </div>\n",
       "    "
      ],
      "text/plain": [
       "<IPython.core.display.HTML object>"
      ]
     },
     "metadata": {},
     "output_type": "display_data"
    },
    {
     "name": "stderr",
     "output_type": "stream",
     "text": [
      "Sampling 2 chains for 1_000 tune and 2_000 draw iterations (2_000 + 4_000 draws total) took 30 seconds.\n"
     ]
    }
   ],
   "source": [
    "censor = (y[:, 1] == 0)\n",
    "time = y[:, 0]\n",
    "print(np.min(time), np.max(time))\n",
    "\n",
    "print(X.dtype)\n",
    "print(y.dtype)\n",
    "print(time.dtype, time.shape)\n",
    "print(censor.dtype, censor.shape)\n",
    "\n",
    "model = pm.Model()\n",
    "\n",
    "with model:\n",
    "    lambda_intercept = pm.Normal(\"lambda_intercept\", mu=0, sigma=10, shape=(1,))\n",
    "    k_intercept = pm.Normal('k_intercept', mu=0, sigma=10, shape=(1,))\n",
    "\n",
    "    lambda_ = pm.Deterministic(\"lambda_\", pm.math.exp(lambda_intercept + (0 * X).sum(axis=1)))\n",
    "    k_ = pm.Deterministic(\"k_\", pm.math.exp(k_intercept + (0 * X).sum(axis=1)))\n",
    "    print(k_.shape.eval(), lambda_.shape.eval(), time.shape)\n",
    "\n",
    "    y_uncens = pm.Weibull(\"y\", alpha=k_[~censor], beta=lambda_[~censor], observed=time[~censor])\n",
    "\n",
    "    def weibull_lccdf(x, alpha, beta):\n",
    "        \"\"\" Log complementary cdf of Weibull distribution. \"\"\"\n",
    "        return -((x / beta) ** alpha)\n",
    "\n",
    "    y_cens = pm.Potential(\"y_cens\", weibull_lccdf(time[censor], alpha=k_[censor], beta=lambda_[censor]))\n",
    "\n",
    "    trace = pm.sample(draws=2000, target_accept=0.85, chains=2, cores=1)\n",
    "\n",
    "summary = az.summary(trace, var_names=[\"lambda_coefs\", \"lambda_intercept\", \"k_intercept\", 'k_coefs'], filter_vars='like')"
   ]
  },
  {
   "cell_type": "code",
   "execution_count": 62,
   "id": "b83cc3ee-addf-4179-ad7b-a87d5e633c5d",
   "metadata": {},
   "outputs": [
    {
     "name": "stdout",
     "output_type": "stream",
     "text": [
      "                      mean     sd  hdi_3%  hdi_97%  mcse_mean  mcse_sd  \\\n",
      "lambda_intercept[0]  1.559  0.037   1.487    1.628      0.001      0.0   \n",
      "k_intercept[0]      -0.101  0.026  -0.151   -0.052      0.000      0.0   \n",
      "\n",
      "                     ess_bulk  ess_tail  r_hat  \n",
      "lambda_intercept[0]    3912.0    2762.0    1.0  \n",
      "k_intercept[0]         4169.0    2959.0    1.0  \n"
     ]
    }
   ],
   "source": [
    "print(summary)"
   ]
  },
  {
   "cell_type": "code",
   "execution_count": 64,
   "id": "c42ee4ca-113e-4127-b2b4-94e8e1e9cbd8",
   "metadata": {},
   "outputs": [
    {
     "data": {
      "text/plain": [
       "1.559"
      ]
     },
     "execution_count": 64,
     "metadata": {},
     "output_type": "execute_result"
    }
   ],
   "source": [
    "summary['mean']['lambda_intercept[0]']"
   ]
  },
  {
   "cell_type": "code",
   "execution_count": null,
   "id": "4788feaa-3574-48c8-9746-d8711ae32966",
   "metadata": {},
   "outputs": [],
   "source": []
  },
  {
   "cell_type": "code",
   "execution_count": null,
   "id": "01051633-bc0c-40d8-bbc3-1661ac6ca8d7",
   "metadata": {},
   "outputs": [],
   "source": []
  },
  {
   "cell_type": "code",
   "execution_count": 99,
   "id": "72bc5c71-ac66-402a-aef5-3d63243edd1c",
   "metadata": {},
   "outputs": [
    {
     "name": "stdout",
     "output_type": "stream",
     "text": [
      "(1000, 1) (1000, 2)\n"
     ]
    },
    {
     "data": {
      "text/plain": [
       "(array([249., 121.,  62.,  25.,  26.,   9.,   2.,   4.,   0.,   2.]),\n",
       " array([4.86271385e-03, 1.76052045e+00, 3.51617819e+00, 5.27183593e+00,\n",
       "        7.02749367e+00, 8.78315141e+00, 1.05388091e+01, 1.22944669e+01,\n",
       "        1.40501246e+01, 1.58057824e+01, 1.75614401e+01]),\n",
       " <BarContainer object of 10 artists>)"
      ]
     },
     "execution_count": 99,
     "metadata": {},
     "output_type": "execute_result"
    },
    {
     "data": {
      "image/png": "[encoded data removed]",
      "text/plain": [
       "<Figure size 432x288 with 1 Axes>"
      ]
     },
     "metadata": {
      "needs_background": "light"
     },
     "output_type": "display_data"
    }
   ],
   "source": [
    "rng = default_rng(seed=0)\n",
    "\n",
    "lam_trt = 2\n",
    "lam_ctrl = 1\n",
    "k = 1\n",
    "\n",
    "X = np.stack((np.zeros((int(n_samples/2))), np.ones((int(n_samples/2))))).flatten()\n",
    "X = np.expand_dims(X, axis=1)\n",
    "y_time_trt = sp.stats.weibull_min.rvs(c=np.exp(k), scale=np.exp(lam_trt), size=int(n_samples/2)).T.flatten()\n",
    "y_time_ctrl = sp.stats.weibull_min.rvs(c=np.exp(k), scale=np.exp(lam_ctrl), size=int(n_samples/2)).T.flatten()\n",
    "y_time = np.stack((y_time_ctrl, y_time_trt)).flatten()\n",
    "\n",
    "y_event = y_time < 15 #rng.choice([1, 0], size=(n_samples), p=[0.5, 0.5]).astype(np.int_)\n",
    "y = np.vstack((y_time, y_event)).T\n",
    "print(X.shape, y.shape)\n",
    "\n",
    "plt.hist(y_time[X[:,0]==1], color='red')\n",
    "plt.hist(y_time[X[:,0]==0], color='green')\n"
   ]
  },
  {
   "cell_type": "code",
   "execution_count": 100,
   "id": "0faedff5-876a-46e8-9f86-13809ca83a8b",
   "metadata": {},
   "outputs": [
    {
     "name": "stdout",
     "output_type": "stream",
     "text": [
      "0.004862713846071458 43.32880006546485\n",
      "float64 (1000, 1)\n",
      "float64\n",
      "float64 (1000,)\n",
      "bool (1000,)\n",
      "[1000] [1000] (1000,)\n"
     ]
    },
    {
     "name": "stderr",
     "output_type": "stream",
     "text": [
      "Auto-assigning NUTS sampler...\n",
      "Initializing NUTS using jitter+adapt_diag...\n",
      "Sequential sampling (2 chains in 1 job)\n",
      "NUTS: [lambda_intercept, k_intercept, lambda_coefs]\n"
     ]
    },
    {
     "data": {
      "text/html": [
       "\n",
       "<style>\n",
       "    /* Turns off some styling */\n",
       "    progress {\n",
       "        /* gets rid of default border in Firefox and Opera. */\n",
       "        border: none;\n",
       "        /* Needs to be in here for Safari polyfill so background images work as expected. */\n",
       "        background-size: auto;\n",
       "    }\n",
       "    .progress-bar-interrupted, .progress-bar-interrupted::-webkit-progress-bar {\n",
       "        background: #F44336;\n",
       "    }\n",
       "</style>\n"
      ],
      "text/plain": [
       "<IPython.core.display.HTML object>"
      ]
     },
     "metadata": {},
     "output_type": "display_data"
    },
    {
     "data": {
      "text/html": [
       "\n",
       "    <div>\n",
       "      <progress value='3000' class='' max='3000' style='width:300px; height:20px; vertical-align: middle;'></progress>\n",
       "      100.00% [3000/3000 00:21<00:00 Sampling chain 0, 0 divergences]\n",
       "    </div>\n",
       "    "
      ],
      "text/plain": [
       "<IPython.core.display.HTML object>"
      ]
     },
     "metadata": {},
     "output_type": "display_data"
    },
    {
     "data": {
      "text/html": [
       "\n",
       "<style>\n",
       "    /* Turns off some styling */\n",
       "    progress {\n",
       "        /* gets rid of default border in Firefox and Opera. */\n",
       "        border: none;\n",
       "        /* Needs to be in here for Safari polyfill so background images work as expected. */\n",
       "        background-size: auto;\n",
       "    }\n",
       "    .progress-bar-interrupted, .progress-bar-interrupted::-webkit-progress-bar {\n",
       "        background: #F44336;\n",
       "    }\n",
       "</style>\n"
      ],
      "text/plain": [
       "<IPython.core.display.HTML object>"
      ]
     },
     "metadata": {},
     "output_type": "display_data"
    },
    {
     "data": {
      "text/html": [
       "\n",
       "    <div>\n",
       "      <progress value='3000' class='' max='3000' style='width:300px; height:20px; vertical-align: middle;'></progress>\n",
       "      100.00% [3000/3000 00:23<00:00 Sampling chain 1, 0 divergences]\n",
       "    </div>\n",
       "    "
      ],
      "text/plain": [
       "<IPython.core.display.HTML object>"
      ]
     },
     "metadata": {},
     "output_type": "display_data"
    },
    {
     "name": "stderr",
     "output_type": "stream",
     "text": [
      "Sampling 2 chains for 1_000 tune and 2_000 draw iterations (2_000 + 4_000 draws total) took 45 seconds.\n"
     ]
    }
   ],
   "source": [
    "censor = (y[:, 1] == 0)\n",
    "time = y[:, 0]\n",
    "print(np.min(time), np.max(time))\n",
    "\n",
    "print(X.dtype, X.shape)\n",
    "print(y.dtype)\n",
    "print(time.dtype, time.shape)\n",
    "print(censor.dtype, censor.shape)\n",
    "\n",
    "model = pm.Model()\n",
    "\n",
    "with model:\n",
    "    lambda_intercept = pm.Normal(\"lambda_intercept\", mu=0, sigma=10, shape=(1,))\n",
    "    k_intercept = pm.Normal('k_intercept', mu=0, sigma=10, shape=(1,))\n",
    "\n",
    "    lambda_coefs = pm.Normal('lambda_coefs',\n",
    "                                     mu=0,\n",
    "                                     sigma=1, shape=(1,))\n",
    "    \n",
    "    lambda_ = pm.Deterministic(\"lambda_\", pm.math.exp(lambda_intercept + (lambda_coefs * X).sum(axis=1)))\n",
    "    k_ = pm.Deterministic(\"k_\", pm.math.exp(k_intercept + (0 * X).sum(axis=1)))\n",
    "    print(k_.shape.eval(), lambda_.shape.eval(), time.shape)\n",
    "\n",
    "    y_uncens = pm.Weibull(\"y\", alpha=k_[~censor], beta=lambda_[~censor], observed=time[~censor])\n",
    "\n",
    "    def weibull_lccdf(x, alpha, beta):\n",
    "        \"\"\" Log complementary cdf of Weibull distribution. \"\"\"\n",
    "        return -((x / beta) ** alpha)\n",
    "\n",
    "    y_cens = pm.Potential(\"y_cens\", weibull_lccdf(time[censor], alpha=k_[censor], beta=lambda_[censor]))\n",
    "\n",
    "    trace = pm.sample(draws=2000, target_accept=0.85, chains=2, cores=1)\n",
    "\n",
    "summary = az.summary(trace, var_names=[\"lambda_coefs\", \"lambda_intercept\", \"k_intercept\", 'k_coefs'], filter_vars='like')"
   ]
  },
  {
   "cell_type": "code",
   "execution_count": 101,
   "id": "0a1f6cf5-8ec0-490a-bd38-5b9b6788fbc3",
   "metadata": {},
   "outputs": [
    {
     "name": "stdout",
     "output_type": "stream",
     "text": [
      "                      mean     sd  hdi_3%  hdi_97%  mcse_mean  mcse_sd  \\\n",
      "lambda_intercept[0]  0.924  0.051   0.827    1.021      0.001    0.001   \n",
      "k_intercept[0]      -0.122  0.026  -0.172   -0.073      0.001    0.000   \n",
      "lambda_coefs[0]      1.233  0.074   1.102    1.378      0.001    0.001   \n",
      "\n",
      "                     ess_bulk  ess_tail  r_hat  \n",
      "lambda_intercept[0]    2424.0    2384.0    1.0  \n",
      "k_intercept[0]         2639.0    2654.0    1.0  \n",
      "lambda_coefs[0]        2544.0    2622.0    1.0  \n"
     ]
    }
   ],
   "source": [
    "print(summary)"
   ]
  },
  {
   "cell_type": "code",
   "execution_count": 107,
   "id": "1551f355-1269-4d8b-9287-973fb1811d5f",
   "metadata": {},
   "outputs": [
    {
     "data": {
      "text/plain": [
       "array([1., 1.])"
      ]
     },
     "execution_count": 107,
     "metadata": {},
     "output_type": "execute_result"
    }
   ],
   "source": [
    "y[[0, 99], 1]"
   ]
  },
  {
   "cell_type": "code",
   "execution_count": 108,
   "id": "b11de5bd-f1aa-47b4-bae4-d90954384176",
   "metadata": {},
   "outputs": [
    {
     "data": {
      "text/plain": [
       "array([[ 4.28737134,  1.        ],\n",
       "       [16.6668891 ,  0.        ],\n",
       "       [ 0.32351048,  1.        ],\n",
       "       ...,\n",
       "       [ 1.01699514,  1.        ],\n",
       "       [11.62230031,  1.        ],\n",
       "       [ 0.21281927,  1.        ]])"
      ]
     },
     "execution_count": 108,
     "metadata": {},
     "output_type": "execute_result"
    }
   ],
   "source": [
    "y"
   ]
  },
  {
   "cell_type": "code",
   "execution_count": 26,
   "id": "249076d3-6623-4c6f-a5f6-d9a93067678d",
   "metadata": {},
   "outputs": [
    {
     "data": {
      "image/png": "[encoded data removed]",
      "text/plain": [
       "<Figure size 432x288 with 1 Axes>"
      ]
     },
     "metadata": {
      "needs_background": "light"
     },
     "output_type": "display_data"
    }
   ],
   "source": [
    "t = np.linspace(0, 12, 100)\n",
    "\n",
    "S0 = sp.stats.weibull_min.sf\n",
    "\n",
    "plt.plot(t, S0(t, c=1, scale=8), label = f\"$\\kappa=1$, $\\lambda$=8\");\n",
    "plt.plot(t, S0(t, c=0.25, scale=8), label = f\"$\\kappa=0.25$, $\\lambda$=8\");\n",
    "plt.plot(t, S0(t, c=4, scale=8), label = f\"$\\kappa=4$, $\\lambda$=8\");\n",
    "plt.ylabel(\"Survival probability\")\n",
    "plt.xlabel(\"Months\")\n",
    "plt.title(\"Effect of $\\kappa$\")\n",
    "plt.legend();\n"
   ]
  },
  {
   "cell_type": "code",
   "execution_count": 25,
   "id": "57a9c626-ca55-4659-bfc8-7bbbdcd560e3",
   "metadata": {},
   "outputs": [
    {
     "data": {
      "image/png": "[encoded data removed]",
      "text/plain": [
       "<Figure size 432x288 with 1 Axes>"
      ]
     },
     "metadata": {
      "needs_background": "light"
     },
     "output_type": "display_data"
    }
   ],
   "source": [
    "t = np.linspace(0, 12, 100)\n",
    "\n",
    "S0 = sp.stats.weibull_min.sf\n",
    "\n",
    "plt.plot(t, S0(t, c=1, scale=1), label = f\"$\\kappa=1$, $\\lambda$=1\");\n",
    "plt.plot(t, S0(t, c=1, scale=5), label = f\"$\\kappa=1$, $\\lambda$=5\");\n",
    "plt.plot(t, S0(t, c=1, scale=10), label = f\"$\\kappa=1$, $\\lambda$=10\");\n",
    "plt.ylabel(\"Survival probability\")\n",
    "plt.xlabel(\"Months\")\n",
    "plt.title(\"Effect of $\\lambda$\")\n",
    "plt.legend();"
   ]
  },
  {
   "cell_type": "code",
   "execution_count": 5,
   "id": "e57baaf0-fab8-422f-b8e9-61f1305d66f8",
   "metadata": {},
   "outputs": [
    {
     "data": {
      "text/plain": [
       "array([ 0.        ,  0.12121212,  0.24242424,  0.36363636,  0.48484848,\n",
       "        0.60606061,  0.72727273,  0.84848485,  0.96969697,  1.09090909,\n",
       "        1.21212121,  1.33333333,  1.45454545,  1.57575758,  1.6969697 ,\n",
       "        1.81818182,  1.93939394,  2.06060606,  2.18181818,  2.3030303 ,\n",
       "        2.42424242,  2.54545455,  2.66666667,  2.78787879,  2.90909091,\n",
       "        3.03030303,  3.15151515,  3.27272727,  3.39393939,  3.51515152,\n",
       "        3.63636364,  3.75757576,  3.87878788,  4.        ,  4.12121212,\n",
       "        4.24242424,  4.36363636,  4.48484848,  4.60606061,  4.72727273,\n",
       "        4.84848485,  4.96969697,  5.09090909,  5.21212121,  5.33333333,\n",
       "        5.45454545,  5.57575758,  5.6969697 ,  5.81818182,  5.93939394,\n",
       "        6.06060606,  6.18181818,  6.3030303 ,  6.42424242,  6.54545455,\n",
       "        6.66666667,  6.78787879,  6.90909091,  7.03030303,  7.15151515,\n",
       "        7.27272727,  7.39393939,  7.51515152,  7.63636364,  7.75757576,\n",
       "        7.87878788,  8.        ,  8.12121212,  8.24242424,  8.36363636,\n",
       "        8.48484848,  8.60606061,  8.72727273,  8.84848485,  8.96969697,\n",
       "        9.09090909,  9.21212121,  9.33333333,  9.45454545,  9.57575758,\n",
       "        9.6969697 ,  9.81818182,  9.93939394, 10.06060606, 10.18181818,\n",
       "       10.3030303 , 10.42424242, 10.54545455, 10.66666667, 10.78787879,\n",
       "       10.90909091, 11.03030303, 11.15151515, 11.27272727, 11.39393939,\n",
       "       11.51515152, 11.63636364, 11.75757576, 11.87878788, 12.        ])"
      ]
     },
     "execution_count": 5,
     "metadata": {},
     "output_type": "execute_result"
    }
   ],
   "source": []
  },
  {
   "cell_type": "code",
   "execution_count": null,
   "id": "14f0ed15-1b2d-4616-932e-f984fa564f0e",
   "metadata": {},
   "outputs": [],
   "source": []
  }
 ],
 "metadata": {
  "kernelspec": {
   "display_name": "Python 3 (ipykernel)",
   "language": "python",
   "name": "python3"
  },
  "language_info": {
   "codemirror_mode": {
    "name": "ipython",
    "version": 3
   },
   "file_extension": ".py",
   "mimetype": "text/x-python",
   "name": "python",
   "nbconvert_exporter": "python",
   "pygments_lexer": "ipython3",
   "version": "3.10.8"
  }
 },
 "nbformat": 4,
 "nbformat_minor": 5
}
