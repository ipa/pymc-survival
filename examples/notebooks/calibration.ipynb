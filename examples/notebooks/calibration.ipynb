{
 "cells": [
  {
   "cell_type": "code",
   "execution_count": 6,
   "id": "e4ec9cac-e669-42dd-95f2-e9901dc3d921",
   "metadata": {},
   "outputs": [],
   "source": [
    "import sys\n",
    "sys.path.append('../experiments')"
   ]
  },
  {
   "cell_type": "code",
   "execution_count": 35,
   "id": "8f5c2d00-c876-40dd-ae49-a757a970107d",
   "metadata": {},
   "outputs": [
    {
     "name": "stdout",
     "output_type": "stream",
     "text": [
      "The autoreload extension is already loaded. To reload it, use:\n",
      "  %reload_ext autoreload\n"
     ]
    }
   ],
   "source": [
    "%load_ext autoreload\n",
    "%autoreload 2"
   ]
  },
  {
   "cell_type": "code",
   "execution_count": 62,
   "id": "404768df-c04b-431e-9183-5b5fd292811a",
   "metadata": {},
   "outputs": [],
   "source": [
    "import joblib\n",
    "import matplotlib.pyplot as plt\n",
    "from pmsurv.models.exponential_model import ExponentialModel\n",
    "import utils\n",
    "import numpy as np\n",
    "import pmsurv.utils"
   ]
  },
  {
   "cell_type": "code",
   "execution_count": 37,
   "id": "aced4ea0-3f31-4918-80bc-dff1ff999807",
   "metadata": {},
   "outputs": [],
   "source": [
    "data = joblib.load('best_models/exp/data.pkl')\n",
    "selector = joblib.load('best_models/exp/selector.pkl')\n",
    "model = ExponentialModel()\n",
    "model.load('best_models/exp/model.yaml')"
   ]
  },
  {
   "cell_type": "code",
   "execution_count": 47,
   "id": "e5329ce2-66be-4be9-9325-7adec7c854c0",
   "metadata": {},
   "outputs": [],
   "source": [
    "X_train, X_test, y_train, y_test = data"
   ]
  },
  {
   "cell_type": "code",
   "execution_count": 80,
   "id": "37162033-3415-4a85-9047-cf032abfc1ac",
   "metadata": {},
   "outputs": [
    {
     "name": "stderr",
     "output_type": "stream",
     "text": [
      "Sampling: []\n"
     ]
    }
   ],
   "source": [
    "X_selected = selector.transform(X_test)\n",
    "surv, _, _ = model.predict(X_selected)\n",
    "t_plot_e = pmsurv.utils.get_time_axis(0, model.max_time, 10)\n",
    "surv_med = t_plot_e[np.argmax(surv < 0.5, axis=1)]\n",
    "#surv_med = np.median(surv, axis=1)"
   ]
  },
  {
   "cell_type": "code",
   "execution_count": 84,
   "id": "aef3e4c4-e1ee-448d-8894-a85ba6a88d76",
   "metadata": {},
   "outputs": [
    {
     "data": {
      "text/plain": [
       "array([ 0,  5,  0,  0,  0,  0,  3,  0,  3,  0,  1,  3, 33,  3, 15,  4,  2,\n",
       "        3,  1,  0,  0,  0,  0,  0,  0, 11,  1,  0])"
      ]
     },
     "execution_count": 84,
     "metadata": {},
     "output_type": "execute_result"
    }
   ],
   "source": [
    "y_test[:, 0]"
   ]
  },
  {
   "cell_type": "code",
   "execution_count": 85,
   "id": "418bcb34-53fe-4e53-8456-71216b1b5a7f",
   "metadata": {},
   "outputs": [
    {
     "data": {
      "text/plain": [
       "(0.0, 6.0)"
      ]
     },
     "execution_count": 85,
     "metadata": {},
     "output_type": "execute_result"
    },
    {
     "data": {
      "image/png": "[encoded data removed]",
      "text/plain": [
       "<Figure size 640x480 with 1 Axes>"
      ]
     },
     "metadata": {},
     "output_type": "display_data"
    }
   ],
   "source": [
    "plt.scatter(y_test[:, 0], surv_med)\n",
    "plt.xlim(0, 6)\n",
    "plt.ylim(0, 6)"
   ]
  },
  {
   "cell_type": "code",
   "execution_count": null,
   "id": "b6e3eed8-455d-4a8b-a61b-a1545275f773",
   "metadata": {},
   "outputs": [],
   "source": []
  }
 ],
 "metadata": {
  "kernelspec": {
   "display_name": "Python 3 (ipykernel)",
   "language": "python",
   "name": "python3"
  },
  "language_info": {
   "codemirror_mode": {
    "name": "ipython",
    "version": 3
   },
   "file_extension": ".py",
   "mimetype": "text/x-python",
   "name": "python",
   "nbconvert_exporter": "python",
   "pygments_lexer": "ipython3",
   "version": "3.10.8"
  }
 },
 "nbformat": 4,
 "nbformat_minor": 5
}
